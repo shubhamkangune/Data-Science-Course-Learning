import json
# function to load the json data
def load_data(filename):
    with open(filename,"r") as f:
        return json.load(f)

# function to find pages a user might like based on common intrests
def find_people_you_might_like(user_id,data):
    # make dictionary to store user interactions with pages
    user_pages ={}
    for user in data['users']




