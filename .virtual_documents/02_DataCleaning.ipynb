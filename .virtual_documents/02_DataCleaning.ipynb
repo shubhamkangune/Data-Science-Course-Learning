print("hello")


import json


data


def clean_data(data):
    # remove user with missing names
    data['users'] = [user for user in data['users'] if user['name'].strip()]
    # remove dublicate friends
    for user in data['users']:
        user['friends'] = list(set(user['friends']))
    # remove inactive users
    data['users'] = [user for user in data['users'] if user['friends'] or user['liked_pages']]
    # remove dublicate pages

    unique_pages = {}
    for page in data['pages']:
        unique_pages[page['id']] = page
    data['pages'] = list(unique_pages.values())
    
    return data
# load data
data = json.load(open("data2.json"))
data = clean_data(data)
json.dump(data,open("cleaned_data.json","w"),indent = 4)

print("data has been cleaned successfully")




print("data is cleared")



