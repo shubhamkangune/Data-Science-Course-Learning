{
 "cells": [
  {
   "cell_type": "code",
   "execution_count": 2,
   "id": "d9154fb3-af55-4ec8-9e0f-c061ed942562",
   "metadata": {},
   "outputs": [
    {
     "name": "stdout",
     "output_type": "stream",
     "text": [
      "We are workin on plotly \n"
     ]
    }
   ],
   "source": [
    "print(\"We are workin on plotly \")"
   ]
  },
  {
   "cell_type": "code",
   "execution_count": null,
   "id": "9bbfb727-856d-4304-a0f1-df5a26b181bd",
   "metadata": {},
   "outputs": [],
   "source": [
    "i"
   ]
  }
 ],
 "metadata": {
  "kernelspec": {
   "display_name": "Python [conda env:digitalenv]",
   "language": "python",
   "name": "conda-env-digitalenv-py"
  },
  "language_info": {
   "codemirror_mode": {
    "name": "ipython",
    "version": 3
   },
   "file_extension": ".py",
   "mimetype": "text/x-python",
   "name": "python",
   "nbconvert_exporter": "python",
   "pygments_lexer": "ipython3",
   "version": "3.6.13"
  }
 },
 "nbformat": 4,
 "nbformat_minor": 5
}
