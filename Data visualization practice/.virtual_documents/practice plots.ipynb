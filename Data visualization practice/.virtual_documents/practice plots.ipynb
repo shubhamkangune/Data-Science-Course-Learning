import pandas as pd
import matplotlib.pyplot as plt
import seaborn as sns


# load the data
df = pd.read_csv("./datasets/diamonds.csv")
df.head()


# line plot
plt.plot(df['carat'], df['price'])
plt.title("create vs price line plot")
plt.xlabel("Carat")
plt.ylabel("Price")
plt.show()    


# scatter plot
plt.scatter(df["carat"], df["price"])
plt.title("create vs price line plot")
plt.xlabel("Carat")
plt.ylabel("Price")


# Bar plot
plt.bar(df["cut"].unique(),df.groupby("cut")["price"].mean())
plt.title("Average price by Cut")
plt.xlabel("Cut")
plt.ylabel("Average price")


# Histogram
plt.hist(df["price"],bins=20, edgecolor="black")
plt.title("Distribution of price")
plt.xlabel("Price")
plt.ylabel("Frequency")
plt.show()


# Box plot
plt.boxplot(df["carat"],vert=False)
plt.title("box plot of carat")
plt.xlabel("Carat")

plt.show()





# pie chart 
cut_counts = df['cut'].value_counts()
plt.pie(cut_counts,labels=cut_counts.index,autopct='%1.1f%%',startangle=90)
plt.show()


# pie chart of color
color_count = df['color'].value_counts()
color = color_count.index
plt.pie(color_count,labels=color,autopct="%1.1f%%",startangle=90)
plt.show()






# Heatmap of correlation matrix
correlation = df[['carat','depth','table','price','x','y','z']].corr()
plt.imshow(correlation,cmap="coolwarm",interpolation='none')
plt.colorbar()
plt.xticks(range(len(correlation)),correlation.columns, rotation=90)
plt.yticks()

plt.show()


range(len((correlation))


correlation



