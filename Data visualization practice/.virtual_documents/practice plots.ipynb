import pandas as pd
import matplotlib.pyplot as plt
import seaborn as sns


# load the data
df = pd.read_csv("./datasets/diamonds.csv")
df.head()


# line plot
plt.plot(df['carat'], df['price'])
plt.title("create vs price line plot")
plt.xlabel("Carat")
plt.ylabel("Price")
plt.show()    


# scatter plot
plt.scatter(df["carat"], df["price"])
plt.title("create vs price line plot")
plt.xlabel("Carat")
plt.ylabel("Price")


# Bar plot
plt.bar(df["cut"].unique(),df.groupby("cut")["price"].mean())
plt.title("Average price by Cut")
plt.xlabel("Cut")
plt.ylabel("Average price")


# Histogram
plt.hist(df["price"],bins=20, edgecolor="black")
plt.title("Distribution of price")
plt.xlabel("Price")
plt.ylabel("Frequency")
plt.show()


# Box plot
plt.boxplot(df["carat"],vert=False)
plt.title("box plot of carat")
plt.xlabel("Carat")

plt.show()





# pie chart 
cut_counts = df['cut'].value_counts()
plt.pie(cut_counts,labels=cut_counts.index,autopct='%1.1f%%',startangle=90)
plt.show()


# pie chart of color
color_count = df['color'].value_counts()
color = color_count.index
plt.pie(color_count,labels=color,autopct="%1.1f%%",startangle=90)
plt.show()



# Heatmap of correlation matrix
correlation = df[['carat','depth','table','price','x','y','z']].corr()
plt.imshow(correlation,cmap="coolwarm",interpolation='none')
plt.colorbar()
plt.xticks(range(len(correlation)),correlation.columns, rotation=90)
plt.yticks(range(len(correlation)),correlation.columns)
plt.title("Heatmap of Correlation Matrix")
plt.show()


df


# subplots
fig, axes = plt.subplots(2,2,figsize=(12,5))
axes = axes.ravel()

axes[0].hist(df['carat'],bins=10,edgecolor='black')
axes[0].set_title("Histrogram of carat")
axes[0].set_title("Histrogram of carat")

axes[1].hist(df['price'],bins=12,edgecolor="black")
axes[1].set_title("Histrogram of price")

axes[2].scatter(df['carat'],df['price'])
axes[2].set_title("Histrogram X dimentions")

axes[3].bar(df['cut'].unique(),df.groupby("cut")['price'].mean())
axes[3].set_title("Histrogram Y dimention")

plt.tight_layout()
plt.show()



df['cut'].unique(),df.groupby("cut")["price"].mean()



df.groupby("cut")["price"]



