import pandas as pd
import matplotlib.pyplot as plt
import seaborn as sns


# load the data
df = pd.read_csv("./datasets/diamonds.csv")
df.head()


# line plot
plt.plot(df['carat'], df['price'])
plt.title("create vs price line plot")
plt.xlabel("Carat")
plt.ylabel("Price")
plt.show()    


# scatter plot
plt.scatter(df["carat"], df["price"])
plt.title("create vs price line plot")
plt.xlabel("Carat")
plt.ylabel("Price")


# Bar plot
plt.bar(df["cut"],df["price"])



