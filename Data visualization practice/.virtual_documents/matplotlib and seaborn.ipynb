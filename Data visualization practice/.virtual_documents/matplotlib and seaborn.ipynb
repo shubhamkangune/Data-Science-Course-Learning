import pandas as pd
import matplotlib.pyplot as plt
import seaborn as sns


# load the data
df = pd.read_csv("./datasets/diamonds.csv")
df.head()





# line plot
plt.plot(df['carat'], df['price'])
plt.title("create vs price line plot")
plt.xlabel("Carat")
plt.ylabel("Price")
plt.show()    


# scatter plot
plt.scatter(df["carat"], df["price"])
plt.title("create vs price line plot")
plt.xlabel("Carat")
plt.ylabel("Price")


# Bar plot
plt.bar(df["cut"].unique(),df.groupby("cut")["price"].mean())
plt.title("Average price by Cut")
plt.xlabel("Cut")
plt.ylabel("Average price")


# Histogram
plt.hist(df["price"],bins=20, edgecolor="black")
plt.title("Distribution of price")
plt.xlabel("Price")
plt.ylabel("Frequency")
plt.show()


# Box plot
plt.boxplot(df["carat"],vert=False)
plt.title("box plot of carat")
plt.xlabel("Carat")

plt.show()





# pie chart 
cut_counts = df['cut'].value_counts()
plt.pie(cut_counts,labels=cut_counts.index,autopct='%1.1f%%',startangle=90)
plt.show()


# pie chart of color
color_count = df['color'].value_counts()
color = color_count.index
plt.pie(color_count,labels=color,autopct="%1.1f%%",startangle=90)
plt.show()



# Heatmap of correlation matrix
correlation = df[['carat','depth','table','price','x','y','z']].corr()
plt.imshow(correlation,cmap="coolwarm",interpolation='none')
plt.colorbar()
plt.xticks(range(len(correlation)),correlation.columns, rotation=90)
plt.yticks(range(len(correlation)),correlation.columns)
plt.title("Heatmap of Correlation Matrix")
plt.show()


df


# subplots
fig, axes = plt.subplots(2,2,figsize=(12,10))
axes = axes.ravel()

# axes[0].hist(df['carat'],bins=10,edgecolor='black')
# axes[0].set_title("Histrogram of carat")
# axes[0].set_xlabel("Carat")
# axes[0].set_ylabel("Frequency")

axes[0].hist(df['price'],bins=12,edgecolor="black")
axes[0].set_title("Histrogram of price")
axes[0].set_xlabel("Price")
axes[0].set_ylabel("Frequency")

cut_counts = df['cut'].value_counts()
axes[1].pie(cut_counts,labels=cut_counts.index,autopct='%1.1f%%',startangle=90)
axes[1].set_title("Pie Chart of Cuts")

axes[2].scatter(df['carat'],df['price'])
axes[2].set_title("Histrogram X dimentions")
axes[2].set_xlabel("Carat")
axes[2].set_ylabel("Price")

axes[3].bar(df['cut'].unique(),df.groupby("cut")['price'].mean())
axes[3].set_title("Histrogram Y dimention")
axes[3].set_xlabel("Cut")
axes[3].set_ylabel("Average Price")

plt.tight_layout()
plt.show()



df['cut'].unique(),df.groupby("cut")["price"].mean()



df.groupby("cut")["price"].mean()





df.head()


# seaborn scatter plot
sns.scatterplot(x="carat",y="price",data=df)
plt.show()


# add hue
sns.scatterplot(x="carat",y="price",data=df,hue="cut")
plt.show()


# line plot
sns.lineplot(x="carat",y="price",data=df)
plt.title("Seaborn line plot vs carat ")
plt.show()


# seaborn line plot
sns.lineplot(x="carat",y="price",data=df,hue="cut")
plt.title("Seaborn line plot vs carat with hue='cut'")

plt.show()


g = sns.FacetGrid(df,col='cut',col_wrap=3,height=4)
g.map(sns.lineplot,"carat","price")
g.add_legend()
plt.show()


import time
start = time.time()
figure = plt.figure(figsize=(12,3))
sns.lineplot(x='carat',y='price',hue='cut',data=df)
plt.title("Seaborn line plot carat vs price")
end = time.time()
print(end-start)



# box plot by using sns
sns.boxplot(x= 'cut',y='price',data=df)
plt.title("Box plot of Price by Cut")
plt.show()


fugure = plt.figure(figsize=(12,3))
sns.boxplot(x='cut',y="price",data=df,hue='color')
plt.title("Box plot of Price by Cut")
plt.show()


# violin plot
sns.violinplot(x="cut",y='price',data=df)
plt.title("Violin plot of Price by Cut")
plt.show()


df.head()



sns.countplot(x='cut',data=df)
plt.title("Count plot of Cut")
plt.show()


figure = plt.figure(figsize=(12,3))
sns.countplot(x='cut',data=df,hue="color")
plt.title("Count plot of Cut")
plt.show()


df.head()



# Pair plot
sns.pairplot(df,hue="cut")
plt.title("Pair Plot of Diamond Attribute")
plt.show()


g = sns.FacetGrid(df,col="color",col_wrap=3)
g.map(plt.hist,'price',bins=10,edgecolor='black')
plt.show()


# Setting seaborn style
sns.set_style('whitegrid')



