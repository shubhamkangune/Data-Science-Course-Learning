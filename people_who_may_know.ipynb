{
 "cells": [
  {
   "cell_type": "code",
   "execution_count": 57,
   "id": "df56fd95-1ec5-42b8-bf02-8393bce4ef53",
   "metadata": {},
   "outputs": [
    {
     "name": "stdout",
     "output_type": "stream",
     "text": [
      "this is suggestions:  [[(6, 3), (5, 2), (9, 2), (13, 1), (10, 1), (14, 1)]]\n",
      "[6, 5, 9, 13, 10, 14]\n"
     ]
    }
   ],
   "source": [
    "import json\n",
    "def load_data(filename):\n",
    "    with open(filename,\"r\") as f:\n",
    "        return json.load(f)\n",
    "def find_people_you_may_know(user_id, data):\n",
    "    user_friends = {}\n",
    "    for user in data['users']:\n",
    "        user_friends[user['id']] = set(user['friends'])\n",
    "    if user_id not in user_friends:\n",
    "        return []\n",
    "\n",
    "    direct_friends = user_friends[user_id]\n",
    "\n",
    "    suggestions = {}\n",
    "    for friend in direct_friends:\n",
    "        for mutual in user_friends[friend]:\n",
    "            if mutual != user_id and mutual not in direct_friends:\n",
    "                # count mutual friends \n",
    "                suggestions[mutual] = suggestions.get(mutual, 0) +1\n",
    "    sorted_suggestions = sorted(suggestions.items(), key=lambda x:x[1], reverse=True)\n",
    "\n",
    "    print(\"this is suggestions: \", [sorted_suggestions])\n",
    "    \n",
    "    return [user_id for user_id, mutual_count in sorted_suggestions]\n",
    "# load data\n",
    "data = load_data(\"massive_data.json\")\n",
    "user_id = 3\n",
    "recc = find_people_you_may_know(user_id,data)\n",
    "print(recc)"
   ]
  },
  {
   "cell_type": "code",
   "execution_count": null,
   "id": "ee2505bd-72dc-489d-a718-4e088742f7d4",
   "metadata": {},
   "outputs": [],
   "source": []
  }
 ],
 "metadata": {
  "kernelspec": {
   "display_name": "Python [conda env:base] *",
   "language": "python",
   "name": "conda-base-py"
  },
  "language_info": {
   "codemirror_mode": {
    "name": "ipython",
    "version": 3
   },
   "file_extension": ".py",
   "mimetype": "text/x-python",
   "name": "python",
   "nbconvert_exporter": "python",
   "pygments_lexer": "ipython3",
   "version": "3.12.7"
  }
 },
 "nbformat": 4,
 "nbformat_minor": 5
}
