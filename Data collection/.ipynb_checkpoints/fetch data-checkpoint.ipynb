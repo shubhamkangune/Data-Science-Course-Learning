{
 "cells": [
  {
   "cell_type": "code",
   "execution_count": 1,
   "id": "bcbd8ca4-1d17-4b0c-ad8d-d37a99c69519",
   "metadata": {},
   "outputs": [],
   "source": [
    "import requests\n"
   ]
  },
  {
   "cell_type": "code",
   "execution_count": 2,
   "id": "d85ecc1c-75db-4c2e-adbb-26b326ed971e",
   "metadata": {},
   "outputs": [],
   "source": [
    "\n",
    "a = requests.get(\"https://books.toscrape.com/\")\n",
    "if requests.status_codes == 200:\n",
    "    print(\"done\")"
   ]
  },
  {
   "cell_type": "code",
   "execution_count": 3,
   "id": "004199a4-3778-40cc-a88b-259f9050d6bf",
   "metadata": {},
   "outputs": [
    {
     "name": "stdout",
     "output_type": "stream",
     "text": [
      "donee\n"
     ]
    }
   ],
   "source": [
    "if a.status_code == 200:\n",
    "    print(\"donee\")"
   ]
  },
  {
   "cell_type": "code",
   "execution_count": 4,
   "id": "8e2f443e-cb31-4579-884f-d269a6492ced",
   "metadata": {},
   "outputs": [
    {
     "name": "stdout",
     "output_type": "stream",
     "text": [
      "hello 1\n",
      "fetch successfully1\n",
      "hello 2\n",
      "fetch successfully2\n",
      "hello 3\n",
      "fetch successfully3\n",
      "hello 4\n",
      "fetch successfully4\n",
      "hello 5\n",
      "fetch successfully5\n",
      "hello 6\n",
      "fetch successfully6\n",
      "hello 7\n",
      "fetch successfully7\n",
      "hello 8\n",
      "fetch successfully8\n",
      "hello 9\n",
      "fetch successfully9\n",
      "hello 10\n",
      "fetch successfully10\n",
      "hello 11\n",
      "fetch successfully11\n",
      "hello 12\n",
      "fetch successfully12\n",
      "hello 13\n",
      "fetch successfully13\n",
      "hello 14\n",
      "fetch successfully14\n",
      "hello 15\n",
      "fetch successfully15\n",
      "hello 16\n",
      "fetch successfully16\n",
      "hello 17\n",
      "fetch successfully17\n",
      "hello 18\n",
      "fetch successfully18\n",
      "hello 19\n",
      "fetch successfully19\n",
      "hello 20\n",
      "fetch successfully20\n",
      "hello 21\n",
      "fetch successfully21\n",
      "hello 22\n",
      "fetch successfully22\n",
      "hello 23\n",
      "fetch successfully23\n",
      "hello 24\n",
      "fetch successfully24\n",
      "hello 25\n",
      "fetch successfully25\n",
      "hello 26\n",
      "fetch successfully26\n",
      "hello 27\n",
      "fetch successfully27\n",
      "hello 28\n",
      "fetch successfully28\n",
      "hello 29\n",
      "fetch successfully29\n",
      "hello 30\n",
      "fetch successfully30\n",
      "hello 31\n",
      "fetch successfully31\n",
      "hello 32\n",
      "fetch successfully32\n",
      "hello 33\n",
      "fetch successfully33\n",
      "hello 34\n",
      "fetch successfully34\n",
      "hello 35\n",
      "fetch successfully35\n",
      "hello 36\n",
      "fetch successfully36\n",
      "hello 37\n",
      "fetch successfully37\n",
      "hello 38\n",
      "fetch successfully38\n",
      "hello 39\n",
      "fetch successfully39\n",
      "hello 40\n",
      "fetch successfully40\n",
      "hello 41\n",
      "fetch successfully41\n",
      "hello 42\n",
      "fetch successfully42\n",
      "hello 43\n",
      "fetch successfully43\n",
      "hello 44\n",
      "fetch successfully44\n",
      "hello 45\n",
      "fetch successfully45\n",
      "hello 46\n",
      "fetch successfully46\n",
      "hello 47\n",
      "fetch successfully47\n",
      "hello 48\n",
      "fetch successfully48\n",
      "hello 49\n",
      "fetch successfully49\n",
      "hello 50\n",
      "fetch successfully50\n"
     ]
    }
   ],
   "source": [
    "import requests\n",
    "print(\"start\")\n",
    "for i in range(1,51):\n",
    "    a = requests.get(f\"https://books.toscrape.com/catalogue/page-{i}.html\")\n",
    "    with open(f\"htmls/page{i}.html\",\"w\",encoding=\"utf-8\") as f:\n",
    "        f.write(a.text)\n",
    "print(\"end\")\n"
   ]
  },
  {
   "cell_type": "code",
   "execution_count": null,
   "id": "9ea64b1c-3e04-423f-be7b-0ca3adb2898d",
   "metadata": {},
   "outputs": [],
   "source": []
  }
 ],
 "metadata": {
  "kernelspec": {
   "display_name": "Python [conda env:base] *",
   "language": "python",
   "name": "conda-base-py"
  },
  "language_info": {
   "codemirror_mode": {
    "name": "ipython",
    "version": 3
   },
   "file_extension": ".py",
   "mimetype": "text/x-python",
   "name": "python",
   "nbconvert_exporter": "python",
   "pygments_lexer": "ipython3",
   "version": "3.12.7"
  }
 },
 "nbformat": 4,
 "nbformat_minor": 5
}
