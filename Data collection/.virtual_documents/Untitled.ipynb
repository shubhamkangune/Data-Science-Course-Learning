from bs4 import BeautifulSoup


with open("htmls/page1.html","r") as f:
    content = f.read()


soup = BeautifulSoup(content,"html.parser")


h3s = soup.find_all("h3")



articals = soup.select("article.product_pod")



items = []
for artical in articals:
    title = artical.find("h3").find("a")['title']
    price = artical.select_one("p.price_color").text.split("£")[1]
    rating_element = artical.select_one("p.star-rating")
    rating = rating_element['class'][1]
    
    # print(classes)
    items.append([title,price,rating])



import pandas as pd 



df = pd.DataFrame(items,columns=["Book Title","Price","Rating"])
df


df.to_csv("data.csv",index=False)



