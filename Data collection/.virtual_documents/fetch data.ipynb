import requests




a = requests.get("https://books.toscrape.com/")
if requests.status_codes == 200:
    print("done")


if a.status_code == 200:
    print("donee")


import requests
print("start")
for i in range(1,51):
    a = requests.get(f"https://books.toscrape.com/catalogue/page-{i}.html")
    with open(f"htmls/page{i}.html","w",encoding="utf-8") as f:
        f.write(a.text)
print("end")




