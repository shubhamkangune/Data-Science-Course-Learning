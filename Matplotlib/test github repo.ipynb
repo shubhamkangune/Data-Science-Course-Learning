{
 "cells": [
  {
   "cell_type": "code",
   "execution_count": 1,
   "id": "a58fcf5d-534b-4e64-9804-07cc35f74479",
   "metadata": {},
   "outputs": [
    {
     "name": "stdout",
     "output_type": "stream",
     "text": [
      "we have testing the github repo\n"
     ]
    }
   ],
   "source": [
    "print(\"we have testing the github repo\")"
   ]
  },
  {
   "cell_type": "code",
   "execution_count": null,
   "id": "fa7fd8c6-a539-4743-aa78-74d1159faabb",
   "metadata": {},
   "outputs": [],
   "source": []
  }
 ],
 "metadata": {
  "kernelspec": {
   "display_name": "Python [conda env:base] *",
   "language": "python",
   "name": "conda-base-py"
  },
  "language_info": {
   "codemirror_mode": {
    "name": "ipython",
    "version": 3
   },
   "file_extension": ".py",
   "mimetype": "text/x-python",
   "name": "python",
   "nbconvert_exporter": "python",
   "pygments_lexer": "ipython3",
   "version": "3.12.7"
  }
 },
 "nbformat": 4,
 "nbformat_minor": 5
}
