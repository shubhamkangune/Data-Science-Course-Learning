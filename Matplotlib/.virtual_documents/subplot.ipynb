import matplotlib.pyplot as plt


x = [1, 2, 3, 4, 5,6,7,8,9,10,11,12]
y1 = [i * 2 for i in x]
y2 = [i ** 2 for i in x]
y3 = [i ** 0.5 for i in x]
y4 = [10 - i for i in x]


y3


y2


plt.subplot(2,2,1)
plt.plot(x,y1)
plt.title("Double of x")
plt.tight_layout()

plt.subplot(2,2,2)
plt.plot(x,y2)
plt.title("Square of x")
plt.xlabel("Number")
plt.ylabel("Square of Nuber")

plt.subplot(2,2,3)
plt.plot(x,y3)
plt.title("sqrt(x)")
plt.xlabel("Number")
plt.ylabel("sqrt of Number")

plt.subplot(2,2,4)
plt.plot(x,y4)
plt.title("10-i")
plt.xlabel("Number")
plt.ylabel("(10-number) of Number")



plt.tight_layout()
plt.show()


fig, axs = plt.subplot(1,2,figsixe=(10,4))




