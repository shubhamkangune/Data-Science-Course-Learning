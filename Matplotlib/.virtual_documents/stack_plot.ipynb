import matplotlib.pyplot as plt



activities = ['studying','playing','watching tv','sleeping']


time_spend = [4,2,3,6]


colors = ['blue','yellow','red','pink']


plt.figure(figsize=(6,6))
plt.pie(time_spend,labels=activities,colors=colors,startangle=90,autopct='%1.1f%%')
plt.title("student Daily activity")
plt.axis("equal")
plt.show()


days = [1, 2, 3, 4, 5, 6, 7]  # Days of the week
studying = [3, 4, 3, 5, 4, 3, 4]
playing = [2, 2, 1, 1, 2, 3, 2]
watching_tv = [2, 1, 2, 2, 1, 1, 1]
sleeping = [5, 5, 6, 5, 6, 5, 5]


activities = ['studying','playing','watching tv','sleeping']


colors = ['blue','yellow','red','pink']



plt.figure(figsize=(20,8))
plt.stackplot(days,studying,playing,watching_tv,sleeping,labels=activities,colors=colors,alpha=0.6)
plt.legend(loc="upper left")
plt.xlabel("days")
plt.ylabel("no of hour")
plt.grid()
plt.show()



