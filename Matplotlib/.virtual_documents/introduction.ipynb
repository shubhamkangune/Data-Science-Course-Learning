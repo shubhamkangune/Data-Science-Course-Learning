import matplotlib.pyplot as plt



plt.plot([0,1,2,3,4],[0,2,1,0,5])



plt.show(plt.plot([0,1,2,3,4],[0,2,1,0,5]))


years = [1990, 1992, 1994, 1996, 1998, 2000, 2003, 2005, 2007, 2010]
runs =  [500, 700, 1100, 1500, 1800, 1200, 1700, 1300, 900, 1500]




plt.plot(years,runs)
plt.xlabel("Year")
plt.ylabel("Runs scored")
plt.title("Dhoni yearly runs")


kohli = [0, 0, 500, 800, 1100, 1300, 1500, 1800, 1900, 2100]
sehwag = [0, 300, 800, 1200, 1500, 1700, 1600, 1400, 1000, 0]



plt.plot(years,kohli, label="Virat kohli")
plt.plot(years,sehwag, label="Virendar sehwag")
plt.xlabel("Years")
plt.ylabel("Runs scored")
plt.title("Cricket score yearly")
plt.legend()



