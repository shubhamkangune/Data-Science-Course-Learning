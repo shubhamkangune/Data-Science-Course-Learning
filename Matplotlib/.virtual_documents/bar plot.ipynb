import matplotlib.pyplot as plt


years = [1990, 1992, 1994, 1996, 1998, 2000, 2003, 2005, 2007, 2010]
runs =  [500, 700, 1100, 1500, 1800, 1200, 1700, 1300, 900, 1500]


plt.bar(years,runs)
plt.title("Dhoni yearly runs")

plt.xlabel("Years")
plt.ylabel("Runs of per year")
plt.show()


import numpy as np

sachin = [500, 700, 1100, 1500, 1800, 1200, 1700, 1300, 900, 1500]
sehwag = [100, 200, 900, 1400, 1600, 1800, 1500, 1100, 800, 1000]
kohli  = [200, 150, 500, 800, 1100, 1300, 1500, 1800, 1900, 2100]

x = np.arange(len(years))
width = 0.25




plt.bar(x-width, sachin, width=width, label="Sachin")
plt.bar(x, sehwag, width=width, label="sehwag")
plt.bar(x+width, kohli, width=width, label="kohli")
plt.legend()
plt.xticks(x,years)

plt.show()


import numpy as np 


a = np.random.rand(1,5).flatten()
b = np.random.rand(1,5).flatten()
plt.bar(a,b)
plt.show()





a = np.arange(1,10)
a


import matplotlib.pyplot as plt
import numpy as np


a = np.arange(1,10)
b = np.random.rand()


import numpy as np

sachin = [500, 700, 1100, 1500, 1800, 1200, 1700, 1300, 900, 1500]
sehwag = [0, 200, 900, 1400, 1600, 1800, 1500, 1100, 800, 0]
kohli  = [0, 0, 500, 800, 1100, 1300, 1500, 1800, 1900, 2100]




players = ["Sachin","Kohli","Dhoni","Hardik"]
runs_5year = [500+ 700+ 1100, 500+600+800, 800+900+400,800+700+500]
plt.barh(players,runs_5year, color="skyblue")
plt.xlabel("runs")
plt.ylabel("Batsman")
plt.title("Batsman Performance")
plt.tight_layout()



sachin = [500, 700, 1100, 1500, 1800, 1200, 1700, 1300, 900, 1500]
sehwag = [100, 200, 900, 1400, 1600, 1800, 1500, 1100, 800, 1000]
kohli  = [200, 150, 500, 800, 1100, 1300, 1500, 1800, 1900, 2100]

plt.bar(years,sachin,width=1.5)
for i in range(len(years)):
    plt.text(years[i],sachin[i]+30,str(sachin[i]),ha="center")



import pandas as pd
years = [1990, 1992, 1994, 1996, 1998, 2000, 2003, 2005, 2007, 2010]
sachin = [500, 700, 1100, 1500, 1800, 1200, 1700, 1300, 900, 1500]
sehwag = [100, 200, 900, 1400, 1600, 1800, 1500, 1100, 800, 1000]
kohli  = [200, 150, 500, 800, 1100, 1300, 1500, 1800, 1900, 2100]



df = pd.DataFrame(
    "years" : years,
    "sachin" :sachin,
    "sehwag" : sehwag,
    "kohli" :kohli
)


import pandas as pd
import matplotlib.pyplot as plt

# Data
years = [1990, 1992, 1994, 1996, 1998, 2000, 2003, 2005, 2007, 2010]
sachin = [500, 700, 1100, 1500, 1800, 1200, 1700, 1300, 900, 1500]
sehwag = [100, 200, 900, 1400, 1600, 1800, 1500, 1100, 800, 1000]
kohli  = [200, 150, 500, 800, 1100, 1300, 1500, 1800, 1900, 2100]

# Create DataFrame
df = pd.DataFrame({
    "Year": years,
    "Sachin": sachin,
    "Sehwag": sehwag,
    "Kohli": kohli
})

# Select first 5 rows (i.e. first 5 years)
df_subset = df.head(5)

# Plot bar chart
df_subset.plot(x="Year", kind="bar", figsize=(8,5), width=0.7)
plt.title("Runs in First 5 Years")
plt.ylabel("Runs")
plt.xticks(rotation=0)
plt.tight_layout()
plt.show()




