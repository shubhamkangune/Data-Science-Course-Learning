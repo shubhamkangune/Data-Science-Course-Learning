import matplotlib.pyplot as plt


x = [1, 2, 3, 4, 5]
y1 = [i * 2 for i in x]
y2 = [i ** 2 for i in x]


y1


y2


plt.subplot(1,2,1)



