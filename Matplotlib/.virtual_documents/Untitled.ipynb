import seaborn as sns
import numpy as np
import pandas as pd


sns.set_theme(style="darkgrid")


x = np.array([1,2,3,6,4,5,9,7,8,5,4,142,5,3,63,6,9,45,59,65,85,52,36,45,98,74,56,32,123])


y = np.sin(x)


sns.lineplot(x=x,y=y)


import seaborn as sns
import pandas as pd

print(sns.get_dataset_names())


sns.get_dataset_names()


tips = sns.load_dataset("tips")


head = tips.head().copy()
tail = tips.tail().copy()
new_tips = pd.concat([head,tail]) #we have added first 5 and last 5 rows to get the data to calculate the diffrance of getting tip form costomer to waiter
new_tips 


import matplotlib.pyplot as plt
sns.barplot(x = "total_bill",y= "tip",data=new_tips,color="red")
plt.title("Line plot")
plt.xlabel("Total Bill")
plt.ylabel("Total Tip")




import matplotlib.pyplot as plt
import seaborn as sns
import pandas as pd

# Assuming tips is already defined
head = tips.head().copy()
tail = tips.tail().copy()
new_tips = pd.concat([head, tail])

# Plot
sns.barplot(x="total_bill", y="tip", data=new_tips, color="red")
plt.title("Bar Plot of Tip vs Total Bill")  # Changed title to match the plot type
plt.xlabel("Total Bill")
plt.ylabel("Tip")
plt.show()



flights = sns.load_dataset("flights")


flights




pv = flights.pivot(index="month",columns="year",values="passengers")


pv


sns.heatmap(pv,annot=True,fmt="d",cmap="YlGnBu")



