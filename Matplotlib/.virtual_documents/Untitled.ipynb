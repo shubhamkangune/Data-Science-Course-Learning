import matplotlib.pyplot as plt


plt.style.use("ggplot")


# Data
labels = ["Sachin", "Sehwag", "Kohli", "Yuvraj"]
runs = [18000, 8000, 12000, 9500]




