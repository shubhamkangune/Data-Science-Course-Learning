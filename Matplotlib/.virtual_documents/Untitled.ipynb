import matplotlib.pyplot as plt


data = [21,5,96,85,55,69,6,12,65,98,78,63,21,54,6,20,120,30,10,80,60,4,55,20,30,60,90,70,60,80,50,92]


plt.hist(data,bins=5,edgecolor="black")
plt.xlabel("Marks")
plt.ylabel("frequency")
plt.title("Marks table")



data = [21,5,96,85,55,69,6,12,65,98,78,63,21,54,6,20,120,30,10,80,60,4,55,20,30,60,90,70,60,80,50,92]



bins = [10,20,30,40,50,60,70,80,90,100]


plt.hist(data,bins=bins,edgecolor="black")



