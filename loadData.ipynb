{
 "cells": [
  {
   "cell_type": "code",
   "execution_count": 1,
   "id": "fbe428c2-4bae-4e59-8f2b-52f9bac26699",
   "metadata": {},
   "outputs": [
    {
     "name": "stdout",
     "output_type": "stream",
     "text": [
      "Hello sk\n"
     ]
    }
   ],
   "source": [
    "print(\"Hello sk\")"
   ]
  },
  {
   "cell_type": "code",
   "execution_count": 33,
   "id": "db866efa-3f56-48b7-afb8-2988a9d0603a",
   "metadata": {},
   "outputs": [],
   "source": [
    "def loadData(fileName):\n",
    "    with open(fileName,\"r\") as f:\n",
    "        data = json.load(f)\n",
    "    return data"
   ]
  },
  {
   "cell_type": "code",
   "execution_count": 35,
   "id": "ffdabcdd-bca8-4388-b446-647519d02590",
   "metadata": {},
   "outputs": [],
   "source": [
    "data = loadData(\"data.json\")"
   ]
  },
  {
   "cell_type": "code",
   "execution_count": 37,
   "id": "78718b01-a5e1-4155-bce9-4c2cd87c9005",
   "metadata": {},
   "outputs": [
    {
     "data": {
      "text/plain": [
       "{'users': [{'id': 1, 'name': 'Amit', 'friends': [2, 3], 'liked_pages': [101]},\n",
       "  {'id': 2, 'name': 'Priya', 'friends': [1, 4], 'liked_pages': [102]},\n",
       "  {'id': 3, 'name': 'Rahul', 'friends': [1], 'liked_pages': [101, 103]},\n",
       "  {'id': 4, 'name': 'Sara', 'friends': [2], 'liked_pages': [104]}],\n",
       " 'pages': [{'id': 101, 'name': 'Python Developers'},\n",
       "  {'id': 102, 'name': 'Data Science Enthusiasts'},\n",
       "  {'id': 103, 'name': 'AI & ML Community'},\n",
       "  {'id': 104, 'name': 'Web Dev Hub'}]}"
      ]
     },
     "execution_count": 37,
     "metadata": {},
     "output_type": "execute_result"
    }
   ],
   "source": [
    "data"
   ]
  },
  {
   "cell_type": "code",
   "execution_count": 39,
   "id": "6e798b27-68f1-48bb-bcf0-4330ee2b9c52",
   "metadata": {},
   "outputs": [
    {
     "data": {
      "text/plain": [
       "dict"
      ]
     },
     "execution_count": 39,
     "metadata": {},
     "output_type": "execute_result"
    }
   ],
   "source": [
    "type(data)"
   ]
  },
  {
   "cell_type": "code",
   "execution_count": 55,
   "id": "f2e86cde-b895-4bf7-9d4d-ff06a6cbf859",
   "metadata": {},
   "outputs": [
    {
     "name": "stdout",
     "output_type": "stream",
     "text": [
      "Users and their connections\n",
      "\n",
      "Amit is friends with: [2, 3] and liked pages are [101]\n",
      "Priya is friends with: [1, 4] and liked pages are [102]\n",
      "Rahul is friends with: [1] and liked pages are [101, 103]\n",
      "Sara is friends with: [2] and liked pages are [104]\n",
      "pages Information\n",
      "101: Python Developers \n",
      "102: Data Science Enthusiasts \n",
      "103: AI & ML Community \n",
      "104: Web Dev Hub \n"
     ]
    }
   ],
   "source": [
    "# display users and their connection, write a function \n",
    "def display_users(data):\n",
    "    print(\"Users and their connections\\n\")\n",
    "    for user in data['users']:\n",
    "        print(f\"{user['name']} is friends with: {user['friends']} and liked pages are {user['liked_pages']}\")\n",
    "    print(\"pages Information\")\n",
    "    for page in data['pages']:\n",
    "        print(f\"{page['id']}: {page['name']} \")\n",
    "\n",
    "display_users(data)\n",
    "    "
   ]
  },
  {
   "cell_type": "code",
   "execution_count": 71,
   "id": "be6a0775-0b08-443c-bd16-e95881853f56",
   "metadata": {},
   "outputs": [
    {
     "name": "stdout",
     "output_type": "stream",
     "text": [
      "users data\n",
      "Amit\n",
      "Priya\n",
      "Rahul\n",
      "Sara\n"
     ]
    }
   ],
   "source": [
    "def show_user(data):\n",
    "    print(\"users data\")\n",
    "    for user in data['users']:\n",
    "        print(f\"{user['name']}\")\n",
    "show_user(data)"
   ]
  },
  {
   "cell_type": "code",
   "execution_count": 73,
   "id": "c5d0dadc-7798-4ba2-87cf-e30036474af1",
   "metadata": {},
   "outputs": [
    {
     "data": {
      "text/plain": [
       "{'users': [{'id': 1, 'name': 'Amit', 'friends': [2, 3], 'liked_pages': [101]},\n",
       "  {'id': 2, 'name': 'Priya', 'friends': [1, 4], 'liked_pages': [102]},\n",
       "  {'id': 3, 'name': 'Rahul', 'friends': [1], 'liked_pages': [101, 103]},\n",
       "  {'id': 4, 'name': 'Sara', 'friends': [2], 'liked_pages': [104]}],\n",
       " 'pages': [{'id': 101, 'name': 'Python Developers'},\n",
       "  {'id': 102, 'name': 'Data Science Enthusiasts'},\n",
       "  {'id': 103, 'name': 'AI & ML Community'},\n",
       "  {'id': 104, 'name': 'Web Dev Hub'}]}"
      ]
     },
     "execution_count": 73,
     "metadata": {},
     "output_type": "execute_result"
    }
   ],
   "source": [
    "data"
   ]
  },
  {
   "cell_type": "code",
   "execution_count": 81,
   "id": "91fe32f2-2a94-4f39-91b2-9940118f459a",
   "metadata": {},
   "outputs": [
    {
     "name": "stdout",
     "output_type": "stream",
     "text": [
      "Python Developers: 101\n",
      "Data Science Enthusiasts: 102\n",
      "AI & ML Community: 103\n",
      "Web Dev Hub: 104\n"
     ]
    }
   ],
   "source": [
    "def show_pages(data):\n",
    "    for page in data['pages']:\n",
    "        print(f\"{page['name']}: {page['id']}\")\n",
    "show_pages(data)"
   ]
  },
  {
   "cell_type": "code",
   "execution_count": null,
   "id": "0d32f0fc-2b6a-4f42-bb1f-0c5d64f90b00",
   "metadata": {},
   "outputs": [],
   "source": []
  }
 ],
 "metadata": {
  "kernelspec": {
   "display_name": "Python [conda env:base] *",
   "language": "python",
   "name": "conda-base-py"
  },
  "language_info": {
   "codemirror_mode": {
    "name": "ipython",
    "version": 3
   },
   "file_extension": ".py",
   "mimetype": "text/x-python",
   "name": "python",
   "nbconvert_exporter": "python",
   "pygments_lexer": "ipython3",
   "version": "3.12.7"
  }
 },
 "nbformat": 4,
 "nbformat_minor": 5
}
