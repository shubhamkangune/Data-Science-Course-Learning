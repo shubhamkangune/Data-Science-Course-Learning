{
 "cells": [
  {
   "cell_type": "code",
   "execution_count": 1,
   "id": "aeabf464-023d-4b6d-ae4c-eccef69bb818",
   "metadata": {},
   "outputs": [],
   "source": [
    "import numpy as np"
   ]
  },
  {
   "cell_type": "code",
   "execution_count": 3,
   "id": "000c2b35-2c2a-453d-801a-0e8b1f750afc",
   "metadata": {},
   "outputs": [],
   "source": [
    "arr = np.array([[1,2,3],[4,5,6],[7,8,9]])"
   ]
  },
  {
   "cell_type": "code",
   "execution_count": 5,
   "id": "add05403-8de0-4545-a700-4b6d86e5a379",
   "metadata": {},
   "outputs": [
    {
     "data": {
      "text/plain": [
       "array([[1, 2, 3],\n",
       "       [4, 5, 6],\n",
       "       [7, 8, 9]])"
      ]
     },
     "execution_count": 5,
     "metadata": {},
     "output_type": "execute_result"
    }
   ],
   "source": [
    "arr"
   ]
  },
  {
   "cell_type": "code",
   "execution_count": 11,
   "id": "5e2a8716-d9af-4853-942a-822b56482135",
   "metadata": {},
   "outputs": [],
   "source": [
    "flat = arr.flatten()"
   ]
  },
  {
   "cell_type": "code",
   "execution_count": 13,
   "id": "699794ca-0d77-4664-a581-99e925192b57",
   "metadata": {},
   "outputs": [
    {
     "data": {
      "text/plain": [
       "array([1, 2, 3, 4, 5, 6, 7, 8, 9])"
      ]
     },
     "execution_count": 13,
     "metadata": {},
     "output_type": "execute_result"
    }
   ],
   "source": [
    "flat"
   ]
  },
  {
   "cell_type": "code",
   "execution_count": 21,
   "id": "dd9a86f6-0c9d-4e43-837b-f75397c68443",
   "metadata": {},
   "outputs": [
    {
     "data": {
      "text/plain": [
       "array([1, 2, 3, 4, 5])"
      ]
     },
     "execution_count": 21,
     "metadata": {},
     "output_type": "execute_result"
    }
   ],
   "source": [
    "flat[0:5]"
   ]
  },
  {
   "cell_type": "code",
   "execution_count": 29,
   "id": "615203a6-1958-402d-8f68-ef1274f3df8b",
   "metadata": {},
   "outputs": [
    {
     "data": {
      "text/plain": [
       "array([1, 4, 7])"
      ]
     },
     "execution_count": 29,
     "metadata": {},
     "output_type": "execute_result"
    }
   ],
   "source": [
    "flat[::3]"
   ]
  },
  {
   "cell_type": "code",
   "execution_count": 31,
   "id": "dc6aade4-9a7b-4268-ae78-a1b09e5e8a6e",
   "metadata": {},
   "outputs": [
    {
     "data": {
      "text/plain": [
       "array([1, 2, 3, 4, 5, 6, 7, 8, 9])"
      ]
     },
     "execution_count": 31,
     "metadata": {},
     "output_type": "execute_result"
    }
   ],
   "source": [
    "flat\n"
   ]
  },
  {
   "cell_type": "code",
   "execution_count": 57,
   "id": "f38aa950-a9a7-4a55-a4ac-07b288d82437",
   "metadata": {},
   "outputs": [
    {
     "data": {
      "text/plain": [
       "array([55,  4,  5])"
      ]
     },
     "execution_count": 57,
     "metadata": {},
     "output_type": "execute_result"
    }
   ],
   "source": [
    "b = flat[2:5].copy() #this is not a slice because we are using the copy method\n",
    "b"
   ]
  },
  {
   "cell_type": "code",
   "execution_count": 49,
   "id": "aaac6ea5-997d-4501-9289-1c6cafa7975f",
   "metadata": {},
   "outputs": [],
   "source": [
    "b[0] = 55556669"
   ]
  },
  {
   "cell_type": "code",
   "execution_count": 51,
   "id": "04e388b5-ac51-49b5-aa1c-6db5ba2c105f",
   "metadata": {},
   "outputs": [
    {
     "data": {
      "text/plain": [
       "array([55556669,        4,        5])"
      ]
     },
     "execution_count": 51,
     "metadata": {},
     "output_type": "execute_result"
    }
   ],
   "source": [
    "b"
   ]
  },
  {
   "cell_type": "code",
   "execution_count": 53,
   "id": "0b9841bf-b8fe-4d37-b36c-225b90305c62",
   "metadata": {},
   "outputs": [
    {
     "data": {
      "text/plain": [
       "array([[1, 2, 3],\n",
       "       [4, 5, 6],\n",
       "       [7, 8, 9]])"
      ]
     },
     "execution_count": 53,
     "metadata": {},
     "output_type": "execute_result"
    }
   ],
   "source": [
    "arr"
   ]
  },
  {
   "cell_type": "code",
   "execution_count": 55,
   "id": "cf47bca1-3789-4781-910d-136a6bb55f33",
   "metadata": {},
   "outputs": [
    {
     "data": {
      "text/plain": [
       "array([ 1,  2, 55,  4,  5,  6,  7,  8,  9])"
      ]
     },
     "execution_count": 55,
     "metadata": {},
     "output_type": "execute_result"
    }
   ],
   "source": [
    "flat"
   ]
  },
  {
   "cell_type": "code",
   "execution_count": 59,
   "id": "d897c677-744f-41a0-bfda-e05150beca85",
   "metadata": {},
   "outputs": [
    {
     "data": {
      "text/plain": [
       "array([ 2, 55,  6])"
      ]
     },
     "execution_count": 59,
     "metadata": {},
     "output_type": "execute_result"
    }
   ],
   "source": [
    "flat[[1,2,5]]"
   ]
  },
  {
   "cell_type": "code",
   "execution_count": 63,
   "id": "46e91d82-f90d-4d86-94af-0be183307dd5",
   "metadata": {},
   "outputs": [
    {
     "data": {
      "text/plain": [
       "array([1, 2, 4])"
      ]
     },
     "execution_count": 63,
     "metadata": {},
     "output_type": "execute_result"
    }
   ],
   "source": [
    "flat[flat<5]"
   ]
  },
  {
   "cell_type": "code",
   "execution_count": null,
   "id": "128402d9-d045-418a-9ee8-50f8a8d57c11",
   "metadata": {},
   "outputs": [],
   "source": []
  }
 ],
 "metadata": {
  "kernelspec": {
   "display_name": "Python [conda env:base] *",
   "language": "python",
   "name": "conda-base-py"
  },
  "language_info": {
   "codemirror_mode": {
    "name": "ipython",
    "version": 3
   },
   "file_extension": ".py",
   "mimetype": "text/x-python",
   "name": "python",
   "nbconvert_exporter": "python",
   "pygments_lexer": "ipython3",
   "version": "3.12.7"
  }
 },
 "nbformat": 4,
 "nbformat_minor": 5
}
