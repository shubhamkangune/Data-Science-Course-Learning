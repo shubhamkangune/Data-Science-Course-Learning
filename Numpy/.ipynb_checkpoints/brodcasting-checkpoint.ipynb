{
 "cells": [
  {
   "cell_type": "code",
   "execution_count": 1,
   "id": "e71fbd27-89f6-4fe2-8ff4-a42abf5cd0be",
   "metadata": {},
   "outputs": [],
   "source": [
    "# loops in numpy"
   ]
  },
  {
   "cell_type": "code",
   "execution_count": 9,
   "id": "d4ee9435-48f6-41da-b96f-386401ebea9e",
   "metadata": {},
   "outputs": [],
   "source": [
    "import numpy as np\n",
    "import time"
   ]
  },
  {
   "cell_type": "code",
   "execution_count": null,
   "id": "72404b6f-90db-4674-aa2a-3660c0044c30",
   "metadata": {},
   "outputs": [],
   "source": []
  },
  {
   "cell_type": "code",
   "execution_count": 65,
   "id": "2e967347-a819-485a-b7c0-610fff398eff",
   "metadata": {},
   "outputs": [
    {
     "name": "stdout",
     "output_type": "stream",
     "text": [
      "[0, 1, 4, 9, 16, 25, 36, 49, 64, 81, 100, 121, 144, 169, 196, 225, 256, 289, 324, 361, 400, 441, 484, 529, 576, 625, 676, 729, 784, 841, 900, 961, 1024, 1089, 1156, 1225, 1296, 1369, 1444, 1521, 1600, 1681, 1764, 1849, 1936, 2025, 2116, 2209, 2304, 2401]\n",
      "Time is:  0.0\n"
     ]
    }
   ],
   "source": [
    "arr = (range(50))\n",
    "result = []\n",
    "start = time.time()\n",
    "for num in arr:\n",
    "    result.append(num ** 2)\n",
    "end = time.time()\n",
    "\n",
    "print(result)\n",
    "print('Time is: ',end-start)"
   ]
  },
  {
   "cell_type": "code",
   "execution_count": 63,
   "id": "6d136c66-c857-488e-ac24-429f78533e84",
   "metadata": {},
   "outputs": [
    {
     "name": "stdout",
     "output_type": "stream",
     "text": [
      "[0, 1, 4, 9, 16, 25, 36, 49, 64, 81, 100, 121, 144, 169, 196, 225, 256, 289, 324, 361, 400, 441, 484, 529, 576, 625, 676, 729, 784, 841, 900, 961, 1024, 1089, 1156, 1225, 1296, 1369, 1444, 1521, 1600, 1681, 1764, 1849, 1936, 2025, 2116, 2209, 2304, 2401]\n",
      "Time is:  0.0010008811950683594\n"
     ]
    }
   ],
   "source": [
    "arr = np.array(range(50))\n",
    "result = []\n",
    "start = time.time()\n",
    "for num in arr:\n",
    "    result.append(num ** 2)\n",
    "end = time.time()\n",
    "\n",
    "print(result)\n",
    "print('Time is: ',end-start)"
   ]
  },
  {
   "cell_type": "code",
   "execution_count": 117,
   "id": "baf8b95e-990a-4ec2-9ca7-e005db2109d1",
   "metadata": {},
   "outputs": [
    {
     "data": {
      "text/plain": [
       "array([ 2,  4,  6,  8, 10, 12, 14, 16, 18])"
      ]
     },
     "execution_count": 117,
     "metadata": {},
     "output_type": "execute_result"
    }
   ],
   "source": [
    "arr = np.array([1,2,3,4,5,6,7,8,9])\n",
    "result = arr*2\n",
    "result"
   ]
  },
  {
   "cell_type": "code",
   "execution_count": 119,
   "id": "47fcac43-aaf1-4f4b-86c3-872ff3b8a78e",
   "metadata": {},
   "outputs": [
    {
     "name": "stdout",
     "output_type": "stream",
     "text": [
      "[ 20000000  40000000  60000000  80000000 100000000 120000000 140000000\n",
      " 160000000 180000000]\n"
     ]
    }
   ],
   "source": [
    "result1 = result *10000000\n",
    "print(result1)"
   ]
  },
  {
   "cell_type": "code",
   "execution_count": 131,
   "id": "0e9fcd8d-43f7-4a26-a6ce-0334ad8a5738",
   "metadata": {},
   "outputs": [
    {
     "name": "stdout",
     "output_type": "stream",
     "text": [
      "[[ 2  4  6]\n",
      " [11 22 33]]\n"
     ]
    }
   ],
   "source": [
    "arr1 = np.array([[1,2,3],[10,20,30]])\n",
    "arr2 = np.array([1,2,3])\n",
    "result = arr1+arr2\n",
    "print(result)"
   ]
  },
  {
   "cell_type": "code",
   "execution_count": null,
   "id": "8df1f486-0401-400b-813d-6716d2464a9a",
   "metadata": {},
   "outputs": [],
   "source": [
    "# Simulating a dataset (5 samples, 3 features)\n",
    "data = np.array([[10, 20, 30],\n",
    "                 [15, 25, 35],\n",
    "                 [20, 30, 40],\n",
    "                 [25, 35, 45],\n",
    "                 [30, 40, 50]])\n",
    "\n",
    "# Calculating mean and standard deviation for each feature (column)\n",
    "mean = data.mean(axis=0)\n",
    "std = data.std(axis=0)\n",
    "\n",
    "# Normalizing the data using broadcasting\n",
    "normalized_data = (data - mean) / std\n",
    "\n",
    "print(normalized_data)"
   ]
  }
 ],
 "metadata": {
  "kernelspec": {
   "display_name": "Python [conda env:base] *",
   "language": "python",
   "name": "conda-base-py"
  },
  "language_info": {
   "codemirror_mode": {
    "name": "ipython",
    "version": 3
   },
   "file_extension": ".py",
   "mimetype": "text/x-python",
   "name": "python",
   "nbconvert_exporter": "python",
   "pygments_lexer": "ipython3",
   "version": "3.12.7"
  }
 },
 "nbformat": 4,
 "nbformat_minor": 5
}
