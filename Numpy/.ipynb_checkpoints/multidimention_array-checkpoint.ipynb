{
 "cells": [
  {
   "cell_type": "code",
   "execution_count": 5,
   "id": "4949c186-18d6-47d8-af71-8a42ecf60444",
   "metadata": {},
   "outputs": [
    {
     "name": "stdout",
     "output_type": "stream",
     "text": [
      "[[1 2 3]\n",
      " [4 5 6]\n",
      " [7 8 9]]\n"
     ]
    }
   ],
   "source": [
    "import numpy as np\n",
    "\n",
    "arr = np.array([[1, 2, 3], \n",
    "                [4, 5, 6], \n",
    "                [7, 8, 9]])\n",
    "\n",
    "print(arr)"
   ]
  },
  {
   "cell_type": "code",
   "execution_count": 7,
   "id": "7d874f4a-7b87-4490-99ef-670e66499073",
   "metadata": {},
   "outputs": [
    {
     "data": {
      "text/plain": [
       "array([1, 2, 3])"
      ]
     },
     "execution_count": 7,
     "metadata": {},
     "output_type": "execute_result"
    }
   ],
   "source": [
    "arr[0]"
   ]
  },
  {
   "cell_type": "code",
   "execution_count": 9,
   "id": "a63b860b-f787-4d67-933e-d49f567efc4e",
   "metadata": {},
   "outputs": [
    {
     "data": {
      "text/plain": [
       "array([4, 5, 6])"
      ]
     },
     "execution_count": 9,
     "metadata": {},
     "output_type": "execute_result"
    }
   ],
   "source": [
    "arr[1]"
   ]
  },
  {
   "cell_type": "code",
   "execution_count": 11,
   "id": "fcae336a-cd4d-4a7d-b2c7-f68add140647",
   "metadata": {},
   "outputs": [
    {
     "data": {
      "text/plain": [
       "array([7, 8, 9])"
      ]
     },
     "execution_count": 11,
     "metadata": {},
     "output_type": "execute_result"
    }
   ],
   "source": [
    "arr[2]"
   ]
  },
  {
   "cell_type": "code",
   "execution_count": 27,
   "id": "c8108781-0ddd-40ab-9794-611827adf1c9",
   "metadata": {},
   "outputs": [
    {
     "data": {
      "text/plain": [
       "array([[1, 2, 3],\n",
       "       [4, 5, 6],\n",
       "       [7, 8, 9]])"
      ]
     },
     "execution_count": 27,
     "metadata": {},
     "output_type": "execute_result"
    }
   ],
   "source": [
    "np.sum(arr,axis=1)\n",
    "arr"
   ]
  },
  {
   "cell_type": "code",
   "execution_count": 45,
   "id": "c51c2879-88fd-4def-a4f3-5662da923583",
   "metadata": {},
   "outputs": [
    {
     "data": {
      "text/plain": [
       "3"
      ]
     },
     "execution_count": 45,
     "metadata": {},
     "output_type": "execute_result"
    }
   ],
   "source": [
    "arr[0][2]"
   ]
  },
  {
   "cell_type": "code",
   "execution_count": 61,
   "id": "0de9957d-3621-4ea8-8c6e-2bcc6dd3a784",
   "metadata": {},
   "outputs": [
    {
     "data": {
      "text/plain": [
       "array([[2, 3],\n",
       "       [5, 6]])"
      ]
     },
     "execution_count": 61,
     "metadata": {},
     "output_type": "execute_result"
    }
   ],
   "source": [
    "arr[0:2,1:3]"
   ]
  },
  {
   "cell_type": "code",
   "execution_count": 63,
   "id": "abe88724-a866-4e86-8986-3586c79dca75",
   "metadata": {},
   "outputs": [],
   "source": [
    "arr3D = np.array([[[1, 2, 3], \n",
    "                   [4, 5, 6]],\n",
    "                  [\n",
    "                      [7, 8, 9], \n",
    "                      [10, 11, 12]\n",
    "                  ]\n",
    "                 ])\n"
   ]
  },
  {
   "cell_type": "code",
   "execution_count": 101,
   "id": "9aa66024-3b83-466a-8e84-904c2324cf4e",
   "metadata": {},
   "outputs": [],
   "source": [
    "arr3D[:,0,:] = 0"
   ]
  },
  {
   "cell_type": "code",
   "execution_count": 103,
   "id": "b10a2eea-f853-4788-a84c-3f806b51ff78",
   "metadata": {},
   "outputs": [
    {
     "data": {
      "text/plain": [
       "array([[[ 0,  0,  0],\n",
       "        [ 4,  5,  6]],\n",
       "\n",
       "       [[ 0,  0,  0],\n",
       "        [10, 11, 12]]])"
      ]
     },
     "execution_count": 103,
     "metadata": {},
     "output_type": "execute_result"
    }
   ],
   "source": [
    "arr3D"
   ]
  },
  {
   "cell_type": "code",
   "execution_count": 105,
   "id": "6afba6df-8006-4000-9284-4f4846df289c",
   "metadata": {},
   "outputs": [],
   "source": [
    " # numpy data types"
   ]
  },
  {
   "cell_type": "code",
   "execution_count": 125,
   "id": "17197764-9b1c-4fb5-be9a-dbdeee967d25",
   "metadata": {},
   "outputs": [],
   "source": [
    "arr = np.array([12,45,35,9])\n"
   ]
  },
  {
   "cell_type": "code",
   "execution_count": 131,
   "id": "dfcde2c8-1ef8-43c9-8205-e24136e14b73",
   "metadata": {},
   "outputs": [
    {
     "data": {
      "text/plain": [
       "dtype('int32')"
      ]
     },
     "execution_count": 131,
     "metadata": {},
     "output_type": "execute_result"
    }
   ],
   "source": [
    "arr.dtype"
   ]
  },
  {
   "cell_type": "code",
   "execution_count": 181,
   "id": "a3a380d8-9cea-4b70-b378-1af0aafd6539",
   "metadata": {},
   "outputs": [
    {
     "data": {
      "text/plain": [
       "array([12., 45., 35.,  9.])"
      ]
     },
     "execution_count": 181,
     "metadata": {},
     "output_type": "execute_result"
    }
   ],
   "source": [
    "arr1 = arr.astype('float64')\n",
    "arr1"
   ]
  },
  {
   "cell_type": "code",
   "execution_count": 177,
   "id": "c2117bc0-8bdc-423f-a6e2-18bc1e0adaa7",
   "metadata": {},
   "outputs": [
    {
     "data": {
      "text/plain": [
       "dtype('int64')"
      ]
     },
     "execution_count": 177,
     "metadata": {},
     "output_type": "execute_result"
    }
   ],
   "source": [
    "arr1.dtype"
   ]
  },
  {
   "cell_type": "code",
   "execution_count": 171,
   "id": "e983f21d-fcc4-4cc9-b4cc-cd00147b5ec6",
   "metadata": {},
   "outputs": [
    {
     "data": {
      "text/plain": [
       "16"
      ]
     },
     "execution_count": 171,
     "metadata": {},
     "output_type": "execute_result"
    }
   ],
   "source": [
    "arr.nbytes"
   ]
  },
  {
   "cell_type": "code",
   "execution_count": 173,
   "id": "d790e2b0-95d4-419d-bdc7-02e7a6bd1ef7",
   "metadata": {},
   "outputs": [
    {
     "data": {
      "text/plain": [
       "16"
      ]
     },
     "execution_count": 173,
     "metadata": {},
     "output_type": "execute_result"
    }
   ],
   "source": [
    "arr1.nbytes"
   ]
  },
  {
   "cell_type": "code",
   "execution_count": null,
   "id": "81fca2e4-6d57-419b-a840-fce5463881ca",
   "metadata": {},
   "outputs": [],
   "source": []
  }
 ],
 "metadata": {
  "kernelspec": {
   "display_name": "Python [conda env:base] *",
   "language": "python",
   "name": "conda-base-py"
  },
  "language_info": {
   "codemirror_mode": {
    "name": "ipython",
    "version": 3
   },
   "file_extension": ".py",
   "mimetype": "text/x-python",
   "name": "python",
   "nbconvert_exporter": "python",
   "pygments_lexer": "ipython3",
   "version": "3.12.7"
  }
 },
 "nbformat": 4,
 "nbformat_minor": 5
}
