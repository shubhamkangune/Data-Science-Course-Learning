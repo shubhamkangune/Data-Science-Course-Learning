{
 "cells": [
  {
   "cell_type": "code",
   "execution_count": 17,
   "id": "b84c3bd2-9982-4546-b34a-8af29005f919",
   "metadata": {},
   "outputs": [],
   "source": [
    "import numpy as np\n",
    "import time"
   ]
  },
  {
   "cell_type": "code",
   "execution_count": 5,
   "id": "b151c4d7-fa19-41f5-a98c-217b1a854cdc",
   "metadata": {},
   "outputs": [],
   "source": [
    "l1 = [1,2,3]\n",
    "l2 = [4,5,6]"
   ]
  },
  {
   "cell_type": "code",
   "execution_count": 9,
   "id": "1b3c6742-8fa4-482d-93b6-1c40951514e4",
   "metadata": {},
   "outputs": [
    {
     "data": {
      "text/plain": [
       "[(1, 4), (2, 5), (3, 6)]"
      ]
     },
     "execution_count": 9,
     "metadata": {},
     "output_type": "execute_result"
    }
   ],
   "source": [
    "list(zip(l1,l2))"
   ]
  },
  {
   "cell_type": "code",
   "execution_count": null,
   "id": "f762b9e0-bd05-4bba-82b8-a96b8d4b4a61",
   "metadata": {},
   "outputs": [],
   "source": [
    "# using numpy arreys\n",
    "import numpy as np\n",
    "import time\n",
    "size = 1_000_000_0\n",
    "l1 = np.array(list(range(size)))\n",
    "l2 = np.array(list(range(size)))\n",
    "    \n",
    "start = time.time()\n",
    "add = l1 + l2\n",
    "\n",
    "end = time.time()\n",
    "print(\"timing of\" ,add[0:10] ,'\\n',end-start, )\n",
    "    "
   ]
  },
  {
   "cell_type": "code",
   "execution_count": 85,
   "id": "8cc3678e-e6eb-4e3a-9de5-902880390fb6",
   "metadata": {},
   "outputs": [
    {
     "name": "stdout",
     "output_type": "stream",
     "text": [
      "timing of [0, 2, 4, 6, 8, 10, 12, 14, 16, 18] 32.4778368473053\n"
     ]
    }
   ],
   "source": [
    "# using python list\n",
    "\n",
    "import time\n",
    "\n",
    "size = 1_000_000_0\n",
    "l1 = list(range(size))\n",
    "l2 = list(range(size))\n",
    "    \n",
    "start = time.time()\n",
    "add = [x+y for x, y in zip(l1,l2)]\n",
    "    \n",
    "end = time.time()\n",
    "print(\"timing of\" ,add[0:10],end-start)"
   ]
  },
  {
   "cell_type": "code",
   "execution_count": null,
   "id": "f7148d87-5cc8-48f3-946a-9c28de1e8217",
   "metadata": {},
   "outputs": [],
   "source": []
  }
 ],
 "metadata": {
  "kernelspec": {
   "display_name": "Python [conda env:base] *",
   "language": "python",
   "name": "conda-base-py"
  },
  "language_info": {
   "codemirror_mode": {
    "name": "ipython",
    "version": 3
   },
   "file_extension": ".py",
   "mimetype": "text/x-python",
   "name": "python",
   "nbconvert_exporter": "python",
   "pygments_lexer": "ipython3",
   "version": "3.12.7"
  }
 },
 "nbformat": 4,
 "nbformat_minor": 5
}
