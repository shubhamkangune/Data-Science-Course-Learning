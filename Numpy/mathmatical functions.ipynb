{
 "cells": [
  {
   "cell_type": "code",
   "execution_count": 26,
   "id": "a2ec1956-f7c0-4ff1-a895-0037fcc3cf8a",
   "metadata": {},
   "outputs": [],
   "source": [
    "import numpy as np"
   ]
  },
  {
   "cell_type": "code",
   "execution_count": 53,
   "id": "0d39da2a-4d09-4fbf-b419-6fe128026981",
   "metadata": {},
   "outputs": [],
   "source": [
    "arr = np.array([1,2,55,3,0,4,5])"
   ]
  },
  {
   "cell_type": "code",
   "execution_count": 55,
   "id": "37fc0738-bbb9-4d9e-b41e-ad4912303ea8",
   "metadata": {},
   "outputs": [
    {
     "data": {
      "text/plain": [
       "18.439088914585774"
      ]
     },
     "execution_count": 55,
     "metadata": {},
     "output_type": "execute_result"
    }
   ],
   "source": [
    "np.std(arr)"
   ]
  },
  {
   "cell_type": "code",
   "execution_count": 57,
   "id": "1b0d749a-7802-4793-9841-5151ec30e360",
   "metadata": {},
   "outputs": [
    {
     "data": {
      "text/plain": [
       "340.0"
      ]
     },
     "execution_count": 57,
     "metadata": {},
     "output_type": "execute_result"
    }
   ],
   "source": [
    "np.var(arr)"
   ]
  },
  {
   "cell_type": "code",
   "execution_count": 59,
   "id": "71993c4e-e88e-4845-b80d-70182d7033ab",
   "metadata": {},
   "outputs": [
    {
     "data": {
      "text/plain": [
       "70"
      ]
     },
     "execution_count": 59,
     "metadata": {},
     "output_type": "execute_result"
    }
   ],
   "source": [
    "np.sum(arr)"
   ]
  },
  {
   "cell_type": "code",
   "execution_count": 61,
   "id": "351083c3-02e5-4f33-a407-cd20236f9938",
   "metadata": {},
   "outputs": [
    {
     "data": {
      "text/plain": [
       "0"
      ]
     },
     "execution_count": 61,
     "metadata": {},
     "output_type": "execute_result"
    }
   ],
   "source": [
    " np.prod(arr)"
   ]
  },
  {
   "cell_type": "code",
   "execution_count": 63,
   "id": "28b02c1e-a232-4413-922d-6387f63b0ae1",
   "metadata": {},
   "outputs": [
    {
     "data": {
      "text/plain": [
       "3.0"
      ]
     },
     "execution_count": 63,
     "metadata": {},
     "output_type": "execute_result"
    }
   ],
   "source": [
    "np.percentile(arr,50)"
   ]
  },
  {
   "cell_type": "code",
   "execution_count": 67,
   "id": "82448a78-31b7-48f5-a281-9a0ed0feca64",
   "metadata": {},
   "outputs": [
    {
     "data": {
      "text/plain": [
       "2"
      ]
     },
     "execution_count": 67,
     "metadata": {},
     "output_type": "execute_result"
    }
   ],
   "source": [
    "np.argmax(arr)"
   ]
  },
  {
   "cell_type": "code",
   "execution_count": 89,
   "id": "e4bdb075-12df-4206-935f-aef5e111a640",
   "metadata": {},
   "outputs": [],
   "source": [
    "arr1 = np.array([1,2,5,3,4,8,9,1,3,5,4,2,9])\n",
    "arr2 = np.array([2,4,9,5,7,10,69])"
   ]
  },
  {
   "cell_type": "code",
   "execution_count": 97,
   "id": "58f48739-7e44-49de-9b21-cf58d5bed1b4",
   "metadata": {},
   "outputs": [
    {
     "data": {
      "text/plain": [
       "array([ 1,  3,  8, 11, 15, 23, 32, 33, 36, 41, 45, 47, 56])"
      ]
     },
     "execution_count": 97,
     "metadata": {},
     "output_type": "execute_result"
    }
   ],
   "source": [
    "np.cumsum(arr1)"
   ]
  },
  {
   "cell_type": "code",
   "execution_count": null,
   "id": "4459c196-8b8a-4920-adb9-75e099e16ab0",
   "metadata": {},
   "outputs": [],
   "source": []
  }
 ],
 "metadata": {
  "kernelspec": {
   "display_name": "Python [conda env:base] *",
   "language": "python",
   "name": "conda-base-py"
  },
  "language_info": {
   "codemirror_mode": {
    "name": "ipython",
    "version": 3
   },
   "file_extension": ".py",
   "mimetype": "text/x-python",
   "name": "python",
   "nbconvert_exporter": "python",
   "pygments_lexer": "ipython3",
   "version": "3.12.7"
  }
 },
 "nbformat": 4,
 "nbformat_minor": 5
}
