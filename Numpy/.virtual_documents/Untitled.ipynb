import numpy as np


arr = np.array([1,2,55,3,0,4,5])


np.std(arr)


np.var(arr)


np.sum(arr)


 np.prod(arr)


np.percentile(arr,50)


np.argmax(arr)


arr1 = np.array([1,2,5,3,4,8,9,1,3,5,4,2,9])
arr2 = np.array([2,4,9,5,7,10,69])


np.linspace(arr1)



