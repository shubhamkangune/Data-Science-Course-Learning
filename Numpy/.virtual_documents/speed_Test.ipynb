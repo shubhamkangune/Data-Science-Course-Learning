import numpy as np
import time


l1 = [1,2,3]
l2 = [4,5,6]


list(zip(l1,l2))


# using numpy arreys
import numpy as np
import time
size = 1_000_000_00
l1 = np.array(list(range(size)))
l2 = np.array(list(range(size)))
    
start = time.time()
add = l1 + l2

end = time.time()
print("timing of" ,add[0:10] ,'\n',end-start, )
    


# using python list

import time

size = 1_000_000_00
l1 = list(range(size))
l2 = list(range(size))
    
start = time.time()
add = [x+y for x, y in zip(l1,l2)]
    
end = time.time()
print("timing of" ,add[0:10],end-start)


import numpy as np
arr = np.array([[1,2,4,3],[4,5,3,6]])


type(arr)


arr.shape


import sys

list_data = list(range(1000000))
numpy_data = np.array(list_data)

print("Python list size:", sys.getsizeof(list_data) * len(list_data), "bytes")
print("NumPy array size:", numpy_data.nbytes, "bytes")


arr = np.array(list[1,2,3])


np.zeros((5,3))


arr = np.ones((5,5))


np.full((4,5),9)


arr = np.eye(3)


np.arange(5,51,5)


arr = np.linspace(0,10,5)
lineSpace


arr.shape


a = np.full((4,5),9)
a


a.shape



a.reshape(5,4)


arr = []
for i in range(1,5):
    arr.append(i)
arr


arr



