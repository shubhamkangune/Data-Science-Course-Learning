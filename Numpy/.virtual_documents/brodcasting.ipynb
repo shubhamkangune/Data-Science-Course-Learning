# loops in numpy


import numpy as np
import time





arr = (range(50))
result = []
start = time.time()
for num in arr:
    result.append(num ** 2)
end = time.time()

print(result)
print('Time is: ',end-start)


arr = np.array(range(50))
result = []
start = time.time()
for num in arr:
    result.append(num ** 2)
end = time.time()

print(result)
print('Time is: ',end-start)


arr = np.array([1,2,3,4,5,6,7,8,9])
result = arr*2
result


result1 = result *10000000
print(result1)


arr1 = np.array([[1,2,3],[10,20,30]])
arr2 = np.array([1,2,3])
result = arr1+arr2
print(result)


# Simulating a dataset (5 samples, 3 features)
data = np.array([[10, 20, 30],
                 [15, 25, 35],
                 [20, 30, 40],
                 [25, 35, 45],
                 [30, 40, 50]])

# Calculating mean and standard deviation for each feature (column)
mean = data.mean(axis=0)
std = data.std(axis=0)

# Normalizing the data using broadcasting
normalized_data = (data - mean) / std

print(normalized_data)


std


mean


    
