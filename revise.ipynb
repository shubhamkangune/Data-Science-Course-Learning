{
 "cells": [
  {
   "cell_type": "code",
   "execution_count": 1,
   "id": "72a30f97-e0c3-44bb-b12b-642408a8fab8",
   "metadata": {},
   "outputs": [
    {
     "name": "stdout",
     "output_type": "stream",
     "text": [
      "few days to go\n"
     ]
    }
   ],
   "source": [
    "print(\"few days to go\")"
   ]
  },
  {
   "cell_type": "code",
   "execution_count": 2,
   "id": "ea435d83-45ba-4be6-bbbb-8c935f16f9a3",
   "metadata": {},
   "outputs": [],
   "source": [
    "a= 2"
   ]
  },
  {
   "cell_type": "code",
   "execution_count": 3,
   "id": "fdf331dc-9e97-4b8e-8231-06422beae986",
   "metadata": {},
   "outputs": [],
   "source": [
    "b = 6"
   ]
  },
  {
   "cell_type": "code",
   "execution_count": 4,
   "id": "5b92ffb1-a660-4d4b-8de4-8f3e1bb496ea",
   "metadata": {},
   "outputs": [
    {
     "name": "stdout",
     "output_type": "stream",
     "text": [
      "a+b is 8\n"
     ]
    }
   ],
   "source": [
    "c=a+b\n",
    "print(\"a+b is\",c)"
   ]
  },
  {
   "cell_type": "code",
   "execution_count": 5,
   "id": "8bc3d228-a677-40ad-9574-d8807eebac31",
   "metadata": {},
   "outputs": [],
   "source": [
    "# digital"
   ]
  },
  {
   "cell_type": "code",
   "execution_count": 6,
   "id": "4a5906eb-9521-41bd-a0e5-d4e1675597d1",
   "metadata": {},
   "outputs": [
    {
     "data": {
      "text/plain": [
       "int"
      ]
     },
     "execution_count": 6,
     "metadata": {},
     "output_type": "execute_result"
    }
   ],
   "source": [
    "type(c)"
   ]
  },
  {
   "cell_type": "code",
   "execution_count": 7,
   "id": "fb0fd027-cc8e-40f2-bfee-30ba0900bc8b",
   "metadata": {},
   "outputs": [],
   "source": [
    "a = \"12345\""
   ]
  },
  {
   "cell_type": "code",
   "execution_count": 8,
   "id": "5ba52403-3af6-4abb-821c-c25edcac258e",
   "metadata": {},
   "outputs": [],
   "source": [
    "b = \"12345\""
   ]
  },
  {
   "cell_type": "code",
   "execution_count": null,
   "id": "19b15044-8c63-44ca-8396-926b00e83473",
   "metadata": {},
   "outputs": [],
   "source": [
    "int(a)+int(b)"
   ]
  },
  {
   "cell_type": "code",
   "execution_count": 4,
   "id": "4ca4e83f-883d-4d14-a044-d2f528ae0d97",
   "metadata": {},
   "outputs": [],
   "source": [
    "name = \"Shubham \""
   ]
  },
  {
   "cell_type": "code",
   "execution_count": 6,
   "id": "ea1f89f7-011c-41e9-a439-bf9304d64402",
   "metadata": {},
   "outputs": [
    {
     "data": {
      "text/plain": [
       "'SHUBHAM '"
      ]
     },
     "execution_count": 6,
     "metadata": {},
     "output_type": "execute_result"
    }
   ],
   "source": [
    "name.upper()"
   ]
  },
  {
   "cell_type": "code",
   "execution_count": 41,
   "id": "e8530d06-2689-4a1a-93bf-2c72d7b77845",
   "metadata": {},
   "outputs": [],
   "source": [
    "name.lower()\n",
    "digi = \"digital\""
   ]
  },
  {
   "cell_type": "code",
   "execution_count": 47,
   "id": "a238aaa9-83f5-44b5-bfd7-e162549245de",
   "metadata": {},
   "outputs": [
    {
     "data": {
      "text/plain": [
       "True"
      ]
     },
     "execution_count": 47,
     "metadata": {},
     "output_type": "execute_result"
    }
   ],
   "source": [
    "name.endswith(\"m\")"
   ]
  },
  {
   "cell_type": "code",
   "execution_count": 51,
   "id": "5084493b-ef26-4f06-971a-73ec82312143",
   "metadata": {},
   "outputs": [
    {
     "data": {
      "text/plain": [
       "2"
      ]
     },
     "execution_count": 51,
     "metadata": {},
     "output_type": "execute_result"
    }
   ],
   "source": [
    "name.count(\"h\")"
   ]
  },
  {
   "cell_type": "code",
   "execution_count": 67,
   "id": "982bc96b-7c5a-449d-81a1-76f2d1943deb",
   "metadata": {},
   "outputs": [
    {
     "data": {
      "text/plain": [
       "'Shubham'"
      ]
     },
     "execution_count": 67,
     "metadata": {},
     "output_type": "execute_result"
    }
   ],
   "source": [
    "name[0:-1]"
   ]
  },
  {
   "cell_type": "code",
   "execution_count": 69,
   "id": "a7d60f26-0e14-4376-a84d-5e119b9f9930",
   "metadata": {},
   "outputs": [
    {
     "name": "stdin",
     "output_type": "stream",
     "text": [
      "enter a 45\n"
     ]
    }
   ],
   "source": [
    "a = input(\"enter a\")"
   ]
  },
  {
   "cell_type": "code",
   "execution_count": 71,
   "id": "e71fbd08-0ead-46a2-b77e-92a052951e39",
   "metadata": {},
   "outputs": [
    {
     "name": "stdin",
     "output_type": "stream",
     "text": [
      "enter b 5\n"
     ]
    }
   ],
   "source": [
    "b = input('enter b')"
   ]
  },
  {
   "cell_type": "code",
   "execution_count": 73,
   "id": "901d43d1-3b13-4acd-826c-4c92e7595e6d",
   "metadata": {},
   "outputs": [
    {
     "data": {
      "text/plain": [
       "'455'"
      ]
     },
     "execution_count": 73,
     "metadata": {},
     "output_type": "execute_result"
    }
   ],
   "source": [
    "a+b\n"
   ]
  },
  {
   "cell_type": "code",
   "execution_count": 87,
   "id": "6107c483-036a-4f4c-b277-05a5d2a09ab4",
   "metadata": {},
   "outputs": [],
   "source": [
    "a = 55\n"
   ]
  },
  {
   "cell_type": "code",
   "execution_count": 77,
   "id": "cdcb4596-472c-4188-bacf-b4638cfb97f9",
   "metadata": {},
   "outputs": [
    {
     "data": {
      "text/plain": [
       "'5'"
      ]
     },
     "execution_count": 77,
     "metadata": {},
     "output_type": "execute_result"
    }
   ],
   "source": [
    "b"
   ]
  },
  {
   "cell_type": "code",
   "execution_count": 79,
   "id": "ccd34920-b533-451f-a2c7-d9a9f2d4a708",
   "metadata": {},
   "outputs": [
    {
     "data": {
      "text/plain": [
       "50"
      ]
     },
     "execution_count": 79,
     "metadata": {},
     "output_type": "execute_result"
    }
   ],
   "source": [
    "int(a)+int(b)"
   ]
  },
  {
   "cell_type": "code",
   "execution_count": 89,
   "id": "0169fa56-0004-4472-9e05-fd053c4ebf95",
   "metadata": {},
   "outputs": [
    {
     "name": "stdout",
     "output_type": "stream",
     "text": [
      "greater\n"
     ]
    }
   ],
   "source": [
    "if(a>10):\n",
    "    print(\"greater\")\n",
    "else:\n",
    "    print(\"smaller\")"
   ]
  },
  {
   "cell_type": "code",
   "execution_count": 111,
   "id": "ec1d85c9-ece5-48ad-addf-21fabca352d4",
   "metadata": {},
   "outputs": [],
   "source": [
    "def add(a,b=0):\n",
    "    c = (a+b)/2\n",
    "    return c"
   ]
  },
  {
   "cell_type": "code",
   "execution_count": 113,
   "id": "16103eec-5f53-42de-b577-264395738af6",
   "metadata": {},
   "outputs": [
    {
     "data": {
      "text/plain": [
       "2.5"
      ]
     },
     "execution_count": 113,
     "metadata": {},
     "output_type": "execute_result"
    }
   ],
   "source": [
    "add(5)"
   ]
  },
  {
   "cell_type": "code",
   "execution_count": 115,
   "id": "d258d09e-3ad3-4d58-ac2f-bbb38e2ccb08",
   "metadata": {},
   "outputs": [],
   "source": [
    "def good():\n",
    "    print(\"good morning\")"
   ]
  },
  {
   "cell_type": "code",
   "execution_count": 143,
   "id": "01566c16-a34c-443d-80a2-ebd621320858",
   "metadata": {},
   "outputs": [],
   "source": [
    "code = 2000"
   ]
  },
  {
   "cell_type": "code",
   "execution_count": 145,
   "id": "bc6edf5f-52ca-41da-932e-6360d679e68e",
   "metadata": {},
   "outputs": [
    {
     "name": "stdout",
     "output_type": "stream",
     "text": [
      "good morning\n"
     ]
    }
   ],
   "source": [
    "match code:\n",
    "    case 200:\n",
    "        print(\"good\")\n",
    "    case 300:\n",
    "        print(\"bad\")\n",
    "    case 500:\n",
    "        print(\"proceed\")\n",
    "    case _:\n",
    "        good()"
   ]
  },
  {
   "cell_type": "code",
   "execution_count": 147,
   "id": "c7e4f645-d413-40e4-ae3a-aa36d415cfb2",
   "metadata": {},
   "outputs": [],
   "source": [
    "name = \"shubham\"\n",
    "age = 22\n"
   ]
  },
  {
   "cell_type": "code",
   "execution_count": 151,
   "id": "e33e71a9-3536-427c-a093-4c86f368b532",
   "metadata": {},
   "outputs": [
    {
     "name": "stdout",
     "output_type": "stream",
     "text": [
      "my name is shubham and i am 22 years old.\n"
     ]
    }
   ],
   "source": [
    "print(f\"my name is {name} and i am {age} years old.\")"
   ]
  },
  {
   "cell_type": "code",
   "execution_count": 153,
   "id": "4967b106-2875-4045-acbe-047292da28f0",
   "metadata": {},
   "outputs": [],
   "source": [
    "l = [1,3,5,68,9,9,5]\n"
   ]
  },
  {
   "cell_type": "code",
   "execution_count": 10,
   "id": "74b91b4f-1528-4df8-8f23-d0f83a5a94a6",
   "metadata": {},
   "outputs": [
    {
     "name": "stdout",
     "output_type": "stream",
     "text": [
      "0\n",
      "1\n",
      "2\n",
      "3\n",
      "4\n",
      "5\n",
      "6\n",
      "7\n",
      "8\n",
      "9\n"
     ]
    }
   ],
   "source": [
    "for i in range(10):\n",
    "    print(i)"
   ]
  },
  {
   "cell_type": "code",
   "execution_count": 12,
   "id": "0e4f7d63-af7e-4321-9192-6ff2c5b68883",
   "metadata": {},
   "outputs": [
    {
     "name": "stdout",
     "output_type": "stream",
     "text": [
      "0\n",
      "1\n",
      "2\n",
      "3\n",
      "4\n",
      "5\n",
      "6\n",
      "7\n",
      "8\n",
      "9\n"
     ]
    }
   ],
   "source": [
    "i = 0;\n",
    "while i < 10:\n",
    "    print(i)\n",
    "    i = i+1"
   ]
  },
  {
   "cell_type": "code",
   "execution_count": 14,
   "id": "133797ea-91a0-4f42-b3a9-90ec45f96f38",
   "metadata": {},
   "outputs": [],
   "source": [
    "l = [\"apple\",\"bananas\",\"orange\"]"
   ]
  },
  {
   "cell_type": "code",
   "execution_count": 16,
   "id": "bc7c8e93-48cb-4aa6-90c9-5e27f8637d9f",
   "metadata": {},
   "outputs": [
    {
     "name": "stdout",
     "output_type": "stream",
     "text": [
      "apple\n",
      "orange\n"
     ]
    }
   ],
   "source": [
    "for i in l:\n",
    "    if(i == \"bananas\"):\n",
    "        continue\n",
    "    print(i)"
   ]
  },
  {
   "cell_type": "code",
   "execution_count": 18,
   "id": "d9e8ee8e-3563-4797-b86e-256fa1337859",
   "metadata": {},
   "outputs": [],
   "source": [
    "l = [1,2,3]\n"
   ]
  },
  {
   "cell_type": "code",
   "execution_count": 20,
   "id": "d366bb4a-3198-4d5c-8738-5b00d4512ff6",
   "metadata": {},
   "outputs": [],
   "source": [
    "l.append(4)"
   ]
  },
  {
   "cell_type": "code",
   "execution_count": 22,
   "id": "be2158b5-047a-469c-b630-02f136664f91",
   "metadata": {},
   "outputs": [
    {
     "data": {
      "text/plain": [
       "[1, 2, 3, 4]"
      ]
     },
     "execution_count": 22,
     "metadata": {},
     "output_type": "execute_result"
    }
   ],
   "source": [
    "l\n"
   ]
  },
  {
   "cell_type": "code",
   "execution_count": 24,
   "id": "4ddd9bf0-806b-4c4f-a9f4-45a9bfbcf3da",
   "metadata": {},
   "outputs": [],
   "source": [
    "l2 = [5,6]"
   ]
  },
  {
   "cell_type": "code",
   "execution_count": 26,
   "id": "8902f33f-4a11-412d-9c67-281466ef0662",
   "metadata": {},
   "outputs": [],
   "source": [
    "l.extend(l2)"
   ]
  },
  {
   "cell_type": "code",
   "execution_count": 28,
   "id": "1f48655b-84e9-4812-9eaa-ac59c89688b5",
   "metadata": {},
   "outputs": [
    {
     "data": {
      "text/plain": [
       "[1, 2, 3, 4, 5, 6]"
      ]
     },
     "execution_count": 28,
     "metadata": {},
     "output_type": "execute_result"
    }
   ],
   "source": [
    "l\n"
   ]
  },
  {
   "cell_type": "code",
   "execution_count": 30,
   "id": "f63264f9-7fcc-49ba-9c90-5fac48f833ad",
   "metadata": {},
   "outputs": [],
   "source": [
    "l.insert(1,200)"
   ]
  },
  {
   "cell_type": "code",
   "execution_count": 32,
   "id": "dfa3aabf-3cb4-4f84-ad14-eaa6a0e276d8",
   "metadata": {},
   "outputs": [
    {
     "data": {
      "text/plain": [
       "[1, 200, 2, 3, 4, 5, 6]"
      ]
     },
     "execution_count": 32,
     "metadata": {},
     "output_type": "execute_result"
    }
   ],
   "source": [
    "l\n"
   ]
  },
  {
   "cell_type": "code",
   "execution_count": 34,
   "id": "b3cf518c-4ce1-4422-9fcb-3bacf784f99f",
   "metadata": {},
   "outputs": [],
   "source": [
    "l.insert(2,500)"
   ]
  },
  {
   "cell_type": "code",
   "execution_count": 36,
   "id": "2d5fab8c-cd77-4781-9a86-d1a65b3d22e4",
   "metadata": {},
   "outputs": [
    {
     "data": {
      "text/plain": [
       "[1, 200, 500, 2, 3, 4, 5, 6]"
      ]
     },
     "execution_count": 36,
     "metadata": {},
     "output_type": "execute_result"
    }
   ],
   "source": [
    "l\n"
   ]
  },
  {
   "cell_type": "code",
   "execution_count": 38,
   "id": "a9bfc138-dbd8-4b78-a82e-de7f17c2f898",
   "metadata": {},
   "outputs": [],
   "source": [
    "num = l.pop(1)"
   ]
  },
  {
   "cell_type": "code",
   "execution_count": 40,
   "id": "4b7a4aab-db25-4773-91ad-1901444b807f",
   "metadata": {},
   "outputs": [
    {
     "data": {
      "text/plain": [
       "200"
      ]
     },
     "execution_count": 40,
     "metadata": {},
     "output_type": "execute_result"
    }
   ],
   "source": [
    "num"
   ]
  },
  {
   "cell_type": "code",
   "execution_count": 41,
   "id": "ee3d5483-7f1d-48aa-979c-f4249dcbabea",
   "metadata": {},
   "outputs": [
    {
     "data": {
      "text/plain": [
       "[1, 500, 2, 3, 4, 5, 6]"
      ]
     },
     "execution_count": 41,
     "metadata": {},
     "output_type": "execute_result"
    }
   ],
   "source": [
    "l\n"
   ]
  },
  {
   "cell_type": "code",
   "execution_count": 44,
   "id": "e11d6ea7-c5b2-425c-9008-25929eb3f5dd",
   "metadata": {},
   "outputs": [
    {
     "data": {
      "text/plain": [
       "[1, 2, 3, 4, 5, 6, 500]"
      ]
     },
     "execution_count": 44,
     "metadata": {},
     "output_type": "execute_result"
    }
   ],
   "source": [
    "sorted(l)\n"
   ]
  },
  {
   "cell_type": "code",
   "execution_count": 45,
   "id": "83fd3d31-b5d2-4cfe-b182-a657ac51b892",
   "metadata": {},
   "outputs": [
    {
     "data": {
      "text/plain": [
       "[1, 500, 2, 3, 4, 5, 6]"
      ]
     },
     "execution_count": 45,
     "metadata": {},
     "output_type": "execute_result"
    }
   ],
   "source": [
    "l\n"
   ]
  },
  {
   "cell_type": "code",
   "execution_count": 67,
   "id": "a0c41a8e-889a-4e10-bac6-185152d72b8e",
   "metadata": {},
   "outputs": [
    {
     "name": "stdout",
     "output_type": "stream",
     "text": [
      "test\n"
     ]
    }
   ],
   "source": [
    "print(\"test\")"
   ]
  },
  {
   "cell_type": "code",
   "execution_count": 11,
   "id": "0f1d4d0f-a448-4765-b562-5b0a61f7100f",
   "metadata": {},
   "outputs": [],
   "source": [
    "s = {1,2,3,4,4,1,6,8,2,6,8,95,44,35,4,21}"
   ]
  },
  {
   "cell_type": "code",
   "execution_count": 84,
   "id": "4a9a474f-41c3-4fe8-8fb6-4d0aec93d36a",
   "metadata": {},
   "outputs": [
    {
     "ename": "SyntaxError",
     "evalue": "invalid syntax (1367437092.py, line 1)",
     "output_type": "error",
     "traceback": [
      "\u001b[1;36m  Cell \u001b[1;32mIn[84], line 1\u001b[1;36m\u001b[0m\n\u001b[1;33m    len(s)l\u001b[0m\n\u001b[1;37m          ^\u001b[0m\n\u001b[1;31mSyntaxError\u001b[0m\u001b[1;31m:\u001b[0m invalid syntax\n"
     ]
    }
   ],
   "source": [
    "len(s)\n"
   ]
  },
  {
   "cell_type": "code",
   "execution_count": 15,
   "id": "4d7e2fe7-93d4-4838-8f9a-e7fb03751de3",
   "metadata": {},
   "outputs": [
    {
     "data": {
      "text/plain": [
       "{1, 2, 3, 4, 6, 8, 21, 35, 44, 95}"
      ]
     },
     "execution_count": 15,
     "metadata": {},
     "output_type": "execute_result"
    }
   ],
   "source": [
    "s"
   ]
  },
  {
   "cell_type": "code",
   "execution_count": 27,
   "id": "3864805e-405d-4f85-8d02-005ccae2bc7a",
   "metadata": {},
   "outputs": [],
   "source": [
    "s.add(10)"
   ]
  },
  {
   "cell_type": "code",
   "execution_count": 29,
   "id": "19b4abc6-0cda-406e-aaeb-4b0f8186ca10",
   "metadata": {},
   "outputs": [
    {
     "data": {
      "text/plain": [
       "{1, 2, 3, 4, 6, 8, 10, 21, 35, 44, 95}"
      ]
     },
     "execution_count": 29,
     "metadata": {},
     "output_type": "execute_result"
    }
   ],
   "source": [
    "s\n"
   ]
  },
  {
   "cell_type": "code",
   "execution_count": 31,
   "id": "da544bb8-8aae-49d2-97fe-e95a27664449",
   "metadata": {},
   "outputs": [],
   "source": [
    "s.remove(10)"
   ]
  },
  {
   "cell_type": "code",
   "execution_count": 41,
   "id": "08c2beb5-2365-4daa-9d8a-e1d950dedf18",
   "metadata": {},
   "outputs": [
    {
     "data": {
      "text/plain": [
       "{2, 3, 4, 6, 8, 21, 35, 44, 95}"
      ]
     },
     "execution_count": 41,
     "metadata": {},
     "output_type": "execute_result"
    }
   ],
   "source": [
    "s\n"
   ]
  },
  {
   "cell_type": "code",
   "execution_count": 39,
   "id": "949c54f1-6d91-4784-aac8-8c50d971abcc",
   "metadata": {},
   "outputs": [],
   "source": [
    "s.discard(1)"
   ]
  },
  {
   "cell_type": "code",
   "execution_count": 45,
   "id": "b307165d-6fcb-488c-a1a0-a15a09600386",
   "metadata": {},
   "outputs": [],
   "source": [
    "colour = {\n",
    "    \"red\": 223,\n",
    "    \"blue\":123,\n",
    "    \"black\": 255\n",
    "}"
   ]
  },
  {
   "cell_type": "code",
   "execution_count": 57,
   "id": "40ebfe3a-6e9f-4ab4-b27c-ffbe20a0b756",
   "metadata": {},
   "outputs": [],
   "source": [
    "colour[\"black\"] = 4"
   ]
  },
  {
   "cell_type": "code",
   "execution_count": 59,
   "id": "0218850d-cef1-45f9-a229-f39049e5bee1",
   "metadata": {},
   "outputs": [
    {
     "data": {
      "text/plain": [
       "{'red': 223, 'blue': 123, 'black': 4}"
      ]
     },
     "execution_count": 59,
     "metadata": {},
     "output_type": "execute_result"
    }
   ],
   "source": [
    "colour"
   ]
  },
  {
   "cell_type": "code",
   "execution_count": 64,
   "id": "2afd78cf-f2b4-4703-8c06-2a6ede9c97f6",
   "metadata": {},
   "outputs": [],
   "source": [
    "f = open(\"text.txt\",\"r\")"
   ]
  },
  {
   "cell_type": "code",
   "execution_count": 66,
   "id": "fd6d056d-72e7-4299-8253-ccd30bffd3be",
   "metadata": {},
   "outputs": [
    {
     "data": {
      "text/plain": [
       "'hello sk'"
      ]
     },
     "execution_count": 66,
     "metadata": {},
     "output_type": "execute_result"
    }
   ],
   "source": [
    "f.read()"
   ]
  },
  {
   "cell_type": "code",
   "execution_count": 68,
   "id": "6b629182-3ecc-485f-85fa-f7eb26028ccb",
   "metadata": {},
   "outputs": [],
   "source": [
    "f.close()"
   ]
  },
  {
   "cell_type": "code",
   "execution_count": 98,
   "id": "49a74e72-5e41-48e5-a3ab-e146b55ac2b2",
   "metadata": {},
   "outputs": [],
   "source": [
    "f = open(\"sk.txt\",\"w\")"
   ]
  },
  {
   "cell_type": "code",
   "execution_count": 100,
   "id": "99757cf6-11e3-442b-8928-405472422a91",
   "metadata": {},
   "outputs": [
    {
     "data": {
      "text/plain": [
       "7"
      ]
     },
     "execution_count": 100,
     "metadata": {},
     "output_type": "execute_result"
    }
   ],
   "source": [
    "f.write(\"digital\")"
   ]
  },
  {
   "cell_type": "code",
   "execution_count": 102,
   "id": "6d28d75b-df98-4b8d-8ebb-71b36ad6f879",
   "metadata": {},
   "outputs": [],
   "source": [
    "f.close()"
   ]
  },
  {
   "cell_type": "code",
   "execution_count": 2,
   "id": "ac41072d-2e02-4091-bd02-619c48b31355",
   "metadata": {},
   "outputs": [],
   "source": [
    "import json"
   ]
  },
  {
   "cell_type": "code",
   "execution_count": 40,
   "id": "7803917e-7e28-4b22-86fd-be71a7acbc35",
   "metadata": {},
   "outputs": [],
   "source": [
    "obj = {\n",
    "    \"name\" : \"sk\",\n",
    "    \"age\" : 22,\n",
    "    \"salary\" : 75000\n",
    "}"
   ]
  },
  {
   "cell_type": "code",
   "execution_count": 42,
   "id": "4c08b515-6583-4f9b-9d48-76f9799c391b",
   "metadata": {},
   "outputs": [
    {
     "data": {
      "text/plain": [
       "'{\"name\": \"sk\", \"age\": 22, \"salary\": 75000}'"
      ]
     },
     "execution_count": 42,
     "metadata": {},
     "output_type": "execute_result"
    }
   ],
   "source": [
    "json.dumps(obj)"
   ]
  },
  {
   "cell_type": "code",
   "execution_count": 44,
   "id": "078178cd-9c23-45dd-9e05-38e2013bd9f4",
   "metadata": {},
   "outputs": [
    {
     "data": {
      "text/plain": [
       "dict"
      ]
     },
     "execution_count": 44,
     "metadata": {},
     "output_type": "execute_result"
    }
   ],
   "source": [
    "type(obj)"
   ]
  },
  {
   "cell_type": "code",
   "execution_count": 46,
   "id": "ceb9e9bc-9196-4f3c-a4ea-cdcc96d02ef6",
   "metadata": {},
   "outputs": [],
   "source": [
    "f = open(\"data.json\",\"w\")\n"
   ]
  },
  {
   "cell_type": "code",
   "execution_count": 48,
   "id": "5eda007e-a831-4665-80cb-6a662694f94b",
   "metadata": {},
   "outputs": [],
   "source": [
    "json.dump(obj,f)\n"
   ]
  },
  {
   "cell_type": "code",
   "execution_count": 50,
   "id": "70aa3ac5-124e-40d3-9fad-42f79a574826",
   "metadata": {},
   "outputs": [],
   "source": [
    "f.close()"
   ]
  },
  {
   "cell_type": "code",
   "execution_count": 64,
   "id": "c4327e61-b932-4711-a032-095c96cf5bfd",
   "metadata": {},
   "outputs": [
    {
     "name": "stdout",
     "output_type": "stream",
     "text": [
      "The compuny of name digital is Dell and their salary is 4500\n"
     ]
    }
   ],
   "source": [
    "class Employee:\n",
    "    company = \"Dell\"\n",
    "    def __init__(self,name,salary):\n",
    "        self.name = name\n",
    "        self.salary = salary\n",
    "    def printDetail(self):\n",
    "        print(f\"The compuny of name {self.name} is {self.company} and their salary is {self.salary}\")\n",
    "\n",
    "e = Employee(\"sk\",3500)\n",
    "e = Employee(\"digital\",4500)\n",
    "e.printDetail()"
   ]
  },
  {
   "cell_type": "code",
   "execution_count": 74,
   "id": "4c3b711c-51aa-48b4-b392-bf58375dcf01",
   "metadata": {},
   "outputs": [
    {
     "data": {
      "text/plain": [
       "[8, 16, 24, 32, 40]"
      ]
     },
     "execution_count": 74,
     "metadata": {},
     "output_type": "execute_result"
    }
   ],
   "source": [
    "t = [4*i for i in range(1,11) if i%2==0]\n",
    "t"
   ]
  },
  {
   "cell_type": "code",
   "execution_count": null,
   "id": "ebb91a45-348a-451e-ab35-215f6a4de0af",
   "metadata": {},
   "outputs": [],
   "source": []
  }
 ],
 "metadata": {
  "kernelspec": {
   "display_name": "Python [conda env:base] *",
   "language": "python",
   "name": "conda-base-py"
  },
  "language_info": {
   "codemirror_mode": {
    "name": "ipython",
    "version": 3
   },
   "file_extension": ".py",
   "mimetype": "text/x-python",
   "name": "python",
   "nbconvert_exporter": "python",
   "pygments_lexer": "ipython3",
   "version": "3.12.7"
  }
 },
 "nbformat": 4,
 "nbformat_minor": 5
}
