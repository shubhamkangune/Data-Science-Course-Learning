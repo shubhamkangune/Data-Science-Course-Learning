{
 "cells": [
  {
   "cell_type": "code",
   "execution_count": 2,
   "id": "1e5f615c-affd-4089-a0be-88cb85dea372",
   "metadata": {},
   "outputs": [],
   "source": [
    "import pandas as pd"
   ]
  },
  {
   "cell_type": "code",
   "execution_count": 3,
   "id": "dfaf4163-5ad2-44e4-aa31-cb1d6963022c",
   "metadata": {},
   "outputs": [],
   "source": [
    "df = pd.read_csv(\"data.csv\")"
   ]
  },
  {
   "cell_type": "code",
   "execution_count": 4,
   "id": "8dd80f42-9e83-4451-8220-2309efaf7f0f",
   "metadata": {},
   "outputs": [
    {
     "data": {
      "text/html": [
       "<div>\n",
       "<style scoped>\n",
       "    .dataframe tbody tr th:only-of-type {\n",
       "        vertical-align: middle;\n",
       "    }\n",
       "\n",
       "    .dataframe tbody tr th {\n",
       "        vertical-align: top;\n",
       "    }\n",
       "\n",
       "    .dataframe thead th {\n",
       "        text-align: right;\n",
       "    }\n",
       "</style>\n",
       "<table border=\"1\" class=\"dataframe\">\n",
       "  <thead>\n",
       "    <tr style=\"text-align: right;\">\n",
       "      <th></th>\n",
       "      <th>Name</th>\n",
       "      <th>Age</th>\n",
       "      <th>City</th>\n",
       "      <th>Gender</th>\n",
       "      <th>Email</th>\n",
       "      <th>Join Date</th>\n",
       "    </tr>\n",
       "  </thead>\n",
       "  <tbody>\n",
       "    <tr>\n",
       "      <th>0</th>\n",
       "      <td>Alice</td>\n",
       "      <td>25.0</td>\n",
       "      <td>New York</td>\n",
       "      <td>F</td>\n",
       "      <td>alice@example.com</td>\n",
       "      <td>1/5/2021</td>\n",
       "    </tr>\n",
       "    <tr>\n",
       "      <th>1</th>\n",
       "      <td>Charlie</td>\n",
       "      <td>NaN</td>\n",
       "      <td>Delhi</td>\n",
       "      <td>M</td>\n",
       "      <td>charlie@example</td>\n",
       "      <td>20-07-2021</td>\n",
       "    </tr>\n",
       "    <tr>\n",
       "      <th>2</th>\n",
       "      <td>Bob</td>\n",
       "      <td>30.0</td>\n",
       "      <td>Los Angeles</td>\n",
       "      <td>M</td>\n",
       "      <td>bob@example.com</td>\n",
       "      <td>15-06-2020</td>\n",
       "    </tr>\n",
       "    <tr>\n",
       "      <th>3</th>\n",
       "      <td>Charlie</td>\n",
       "      <td>NaN</td>\n",
       "      <td>Delhi</td>\n",
       "      <td>M</td>\n",
       "      <td>charlie@example</td>\n",
       "      <td>20-07-2021</td>\n",
       "    </tr>\n",
       "    <tr>\n",
       "      <th>4</th>\n",
       "      <td>David</td>\n",
       "      <td>22.0</td>\n",
       "      <td>Mumbai</td>\n",
       "      <td>M</td>\n",
       "      <td>david@example.com</td>\n",
       "      <td>12/11/2019</td>\n",
       "    </tr>\n",
       "    <tr>\n",
       "      <th>5</th>\n",
       "      <td>NaN</td>\n",
       "      <td>28.0</td>\n",
       "      <td>Delhi</td>\n",
       "      <td>F</td>\n",
       "      <td>eve@domain.com</td>\n",
       "      <td>NaN</td>\n",
       "    </tr>\n",
       "    <tr>\n",
       "      <th>6</th>\n",
       "      <td>Alice</td>\n",
       "      <td>25.0</td>\n",
       "      <td>New York</td>\n",
       "      <td>F</td>\n",
       "      <td>alice@example.com</td>\n",
       "      <td>1/5/2021</td>\n",
       "    </tr>\n",
       "    <tr>\n",
       "      <th>7</th>\n",
       "      <td>Alice</td>\n",
       "      <td>25.0</td>\n",
       "      <td>New York</td>\n",
       "      <td>F</td>\n",
       "      <td>alice@example.com</td>\n",
       "      <td>1/5/2021</td>\n",
       "    </tr>\n",
       "    <tr>\n",
       "      <th>8</th>\n",
       "      <td>Charlie</td>\n",
       "      <td>NaN</td>\n",
       "      <td>Delhi</td>\n",
       "      <td>M</td>\n",
       "      <td>charlie@example</td>\n",
       "      <td>20-07-2021</td>\n",
       "    </tr>\n",
       "  </tbody>\n",
       "</table>\n",
       "</div>"
      ],
      "text/plain": [
       "      Name   Age         City Gender              Email   Join Date\n",
       "0    Alice  25.0     New York      F  alice@example.com    1/5/2021\n",
       "1  Charlie   NaN        Delhi      M    charlie@example  20-07-2021\n",
       "2      Bob  30.0  Los Angeles      M    bob@example.com  15-06-2020\n",
       "3  Charlie   NaN        Delhi      M    charlie@example  20-07-2021\n",
       "4    David  22.0       Mumbai      M  david@example.com  12/11/2019\n",
       "5      NaN  28.0        Delhi      F     eve@domain.com         NaN\n",
       "6    Alice  25.0     New York      F  alice@example.com    1/5/2021\n",
       "7    Alice  25.0     New York      F  alice@example.com    1/5/2021\n",
       "8  Charlie   NaN        Delhi      M    charlie@example  20-07-2021"
      ]
     },
     "execution_count": 4,
     "metadata": {},
     "output_type": "execute_result"
    }
   ],
   "source": [
    "df"
   ]
  },
  {
   "cell_type": "code",
   "execution_count": 5,
   "id": "7a249aa5-86fe-4b08-9e67-fe1b8eda9d6a",
   "metadata": {},
   "outputs": [
    {
     "data": {
      "text/html": [
       "<div>\n",
       "<style scoped>\n",
       "    .dataframe tbody tr th:only-of-type {\n",
       "        vertical-align: middle;\n",
       "    }\n",
       "\n",
       "    .dataframe tbody tr th {\n",
       "        vertical-align: top;\n",
       "    }\n",
       "\n",
       "    .dataframe thead th {\n",
       "        text-align: right;\n",
       "    }\n",
       "</style>\n",
       "<table border=\"1\" class=\"dataframe\">\n",
       "  <thead>\n",
       "    <tr style=\"text-align: right;\">\n",
       "      <th></th>\n",
       "      <th>Name</th>\n",
       "      <th>Age</th>\n",
       "      <th>City</th>\n",
       "      <th>Gender</th>\n",
       "      <th>Email</th>\n",
       "      <th>Join Date</th>\n",
       "    </tr>\n",
       "  </thead>\n",
       "  <tbody>\n",
       "    <tr>\n",
       "      <th>0</th>\n",
       "      <td>Alice</td>\n",
       "      <td>25.0</td>\n",
       "      <td>New York</td>\n",
       "      <td>F</td>\n",
       "      <td>alice@example.com</td>\n",
       "      <td>1/5/2021</td>\n",
       "    </tr>\n",
       "    <tr>\n",
       "      <th>2</th>\n",
       "      <td>Bob</td>\n",
       "      <td>30.0</td>\n",
       "      <td>Los Angeles</td>\n",
       "      <td>M</td>\n",
       "      <td>bob@example.com</td>\n",
       "      <td>15-06-2020</td>\n",
       "    </tr>\n",
       "    <tr>\n",
       "      <th>4</th>\n",
       "      <td>David</td>\n",
       "      <td>22.0</td>\n",
       "      <td>Mumbai</td>\n",
       "      <td>M</td>\n",
       "      <td>david@example.com</td>\n",
       "      <td>12/11/2019</td>\n",
       "    </tr>\n",
       "    <tr>\n",
       "      <th>6</th>\n",
       "      <td>Alice</td>\n",
       "      <td>25.0</td>\n",
       "      <td>New York</td>\n",
       "      <td>F</td>\n",
       "      <td>alice@example.com</td>\n",
       "      <td>1/5/2021</td>\n",
       "    </tr>\n",
       "    <tr>\n",
       "      <th>7</th>\n",
       "      <td>Alice</td>\n",
       "      <td>25.0</td>\n",
       "      <td>New York</td>\n",
       "      <td>F</td>\n",
       "      <td>alice@example.com</td>\n",
       "      <td>1/5/2021</td>\n",
       "    </tr>\n",
       "  </tbody>\n",
       "</table>\n",
       "</div>"
      ],
      "text/plain": [
       "    Name   Age         City Gender              Email   Join Date\n",
       "0  Alice  25.0     New York      F  alice@example.com    1/5/2021\n",
       "2    Bob  30.0  Los Angeles      M    bob@example.com  15-06-2020\n",
       "4  David  22.0       Mumbai      M  david@example.com  12/11/2019\n",
       "6  Alice  25.0     New York      F  alice@example.com    1/5/2021\n",
       "7  Alice  25.0     New York      F  alice@example.com    1/5/2021"
      ]
     },
     "execution_count": 5,
     "metadata": {},
     "output_type": "execute_result"
    }
   ],
   "source": [
    "df.dropna()"
   ]
  },
  {
   "cell_type": "code",
   "execution_count": 6,
   "id": "0d2f95dd-8692-4766-89f8-955395a9612d",
   "metadata": {},
   "outputs": [
    {
     "data": {
      "text/html": [
       "<div>\n",
       "<style scoped>\n",
       "    .dataframe tbody tr th:only-of-type {\n",
       "        vertical-align: middle;\n",
       "    }\n",
       "\n",
       "    .dataframe tbody tr th {\n",
       "        vertical-align: top;\n",
       "    }\n",
       "\n",
       "    .dataframe thead th {\n",
       "        text-align: right;\n",
       "    }\n",
       "</style>\n",
       "<table border=\"1\" class=\"dataframe\">\n",
       "  <thead>\n",
       "    <tr style=\"text-align: right;\">\n",
       "      <th></th>\n",
       "      <th>City</th>\n",
       "      <th>Gender</th>\n",
       "      <th>Email</th>\n",
       "    </tr>\n",
       "  </thead>\n",
       "  <tbody>\n",
       "    <tr>\n",
       "      <th>0</th>\n",
       "      <td>New York</td>\n",
       "      <td>F</td>\n",
       "      <td>alice@example.com</td>\n",
       "    </tr>\n",
       "    <tr>\n",
       "      <th>1</th>\n",
       "      <td>Delhi</td>\n",
       "      <td>M</td>\n",
       "      <td>charlie@example</td>\n",
       "    </tr>\n",
       "    <tr>\n",
       "      <th>2</th>\n",
       "      <td>Los Angeles</td>\n",
       "      <td>M</td>\n",
       "      <td>bob@example.com</td>\n",
       "    </tr>\n",
       "    <tr>\n",
       "      <th>3</th>\n",
       "      <td>Delhi</td>\n",
       "      <td>M</td>\n",
       "      <td>charlie@example</td>\n",
       "    </tr>\n",
       "    <tr>\n",
       "      <th>4</th>\n",
       "      <td>Mumbai</td>\n",
       "      <td>M</td>\n",
       "      <td>david@example.com</td>\n",
       "    </tr>\n",
       "    <tr>\n",
       "      <th>5</th>\n",
       "      <td>Delhi</td>\n",
       "      <td>F</td>\n",
       "      <td>eve@domain.com</td>\n",
       "    </tr>\n",
       "    <tr>\n",
       "      <th>6</th>\n",
       "      <td>New York</td>\n",
       "      <td>F</td>\n",
       "      <td>alice@example.com</td>\n",
       "    </tr>\n",
       "    <tr>\n",
       "      <th>7</th>\n",
       "      <td>New York</td>\n",
       "      <td>F</td>\n",
       "      <td>alice@example.com</td>\n",
       "    </tr>\n",
       "    <tr>\n",
       "      <th>8</th>\n",
       "      <td>Delhi</td>\n",
       "      <td>M</td>\n",
       "      <td>charlie@example</td>\n",
       "    </tr>\n",
       "  </tbody>\n",
       "</table>\n",
       "</div>"
      ],
      "text/plain": [
       "          City Gender              Email\n",
       "0     New York      F  alice@example.com\n",
       "1        Delhi      M    charlie@example\n",
       "2  Los Angeles      M    bob@example.com\n",
       "3        Delhi      M    charlie@example\n",
       "4       Mumbai      M  david@example.com\n",
       "5        Delhi      F     eve@domain.com\n",
       "6     New York      F  alice@example.com\n",
       "7     New York      F  alice@example.com\n",
       "8        Delhi      M    charlie@example"
      ]
     },
     "execution_count": 6,
     "metadata": {},
     "output_type": "execute_result"
    }
   ],
   "source": [
    "df.dropna(axis=1)"
   ]
  },
  {
   "cell_type": "code",
   "execution_count": 7,
   "id": "8a429dc7-6e59-40a6-a732-5757a30430f9",
   "metadata": {},
   "outputs": [
    {
     "data": {
      "text/html": [
       "<div>\n",
       "<style scoped>\n",
       "    .dataframe tbody tr th:only-of-type {\n",
       "        vertical-align: middle;\n",
       "    }\n",
       "\n",
       "    .dataframe tbody tr th {\n",
       "        vertical-align: top;\n",
       "    }\n",
       "\n",
       "    .dataframe thead th {\n",
       "        text-align: right;\n",
       "    }\n",
       "</style>\n",
       "<table border=\"1\" class=\"dataframe\">\n",
       "  <thead>\n",
       "    <tr style=\"text-align: right;\">\n",
       "      <th></th>\n",
       "      <th>Name</th>\n",
       "      <th>Age</th>\n",
       "      <th>City</th>\n",
       "      <th>Gender</th>\n",
       "      <th>Email</th>\n",
       "      <th>Join Date</th>\n",
       "    </tr>\n",
       "  </thead>\n",
       "  <tbody>\n",
       "    <tr>\n",
       "      <th>0</th>\n",
       "      <td>Alice</td>\n",
       "      <td>25.0</td>\n",
       "      <td>New York</td>\n",
       "      <td>F</td>\n",
       "      <td>alice@example.com</td>\n",
       "      <td>1/5/2021</td>\n",
       "    </tr>\n",
       "    <tr>\n",
       "      <th>1</th>\n",
       "      <td>Charlie</td>\n",
       "      <td>0.0</td>\n",
       "      <td>Delhi</td>\n",
       "      <td>M</td>\n",
       "      <td>charlie@example</td>\n",
       "      <td>20-07-2021</td>\n",
       "    </tr>\n",
       "    <tr>\n",
       "      <th>2</th>\n",
       "      <td>Bob</td>\n",
       "      <td>30.0</td>\n",
       "      <td>Los Angeles</td>\n",
       "      <td>M</td>\n",
       "      <td>bob@example.com</td>\n",
       "      <td>15-06-2020</td>\n",
       "    </tr>\n",
       "    <tr>\n",
       "      <th>3</th>\n",
       "      <td>Charlie</td>\n",
       "      <td>0.0</td>\n",
       "      <td>Delhi</td>\n",
       "      <td>M</td>\n",
       "      <td>charlie@example</td>\n",
       "      <td>20-07-2021</td>\n",
       "    </tr>\n",
       "    <tr>\n",
       "      <th>4</th>\n",
       "      <td>David</td>\n",
       "      <td>22.0</td>\n",
       "      <td>Mumbai</td>\n",
       "      <td>M</td>\n",
       "      <td>david@example.com</td>\n",
       "      <td>12/11/2019</td>\n",
       "    </tr>\n",
       "    <tr>\n",
       "      <th>5</th>\n",
       "      <td>0</td>\n",
       "      <td>28.0</td>\n",
       "      <td>Delhi</td>\n",
       "      <td>F</td>\n",
       "      <td>eve@domain.com</td>\n",
       "      <td>0</td>\n",
       "    </tr>\n",
       "    <tr>\n",
       "      <th>6</th>\n",
       "      <td>Alice</td>\n",
       "      <td>25.0</td>\n",
       "      <td>New York</td>\n",
       "      <td>F</td>\n",
       "      <td>alice@example.com</td>\n",
       "      <td>1/5/2021</td>\n",
       "    </tr>\n",
       "    <tr>\n",
       "      <th>7</th>\n",
       "      <td>Alice</td>\n",
       "      <td>25.0</td>\n",
       "      <td>New York</td>\n",
       "      <td>F</td>\n",
       "      <td>alice@example.com</td>\n",
       "      <td>1/5/2021</td>\n",
       "    </tr>\n",
       "    <tr>\n",
       "      <th>8</th>\n",
       "      <td>Charlie</td>\n",
       "      <td>0.0</td>\n",
       "      <td>Delhi</td>\n",
       "      <td>M</td>\n",
       "      <td>charlie@example</td>\n",
       "      <td>20-07-2021</td>\n",
       "    </tr>\n",
       "  </tbody>\n",
       "</table>\n",
       "</div>"
      ],
      "text/plain": [
       "      Name   Age         City Gender              Email   Join Date\n",
       "0    Alice  25.0     New York      F  alice@example.com    1/5/2021\n",
       "1  Charlie   0.0        Delhi      M    charlie@example  20-07-2021\n",
       "2      Bob  30.0  Los Angeles      M    bob@example.com  15-06-2020\n",
       "3  Charlie   0.0        Delhi      M    charlie@example  20-07-2021\n",
       "4    David  22.0       Mumbai      M  david@example.com  12/11/2019\n",
       "5        0  28.0        Delhi      F     eve@domain.com           0\n",
       "6    Alice  25.0     New York      F  alice@example.com    1/5/2021\n",
       "7    Alice  25.0     New York      F  alice@example.com    1/5/2021\n",
       "8  Charlie   0.0        Delhi      M    charlie@example  20-07-2021"
      ]
     },
     "execution_count": 7,
     "metadata": {},
     "output_type": "execute_result"
    }
   ],
   "source": [
    "df.fillna(0)"
   ]
  },
  {
   "cell_type": "code",
   "execution_count": 8,
   "id": "3b6728fd-8ee8-48ac-bb0f-bad4f90ef7ec",
   "metadata": {},
   "outputs": [
    {
     "data": {
      "text/plain": [
       "0    25.000000\n",
       "1    25.833333\n",
       "2    30.000000\n",
       "3    25.833333\n",
       "4    22.000000\n",
       "5    28.000000\n",
       "6    25.000000\n",
       "7    25.000000\n",
       "8    25.833333\n",
       "Name: Age, dtype: float64"
      ]
     },
     "execution_count": 8,
     "metadata": {},
     "output_type": "execute_result"
    }
   ],
   "source": [
    "df[\"Age\"].fillna(df[\"Age\"].mean())"
   ]
  },
  {
   "cell_type": "code",
   "execution_count": 31,
   "id": "b0c02533-02e3-4714-a987-4a33ffe76085",
   "metadata": {},
   "outputs": [
    {
     "data": {
      "text/plain": [
       "Name         1\n",
       "Age          3\n",
       "City         0\n",
       "Gender       0\n",
       "Email        0\n",
       "Join Date    1\n",
       "dtype: int64"
      ]
     },
     "execution_count": 31,
     "metadata": {},
     "output_type": "execute_result"
    }
   ],
   "source": [
    "df.isnull().sum()"
   ]
  },
  {
   "cell_type": "code",
   "execution_count": 33,
   "id": "1b1a66bb-ea6a-423e-9922-6d4591057ff2",
   "metadata": {},
   "outputs": [
    {
     "data": {
      "text/html": [
       "<div>\n",
       "<style scoped>\n",
       "    .dataframe tbody tr th:only-of-type {\n",
       "        vertical-align: middle;\n",
       "    }\n",
       "\n",
       "    .dataframe tbody tr th {\n",
       "        vertical-align: top;\n",
       "    }\n",
       "\n",
       "    .dataframe thead th {\n",
       "        text-align: right;\n",
       "    }\n",
       "</style>\n",
       "<table border=\"1\" class=\"dataframe\">\n",
       "  <thead>\n",
       "    <tr style=\"text-align: right;\">\n",
       "      <th></th>\n",
       "      <th>Name</th>\n",
       "      <th>Age</th>\n",
       "      <th>City</th>\n",
       "      <th>Gender</th>\n",
       "      <th>Email</th>\n",
       "      <th>Join Date</th>\n",
       "    </tr>\n",
       "  </thead>\n",
       "  <tbody>\n",
       "    <tr>\n",
       "      <th>0</th>\n",
       "      <td>Alice</td>\n",
       "      <td>25.0</td>\n",
       "      <td>New York</td>\n",
       "      <td>F</td>\n",
       "      <td>alice@example.com</td>\n",
       "      <td>1/5/2021</td>\n",
       "    </tr>\n",
       "    <tr>\n",
       "      <th>1</th>\n",
       "      <td>Charlie</td>\n",
       "      <td>NaN</td>\n",
       "      <td>Delhi</td>\n",
       "      <td>M</td>\n",
       "      <td>charlie@example</td>\n",
       "      <td>20-07-2021</td>\n",
       "    </tr>\n",
       "    <tr>\n",
       "      <th>2</th>\n",
       "      <td>Bob</td>\n",
       "      <td>30.0</td>\n",
       "      <td>Los Angeles</td>\n",
       "      <td>M</td>\n",
       "      <td>bob@example.com</td>\n",
       "      <td>15-06-2020</td>\n",
       "    </tr>\n",
       "    <tr>\n",
       "      <th>3</th>\n",
       "      <td>Charlie</td>\n",
       "      <td>NaN</td>\n",
       "      <td>Delhi</td>\n",
       "      <td>M</td>\n",
       "      <td>charlie@example</td>\n",
       "      <td>20-07-2021</td>\n",
       "    </tr>\n",
       "    <tr>\n",
       "      <th>4</th>\n",
       "      <td>David</td>\n",
       "      <td>22.0</td>\n",
       "      <td>Mumbai</td>\n",
       "      <td>M</td>\n",
       "      <td>david@example.com</td>\n",
       "      <td>12/11/2019</td>\n",
       "    </tr>\n",
       "    <tr>\n",
       "      <th>5</th>\n",
       "      <td>NaN</td>\n",
       "      <td>28.0</td>\n",
       "      <td>Delhi</td>\n",
       "      <td>F</td>\n",
       "      <td>eve@domain.com</td>\n",
       "      <td>NaN</td>\n",
       "    </tr>\n",
       "    <tr>\n",
       "      <th>6</th>\n",
       "      <td>Alice</td>\n",
       "      <td>25.0</td>\n",
       "      <td>New York</td>\n",
       "      <td>F</td>\n",
       "      <td>alice@example.com</td>\n",
       "      <td>1/5/2021</td>\n",
       "    </tr>\n",
       "    <tr>\n",
       "      <th>7</th>\n",
       "      <td>Alice</td>\n",
       "      <td>25.0</td>\n",
       "      <td>New York</td>\n",
       "      <td>F</td>\n",
       "      <td>alice@example.com</td>\n",
       "      <td>1/5/2021</td>\n",
       "    </tr>\n",
       "    <tr>\n",
       "      <th>8</th>\n",
       "      <td>Charlie</td>\n",
       "      <td>NaN</td>\n",
       "      <td>Delhi</td>\n",
       "      <td>M</td>\n",
       "      <td>charlie@example</td>\n",
       "      <td>20-07-2021</td>\n",
       "    </tr>\n",
       "  </tbody>\n",
       "</table>\n",
       "</div>"
      ],
      "text/plain": [
       "      Name   Age         City Gender              Email   Join Date\n",
       "0    Alice  25.0     New York      F  alice@example.com    1/5/2021\n",
       "1  Charlie   NaN        Delhi      M    charlie@example  20-07-2021\n",
       "2      Bob  30.0  Los Angeles      M    bob@example.com  15-06-2020\n",
       "3  Charlie   NaN        Delhi      M    charlie@example  20-07-2021\n",
       "4    David  22.0       Mumbai      M  david@example.com  12/11/2019\n",
       "5      NaN  28.0        Delhi      F     eve@domain.com         NaN\n",
       "6    Alice  25.0     New York      F  alice@example.com    1/5/2021\n",
       "7    Alice  25.0     New York      F  alice@example.com    1/5/2021\n",
       "8  Charlie   NaN        Delhi      M    charlie@example  20-07-2021"
      ]
     },
     "execution_count": 33,
     "metadata": {},
     "output_type": "execute_result"
    }
   ],
   "source": [
    "df"
   ]
  },
  {
   "cell_type": "code",
   "execution_count": 39,
   "id": "48b08f5c-c5a1-475e-b06c-1bc09fd6716b",
   "metadata": {},
   "outputs": [
    {
     "data": {
      "text/html": [
       "<div>\n",
       "<style scoped>\n",
       "    .dataframe tbody tr th:only-of-type {\n",
       "        vertical-align: middle;\n",
       "    }\n",
       "\n",
       "    .dataframe tbody tr th {\n",
       "        vertical-align: top;\n",
       "    }\n",
       "\n",
       "    .dataframe thead th {\n",
       "        text-align: right;\n",
       "    }\n",
       "</style>\n",
       "<table border=\"1\" class=\"dataframe\">\n",
       "  <thead>\n",
       "    <tr style=\"text-align: right;\">\n",
       "      <th></th>\n",
       "      <th>Name</th>\n",
       "      <th>Age</th>\n",
       "      <th>City</th>\n",
       "      <th>Gender</th>\n",
       "      <th>Email</th>\n",
       "      <th>Join Date</th>\n",
       "    </tr>\n",
       "  </thead>\n",
       "  <tbody>\n",
       "    <tr>\n",
       "      <th>0</th>\n",
       "      <td>Alice</td>\n",
       "      <td>25.0</td>\n",
       "      <td>New York</td>\n",
       "      <td>F</td>\n",
       "      <td>alice@example.com</td>\n",
       "      <td>1/5/2021</td>\n",
       "    </tr>\n",
       "    <tr>\n",
       "      <th>2</th>\n",
       "      <td>Bob</td>\n",
       "      <td>30.0</td>\n",
       "      <td>Los Angeles</td>\n",
       "      <td>M</td>\n",
       "      <td>bob@example.com</td>\n",
       "      <td>15-06-2020</td>\n",
       "    </tr>\n",
       "    <tr>\n",
       "      <th>4</th>\n",
       "      <td>David</td>\n",
       "      <td>22.0</td>\n",
       "      <td>Mumbai</td>\n",
       "      <td>M</td>\n",
       "      <td>david@example.com</td>\n",
       "      <td>12/11/2019</td>\n",
       "    </tr>\n",
       "    <tr>\n",
       "      <th>6</th>\n",
       "      <td>Alice</td>\n",
       "      <td>25.0</td>\n",
       "      <td>New York</td>\n",
       "      <td>F</td>\n",
       "      <td>alice@example.com</td>\n",
       "      <td>1/5/2021</td>\n",
       "    </tr>\n",
       "    <tr>\n",
       "      <th>7</th>\n",
       "      <td>Alice</td>\n",
       "      <td>25.0</td>\n",
       "      <td>New York</td>\n",
       "      <td>F</td>\n",
       "      <td>alice@example.com</td>\n",
       "      <td>1/5/2021</td>\n",
       "    </tr>\n",
       "  </tbody>\n",
       "</table>\n",
       "</div>"
      ],
      "text/plain": [
       "    Name   Age         City Gender              Email   Join Date\n",
       "0  Alice  25.0     New York      F  alice@example.com    1/5/2021\n",
       "2    Bob  30.0  Los Angeles      M    bob@example.com  15-06-2020\n",
       "4  David  22.0       Mumbai      M  david@example.com  12/11/2019\n",
       "6  Alice  25.0     New York      F  alice@example.com    1/5/2021\n",
       "7  Alice  25.0     New York      F  alice@example.com    1/5/2021"
      ]
     },
     "execution_count": 39,
     "metadata": {},
     "output_type": "execute_result"
    }
   ],
   "source": [
    "df.dropna()"
   ]
  },
  {
   "cell_type": "code",
   "execution_count": 51,
   "id": "99868774-ccba-4fec-a3c2-9e00428f8f01",
   "metadata": {},
   "outputs": [
    {
     "data": {
      "text/html": [
       "<div>\n",
       "<style scoped>\n",
       "    .dataframe tbody tr th:only-of-type {\n",
       "        vertical-align: middle;\n",
       "    }\n",
       "\n",
       "    .dataframe tbody tr th {\n",
       "        vertical-align: top;\n",
       "    }\n",
       "\n",
       "    .dataframe thead th {\n",
       "        text-align: right;\n",
       "    }\n",
       "</style>\n",
       "<table border=\"1\" class=\"dataframe\">\n",
       "  <thead>\n",
       "    <tr style=\"text-align: right;\">\n",
       "      <th></th>\n",
       "      <th>Name</th>\n",
       "      <th>Age</th>\n",
       "      <th>City</th>\n",
       "      <th>Gender</th>\n",
       "      <th>Email</th>\n",
       "      <th>Join Date</th>\n",
       "    </tr>\n",
       "  </thead>\n",
       "  <tbody>\n",
       "    <tr>\n",
       "      <th>0</th>\n",
       "      <td>Alice</td>\n",
       "      <td>25.000000</td>\n",
       "      <td>New York</td>\n",
       "      <td>F</td>\n",
       "      <td>alice@example.com</td>\n",
       "      <td>1/5/2021</td>\n",
       "    </tr>\n",
       "    <tr>\n",
       "      <th>1</th>\n",
       "      <td>Charlie</td>\n",
       "      <td>25.833333</td>\n",
       "      <td>Delhi</td>\n",
       "      <td>M</td>\n",
       "      <td>charlie@example</td>\n",
       "      <td>20-07-2021</td>\n",
       "    </tr>\n",
       "    <tr>\n",
       "      <th>2</th>\n",
       "      <td>Bob</td>\n",
       "      <td>30.000000</td>\n",
       "      <td>Los Angeles</td>\n",
       "      <td>M</td>\n",
       "      <td>bob@example.com</td>\n",
       "      <td>15-06-2020</td>\n",
       "    </tr>\n",
       "    <tr>\n",
       "      <th>3</th>\n",
       "      <td>Charlie</td>\n",
       "      <td>25.833333</td>\n",
       "      <td>Delhi</td>\n",
       "      <td>M</td>\n",
       "      <td>charlie@example</td>\n",
       "      <td>20-07-2021</td>\n",
       "    </tr>\n",
       "    <tr>\n",
       "      <th>4</th>\n",
       "      <td>David</td>\n",
       "      <td>22.000000</td>\n",
       "      <td>Mumbai</td>\n",
       "      <td>M</td>\n",
       "      <td>david@example.com</td>\n",
       "      <td>12/11/2019</td>\n",
       "    </tr>\n",
       "    <tr>\n",
       "      <th>5</th>\n",
       "      <td>25.833333</td>\n",
       "      <td>28.000000</td>\n",
       "      <td>Delhi</td>\n",
       "      <td>F</td>\n",
       "      <td>eve@domain.com</td>\n",
       "      <td>25.833333</td>\n",
       "    </tr>\n",
       "    <tr>\n",
       "      <th>6</th>\n",
       "      <td>Alice</td>\n",
       "      <td>25.000000</td>\n",
       "      <td>New York</td>\n",
       "      <td>F</td>\n",
       "      <td>alice@example.com</td>\n",
       "      <td>1/5/2021</td>\n",
       "    </tr>\n",
       "    <tr>\n",
       "      <th>7</th>\n",
       "      <td>Alice</td>\n",
       "      <td>25.000000</td>\n",
       "      <td>New York</td>\n",
       "      <td>F</td>\n",
       "      <td>alice@example.com</td>\n",
       "      <td>1/5/2021</td>\n",
       "    </tr>\n",
       "    <tr>\n",
       "      <th>8</th>\n",
       "      <td>Charlie</td>\n",
       "      <td>25.833333</td>\n",
       "      <td>Delhi</td>\n",
       "      <td>M</td>\n",
       "      <td>charlie@example</td>\n",
       "      <td>20-07-2021</td>\n",
       "    </tr>\n",
       "  </tbody>\n",
       "</table>\n",
       "</div>"
      ],
      "text/plain": [
       "        Name        Age         City Gender              Email   Join Date\n",
       "0      Alice  25.000000     New York      F  alice@example.com    1/5/2021\n",
       "1    Charlie  25.833333        Delhi      M    charlie@example  20-07-2021\n",
       "2        Bob  30.000000  Los Angeles      M    bob@example.com  15-06-2020\n",
       "3    Charlie  25.833333        Delhi      M    charlie@example  20-07-2021\n",
       "4      David  22.000000       Mumbai      M  david@example.com  12/11/2019\n",
       "5  25.833333  28.000000        Delhi      F     eve@domain.com   25.833333\n",
       "6      Alice  25.000000     New York      F  alice@example.com    1/5/2021\n",
       "7      Alice  25.000000     New York      F  alice@example.com    1/5/2021\n",
       "8    Charlie  25.833333        Delhi      M    charlie@example  20-07-2021"
      ]
     },
     "execution_count": 51,
     "metadata": {},
     "output_type": "execute_result"
    }
   ],
   "source": [
    "df.fillna(df[\"Age\"].mean())"
   ]
  },
  {
   "cell_type": "code",
   "execution_count": 67,
   "id": "f48ee2bb-8eb4-4ffe-b39e-7c13fcd40653",
   "metadata": {},
   "outputs": [
    {
     "data": {
      "text/html": [
       "<div>\n",
       "<style scoped>\n",
       "    .dataframe tbody tr th:only-of-type {\n",
       "        vertical-align: middle;\n",
       "    }\n",
       "\n",
       "    .dataframe tbody tr th {\n",
       "        vertical-align: top;\n",
       "    }\n",
       "\n",
       "    .dataframe thead th {\n",
       "        text-align: right;\n",
       "    }\n",
       "</style>\n",
       "<table border=\"1\" class=\"dataframe\">\n",
       "  <thead>\n",
       "    <tr style=\"text-align: right;\">\n",
       "      <th></th>\n",
       "      <th>Name</th>\n",
       "      <th>Age</th>\n",
       "      <th>City</th>\n",
       "      <th>Gender</th>\n",
       "      <th>Email</th>\n",
       "      <th>Join Date</th>\n",
       "    </tr>\n",
       "  </thead>\n",
       "  <tbody>\n",
       "    <tr>\n",
       "      <th>0</th>\n",
       "      <td>Alice</td>\n",
       "      <td>25.000000</td>\n",
       "      <td>New York</td>\n",
       "      <td>F</td>\n",
       "      <td>alice@example.com</td>\n",
       "      <td>1/5/2021</td>\n",
       "    </tr>\n",
       "    <tr>\n",
       "      <th>1</th>\n",
       "      <td>Charlie</td>\n",
       "      <td>25.833333</td>\n",
       "      <td>Delhi</td>\n",
       "      <td>M</td>\n",
       "      <td>charlie@example</td>\n",
       "      <td>20-07-2021</td>\n",
       "    </tr>\n",
       "    <tr>\n",
       "      <th>2</th>\n",
       "      <td>Bob</td>\n",
       "      <td>30.000000</td>\n",
       "      <td>Los Angeles</td>\n",
       "      <td>M</td>\n",
       "      <td>bob@example.com</td>\n",
       "      <td>15-06-2020</td>\n",
       "    </tr>\n",
       "    <tr>\n",
       "      <th>3</th>\n",
       "      <td>Charlie</td>\n",
       "      <td>25.833333</td>\n",
       "      <td>Delhi</td>\n",
       "      <td>M</td>\n",
       "      <td>charlie@example</td>\n",
       "      <td>20-07-2021</td>\n",
       "    </tr>\n",
       "    <tr>\n",
       "      <th>4</th>\n",
       "      <td>David</td>\n",
       "      <td>22.000000</td>\n",
       "      <td>Mumbai</td>\n",
       "      <td>M</td>\n",
       "      <td>david@example.com</td>\n",
       "      <td>12/11/2019</td>\n",
       "    </tr>\n",
       "    <tr>\n",
       "      <th>5</th>\n",
       "      <td>25.833333</td>\n",
       "      <td>28.000000</td>\n",
       "      <td>Delhi</td>\n",
       "      <td>F</td>\n",
       "      <td>eve@domain.com</td>\n",
       "      <td>25.833333</td>\n",
       "    </tr>\n",
       "    <tr>\n",
       "      <th>6</th>\n",
       "      <td>Alice</td>\n",
       "      <td>25.000000</td>\n",
       "      <td>New York</td>\n",
       "      <td>F</td>\n",
       "      <td>alice@example.com</td>\n",
       "      <td>1/5/2021</td>\n",
       "    </tr>\n",
       "    <tr>\n",
       "      <th>7</th>\n",
       "      <td>Alice</td>\n",
       "      <td>25.000000</td>\n",
       "      <td>New York</td>\n",
       "      <td>F</td>\n",
       "      <td>alice@example.com</td>\n",
       "      <td>1/5/2021</td>\n",
       "    </tr>\n",
       "    <tr>\n",
       "      <th>8</th>\n",
       "      <td>Charlie</td>\n",
       "      <td>25.833333</td>\n",
       "      <td>Delhi</td>\n",
       "      <td>M</td>\n",
       "      <td>charlie@example</td>\n",
       "      <td>20-07-2021</td>\n",
       "    </tr>\n",
       "  </tbody>\n",
       "</table>\n",
       "</div>"
      ],
      "text/plain": [
       "        Name        Age         City Gender              Email   Join Date\n",
       "0      Alice  25.000000     New York      F  alice@example.com    1/5/2021\n",
       "1    Charlie  25.833333        Delhi      M    charlie@example  20-07-2021\n",
       "2        Bob  30.000000  Los Angeles      M    bob@example.com  15-06-2020\n",
       "3    Charlie  25.833333        Delhi      M    charlie@example  20-07-2021\n",
       "4      David  22.000000       Mumbai      M  david@example.com  12/11/2019\n",
       "5  25.833333  28.000000        Delhi      F     eve@domain.com   25.833333\n",
       "6      Alice  25.000000     New York      F  alice@example.com    1/5/2021\n",
       "7      Alice  25.000000     New York      F  alice@example.com    1/5/2021\n",
       "8    Charlie  25.833333        Delhi      M    charlie@example  20-07-2021"
      ]
     },
     "execution_count": 67,
     "metadata": {},
     "output_type": "execute_result"
    }
   ],
   "source": [
    "df.fillna(df[\"Age\"].mean())"
   ]
  },
  {
   "cell_type": "code",
   "execution_count": 73,
   "id": "d56ade0b-8b7f-4f96-859d-d1f293b1a6b8",
   "metadata": {},
   "outputs": [
    {
     "data": {
      "text/html": [
       "<div>\n",
       "<style scoped>\n",
       "    .dataframe tbody tr th:only-of-type {\n",
       "        vertical-align: middle;\n",
       "    }\n",
       "\n",
       "    .dataframe tbody tr th {\n",
       "        vertical-align: top;\n",
       "    }\n",
       "\n",
       "    .dataframe thead th {\n",
       "        text-align: right;\n",
       "    }\n",
       "</style>\n",
       "<table border=\"1\" class=\"dataframe\">\n",
       "  <thead>\n",
       "    <tr style=\"text-align: right;\">\n",
       "      <th></th>\n",
       "      <th>Name</th>\n",
       "      <th>Age</th>\n",
       "      <th>City</th>\n",
       "      <th>Gender</th>\n",
       "      <th>Email</th>\n",
       "      <th>Join Date</th>\n",
       "    </tr>\n",
       "  </thead>\n",
       "  <tbody>\n",
       "    <tr>\n",
       "      <th>0</th>\n",
       "      <td>Alice</td>\n",
       "      <td>25.0</td>\n",
       "      <td>New York</td>\n",
       "      <td>F</td>\n",
       "      <td>alice@example.com</td>\n",
       "      <td>1/5/2021</td>\n",
       "    </tr>\n",
       "    <tr>\n",
       "      <th>1</th>\n",
       "      <td>Charlie</td>\n",
       "      <td>25.0</td>\n",
       "      <td>Delhi</td>\n",
       "      <td>M</td>\n",
       "      <td>charlie@example</td>\n",
       "      <td>20-07-2021</td>\n",
       "    </tr>\n",
       "    <tr>\n",
       "      <th>2</th>\n",
       "      <td>Bob</td>\n",
       "      <td>30.0</td>\n",
       "      <td>Los Angeles</td>\n",
       "      <td>M</td>\n",
       "      <td>bob@example.com</td>\n",
       "      <td>15-06-2020</td>\n",
       "    </tr>\n",
       "    <tr>\n",
       "      <th>3</th>\n",
       "      <td>Charlie</td>\n",
       "      <td>30.0</td>\n",
       "      <td>Delhi</td>\n",
       "      <td>M</td>\n",
       "      <td>charlie@example</td>\n",
       "      <td>20-07-2021</td>\n",
       "    </tr>\n",
       "    <tr>\n",
       "      <th>4</th>\n",
       "      <td>David</td>\n",
       "      <td>22.0</td>\n",
       "      <td>Mumbai</td>\n",
       "      <td>M</td>\n",
       "      <td>david@example.com</td>\n",
       "      <td>12/11/2019</td>\n",
       "    </tr>\n",
       "    <tr>\n",
       "      <th>5</th>\n",
       "      <td>David</td>\n",
       "      <td>28.0</td>\n",
       "      <td>Delhi</td>\n",
       "      <td>F</td>\n",
       "      <td>eve@domain.com</td>\n",
       "      <td>12/11/2019</td>\n",
       "    </tr>\n",
       "    <tr>\n",
       "      <th>6</th>\n",
       "      <td>Alice</td>\n",
       "      <td>25.0</td>\n",
       "      <td>New York</td>\n",
       "      <td>F</td>\n",
       "      <td>alice@example.com</td>\n",
       "      <td>1/5/2021</td>\n",
       "    </tr>\n",
       "    <tr>\n",
       "      <th>7</th>\n",
       "      <td>Alice</td>\n",
       "      <td>25.0</td>\n",
       "      <td>New York</td>\n",
       "      <td>F</td>\n",
       "      <td>alice@example.com</td>\n",
       "      <td>1/5/2021</td>\n",
       "    </tr>\n",
       "    <tr>\n",
       "      <th>8</th>\n",
       "      <td>Charlie</td>\n",
       "      <td>25.0</td>\n",
       "      <td>Delhi</td>\n",
       "      <td>M</td>\n",
       "      <td>charlie@example</td>\n",
       "      <td>20-07-2021</td>\n",
       "    </tr>\n",
       "  </tbody>\n",
       "</table>\n",
       "</div>"
      ],
      "text/plain": [
       "      Name   Age         City Gender              Email   Join Date\n",
       "0    Alice  25.0     New York      F  alice@example.com    1/5/2021\n",
       "1  Charlie  25.0        Delhi      M    charlie@example  20-07-2021\n",
       "2      Bob  30.0  Los Angeles      M    bob@example.com  15-06-2020\n",
       "3  Charlie  30.0        Delhi      M    charlie@example  20-07-2021\n",
       "4    David  22.0       Mumbai      M  david@example.com  12/11/2019\n",
       "5    David  28.0        Delhi      F     eve@domain.com  12/11/2019\n",
       "6    Alice  25.0     New York      F  alice@example.com    1/5/2021\n",
       "7    Alice  25.0     New York      F  alice@example.com    1/5/2021\n",
       "8  Charlie  25.0        Delhi      M    charlie@example  20-07-2021"
      ]
     },
     "execution_count": 73,
     "metadata": {},
     "output_type": "execute_result"
    }
   ],
   "source": [
    "df.fillna(df.ffill())"
   ]
  },
  {
   "cell_type": "code",
   "execution_count": 95,
   "id": "732b4291-747e-4a22-93c7-a7d104bf1e51",
   "metadata": {},
   "outputs": [
    {
     "data": {
      "text/html": [
       "<div>\n",
       "<style scoped>\n",
       "    .dataframe tbody tr th:only-of-type {\n",
       "        vertical-align: middle;\n",
       "    }\n",
       "\n",
       "    .dataframe tbody tr th {\n",
       "        vertical-align: top;\n",
       "    }\n",
       "\n",
       "    .dataframe thead th {\n",
       "        text-align: right;\n",
       "    }\n",
       "</style>\n",
       "<table border=\"1\" class=\"dataframe\">\n",
       "  <thead>\n",
       "    <tr style=\"text-align: right;\">\n",
       "      <th></th>\n",
       "      <th>Name</th>\n",
       "      <th>Age</th>\n",
       "      <th>City</th>\n",
       "      <th>Gender</th>\n",
       "      <th>Email</th>\n",
       "      <th>Join Date</th>\n",
       "    </tr>\n",
       "  </thead>\n",
       "  <tbody>\n",
       "    <tr>\n",
       "      <th>0</th>\n",
       "      <td>Alice</td>\n",
       "      <td>25.0</td>\n",
       "      <td>New York</td>\n",
       "      <td>F</td>\n",
       "      <td>alice@example.com</td>\n",
       "      <td>1/5/2021</td>\n",
       "    </tr>\n",
       "    <tr>\n",
       "      <th>1</th>\n",
       "      <td>Charlie</td>\n",
       "      <td>NaN</td>\n",
       "      <td>Delhi</td>\n",
       "      <td>M</td>\n",
       "      <td>charlie@example</td>\n",
       "      <td>20-07-2021</td>\n",
       "    </tr>\n",
       "    <tr>\n",
       "      <th>2</th>\n",
       "      <td>Bob</td>\n",
       "      <td>30.0</td>\n",
       "      <td>Los Angeles</td>\n",
       "      <td>M</td>\n",
       "      <td>bob@example.com</td>\n",
       "      <td>15-06-2020</td>\n",
       "    </tr>\n",
       "    <tr>\n",
       "      <th>3</th>\n",
       "      <td>Charlie</td>\n",
       "      <td>NaN</td>\n",
       "      <td>Delhi</td>\n",
       "      <td>M</td>\n",
       "      <td>charlie@example</td>\n",
       "      <td>20-07-2021</td>\n",
       "    </tr>\n",
       "    <tr>\n",
       "      <th>4</th>\n",
       "      <td>David</td>\n",
       "      <td>22.0</td>\n",
       "      <td>Mumbai</td>\n",
       "      <td>M</td>\n",
       "      <td>david@example.com</td>\n",
       "      <td>12/11/2019</td>\n",
       "    </tr>\n",
       "    <tr>\n",
       "      <th>5</th>\n",
       "      <td>NaN</td>\n",
       "      <td>28.0</td>\n",
       "      <td>Delhi</td>\n",
       "      <td>F</td>\n",
       "      <td>eve@domain.com</td>\n",
       "      <td>NaN</td>\n",
       "    </tr>\n",
       "    <tr>\n",
       "      <th>6</th>\n",
       "      <td>Alice</td>\n",
       "      <td>25.0</td>\n",
       "      <td>New York</td>\n",
       "      <td>F</td>\n",
       "      <td>alice@example.com</td>\n",
       "      <td>1/5/2021</td>\n",
       "    </tr>\n",
       "    <tr>\n",
       "      <th>7</th>\n",
       "      <td>Alice</td>\n",
       "      <td>25.0</td>\n",
       "      <td>New York</td>\n",
       "      <td>F</td>\n",
       "      <td>alice@example.com</td>\n",
       "      <td>1/5/2021</td>\n",
       "    </tr>\n",
       "    <tr>\n",
       "      <th>8</th>\n",
       "      <td>Charlie</td>\n",
       "      <td>NaN</td>\n",
       "      <td>Delhi</td>\n",
       "      <td>M</td>\n",
       "      <td>charlie@example</td>\n",
       "      <td>20-07-2021</td>\n",
       "    </tr>\n",
       "  </tbody>\n",
       "</table>\n",
       "</div>"
      ],
      "text/plain": [
       "      Name   Age         City Gender              Email   Join Date\n",
       "0    Alice  25.0     New York      F  alice@example.com    1/5/2021\n",
       "1  Charlie   NaN        Delhi      M    charlie@example  20-07-2021\n",
       "2      Bob  30.0  Los Angeles      M    bob@example.com  15-06-2020\n",
       "3  Charlie   NaN        Delhi      M    charlie@example  20-07-2021\n",
       "4    David  22.0       Mumbai      M  david@example.com  12/11/2019\n",
       "5      NaN  28.0        Delhi      F     eve@domain.com         NaN\n",
       "6    Alice  25.0     New York      F  alice@example.com    1/5/2021\n",
       "7    Alice  25.0     New York      F  alice@example.com    1/5/2021\n",
       "8  Charlie   NaN        Delhi      M    charlie@example  20-07-2021"
      ]
     },
     "execution_count": 95,
     "metadata": {},
     "output_type": "execute_result"
    }
   ],
   "source": [
    "df = pd.read_csv(\"data.csv\")\n",
    "df"
   ]
  },
  {
   "cell_type": "code",
   "execution_count": 81,
   "id": "501c5508-19bc-499f-92b5-457180d5a294",
   "metadata": {},
   "outputs": [
    {
     "data": {
      "text/plain": [
       "0    False\n",
       "1    False\n",
       "2    False\n",
       "3     True\n",
       "4    False\n",
       "5    False\n",
       "6     True\n",
       "7     True\n",
       "8     True\n",
       "dtype: bool"
      ]
     },
     "execution_count": 81,
     "metadata": {},
     "output_type": "execute_result"
    }
   ],
   "source": [
    "df.duplicated()"
   ]
  },
  {
   "cell_type": "code",
   "execution_count": 101,
   "id": "02d6b1a5-409b-405c-b2a6-45006f550652",
   "metadata": {},
   "outputs": [
    {
     "data": {
      "text/html": [
       "<div>\n",
       "<style scoped>\n",
       "    .dataframe tbody tr th:only-of-type {\n",
       "        vertical-align: middle;\n",
       "    }\n",
       "\n",
       "    .dataframe tbody tr th {\n",
       "        vertical-align: top;\n",
       "    }\n",
       "\n",
       "    .dataframe thead th {\n",
       "        text-align: right;\n",
       "    }\n",
       "</style>\n",
       "<table border=\"1\" class=\"dataframe\">\n",
       "  <thead>\n",
       "    <tr style=\"text-align: right;\">\n",
       "      <th></th>\n",
       "      <th>Name</th>\n",
       "      <th>Age</th>\n",
       "      <th>City</th>\n",
       "      <th>Gender</th>\n",
       "      <th>Email</th>\n",
       "      <th>Join Date</th>\n",
       "    </tr>\n",
       "  </thead>\n",
       "  <tbody>\n",
       "    <tr>\n",
       "      <th>0</th>\n",
       "      <td>Alice</td>\n",
       "      <td>25.0</td>\n",
       "      <td>New York</td>\n",
       "      <td>F</td>\n",
       "      <td>alice@example.com</td>\n",
       "      <td>1/5/2021</td>\n",
       "    </tr>\n",
       "    <tr>\n",
       "      <th>1</th>\n",
       "      <td>Charlie</td>\n",
       "      <td>NaN</td>\n",
       "      <td>Delhi</td>\n",
       "      <td>M</td>\n",
       "      <td>charlie@example</td>\n",
       "      <td>20-07-2021</td>\n",
       "    </tr>\n",
       "    <tr>\n",
       "      <th>2</th>\n",
       "      <td>Bob</td>\n",
       "      <td>30.0</td>\n",
       "      <td>Los Angeles</td>\n",
       "      <td>M</td>\n",
       "      <td>bob@example.com</td>\n",
       "      <td>15-06-2020</td>\n",
       "    </tr>\n",
       "    <tr>\n",
       "      <th>4</th>\n",
       "      <td>David</td>\n",
       "      <td>22.0</td>\n",
       "      <td>Mumbai</td>\n",
       "      <td>M</td>\n",
       "      <td>david@example.com</td>\n",
       "      <td>12/11/2019</td>\n",
       "    </tr>\n",
       "    <tr>\n",
       "      <th>5</th>\n",
       "      <td>NaN</td>\n",
       "      <td>28.0</td>\n",
       "      <td>Delhi</td>\n",
       "      <td>F</td>\n",
       "      <td>eve@domain.com</td>\n",
       "      <td>NaN</td>\n",
       "    </tr>\n",
       "  </tbody>\n",
       "</table>\n",
       "</div>"
      ],
      "text/plain": [
       "      Name   Age         City Gender              Email   Join Date\n",
       "0    Alice  25.0     New York      F  alice@example.com    1/5/2021\n",
       "1  Charlie   NaN        Delhi      M    charlie@example  20-07-2021\n",
       "2      Bob  30.0  Los Angeles      M    bob@example.com  15-06-2020\n",
       "4    David  22.0       Mumbai      M  david@example.com  12/11/2019\n",
       "5      NaN  28.0        Delhi      F     eve@domain.com         NaN"
      ]
     },
     "execution_count": 101,
     "metadata": {},
     "output_type": "execute_result"
    }
   ],
   "source": [
    "df.drop_duplicates()"
   ]
  },
  {
   "cell_type": "code",
   "execution_count": 103,
   "id": "b6d2e519-f5c6-4acb-971c-bfe76f69259e",
   "metadata": {},
   "outputs": [
    {
     "data": {
      "text/plain": [
       "0    False\n",
       "1    False\n",
       "2    False\n",
       "3     True\n",
       "4    False\n",
       "5    False\n",
       "6     True\n",
       "7     True\n",
       "8     True\n",
       "dtype: bool"
      ]
     },
     "execution_count": 103,
     "metadata": {},
     "output_type": "execute_result"
    }
   ],
   "source": [
    "df.duplicated(subset=[\"Name\",\"Age\"])"
   ]
  },
  {
   "cell_type": "code",
   "execution_count": 105,
   "id": "f2c45e97-1f7d-4c2d-806b-eed7e076c1da",
   "metadata": {},
   "outputs": [
    {
     "data": {
      "text/plain": [
       "0      ALICE\n",
       "1    CHARLIE\n",
       "2        BOB\n",
       "3    CHARLIE\n",
       "4      DAVID\n",
       "5        NaN\n",
       "6      ALICE\n",
       "7      ALICE\n",
       "8    CHARLIE\n",
       "Name: Name, dtype: object"
      ]
     },
     "execution_count": 105,
     "metadata": {},
     "output_type": "execute_result"
    }
   ],
   "source": [
    "df[\"Name\"].str.upper()"
   ]
  },
  {
   "cell_type": "code",
   "execution_count": 107,
   "id": "a6171146-53e6-4d74-a284-bbbf461e3921",
   "metadata": {},
   "outputs": [
    {
     "data": {
      "text/html": [
       "<div>\n",
       "<style scoped>\n",
       "    .dataframe tbody tr th:only-of-type {\n",
       "        vertical-align: middle;\n",
       "    }\n",
       "\n",
       "    .dataframe tbody tr th {\n",
       "        vertical-align: top;\n",
       "    }\n",
       "\n",
       "    .dataframe thead th {\n",
       "        text-align: right;\n",
       "    }\n",
       "</style>\n",
       "<table border=\"1\" class=\"dataframe\">\n",
       "  <thead>\n",
       "    <tr style=\"text-align: right;\">\n",
       "      <th></th>\n",
       "      <th>Name</th>\n",
       "      <th>Age</th>\n",
       "      <th>City</th>\n",
       "      <th>Gender</th>\n",
       "      <th>Email</th>\n",
       "      <th>Join Date</th>\n",
       "    </tr>\n",
       "  </thead>\n",
       "  <tbody>\n",
       "    <tr>\n",
       "      <th>0</th>\n",
       "      <td>Alice</td>\n",
       "      <td>25.0</td>\n",
       "      <td>New York</td>\n",
       "      <td>F</td>\n",
       "      <td>alice@example.com</td>\n",
       "      <td>1/5/2021</td>\n",
       "    </tr>\n",
       "    <tr>\n",
       "      <th>1</th>\n",
       "      <td>Charlie</td>\n",
       "      <td>NaN</td>\n",
       "      <td>Delhi</td>\n",
       "      <td>M</td>\n",
       "      <td>charlie@example</td>\n",
       "      <td>20-07-2021</td>\n",
       "    </tr>\n",
       "    <tr>\n",
       "      <th>2</th>\n",
       "      <td>Bob</td>\n",
       "      <td>30.0</td>\n",
       "      <td>Los Angeles</td>\n",
       "      <td>M</td>\n",
       "      <td>bob@example.com</td>\n",
       "      <td>15-06-2020</td>\n",
       "    </tr>\n",
       "    <tr>\n",
       "      <th>3</th>\n",
       "      <td>Charlie</td>\n",
       "      <td>NaN</td>\n",
       "      <td>Delhi</td>\n",
       "      <td>M</td>\n",
       "      <td>charlie@example</td>\n",
       "      <td>20-07-2021</td>\n",
       "    </tr>\n",
       "    <tr>\n",
       "      <th>4</th>\n",
       "      <td>David</td>\n",
       "      <td>22.0</td>\n",
       "      <td>Mumbai</td>\n",
       "      <td>M</td>\n",
       "      <td>david@example.com</td>\n",
       "      <td>12/11/2019</td>\n",
       "    </tr>\n",
       "    <tr>\n",
       "      <th>5</th>\n",
       "      <td>NaN</td>\n",
       "      <td>28.0</td>\n",
       "      <td>Delhi</td>\n",
       "      <td>F</td>\n",
       "      <td>eve@domain.com</td>\n",
       "      <td>NaN</td>\n",
       "    </tr>\n",
       "    <tr>\n",
       "      <th>6</th>\n",
       "      <td>Alice</td>\n",
       "      <td>25.0</td>\n",
       "      <td>New York</td>\n",
       "      <td>F</td>\n",
       "      <td>alice@example.com</td>\n",
       "      <td>1/5/2021</td>\n",
       "    </tr>\n",
       "    <tr>\n",
       "      <th>7</th>\n",
       "      <td>Alice</td>\n",
       "      <td>25.0</td>\n",
       "      <td>New York</td>\n",
       "      <td>F</td>\n",
       "      <td>alice@example.com</td>\n",
       "      <td>1/5/2021</td>\n",
       "    </tr>\n",
       "    <tr>\n",
       "      <th>8</th>\n",
       "      <td>Charlie</td>\n",
       "      <td>NaN</td>\n",
       "      <td>Delhi</td>\n",
       "      <td>M</td>\n",
       "      <td>charlie@example</td>\n",
       "      <td>20-07-2021</td>\n",
       "    </tr>\n",
       "  </tbody>\n",
       "</table>\n",
       "</div>"
      ],
      "text/plain": [
       "      Name   Age         City Gender              Email   Join Date\n",
       "0    Alice  25.0     New York      F  alice@example.com    1/5/2021\n",
       "1  Charlie   NaN        Delhi      M    charlie@example  20-07-2021\n",
       "2      Bob  30.0  Los Angeles      M    bob@example.com  15-06-2020\n",
       "3  Charlie   NaN        Delhi      M    charlie@example  20-07-2021\n",
       "4    David  22.0       Mumbai      M  david@example.com  12/11/2019\n",
       "5      NaN  28.0        Delhi      F     eve@domain.com         NaN\n",
       "6    Alice  25.0     New York      F  alice@example.com    1/5/2021\n",
       "7    Alice  25.0     New York      F  alice@example.com    1/5/2021\n",
       "8  Charlie   NaN        Delhi      M    charlie@example  20-07-2021"
      ]
     },
     "execution_count": 107,
     "metadata": {},
     "output_type": "execute_result"
    }
   ],
   "source": [
    "df"
   ]
  },
  {
   "cell_type": "code",
   "execution_count": 145,
   "id": "c183bab0-3585-4256-9008-701b7ec437a2",
   "metadata": {},
   "outputs": [
    {
     "data": {
      "text/plain": [
       "0    False\n",
       "1     True\n",
       "2    False\n",
       "3     True\n",
       "4    False\n",
       "5     True\n",
       "6    False\n",
       "7    False\n",
       "8     True\n",
       "Name: City, dtype: bool"
      ]
     },
     "execution_count": 145,
     "metadata": {},
     "output_type": "execute_result"
    }
   ],
   "source": [
    "df[\"City\"].str.contains(\"Delhi\")"
   ]
  },
  {
   "cell_type": "code",
   "execution_count": 153,
   "id": "ca9839cc-606c-46ec-b6b7-85bdb021901b",
   "metadata": {},
   "outputs": [
    {
     "data": {
      "text/plain": [
       "pandas.core.series.Series"
      ]
     },
     "execution_count": 153,
     "metadata": {},
     "output_type": "execute_result"
    }
   ],
   "source": [
    "type(df[\"City\"].str.contains(\"Delhi\"))"
   ]
  },
  {
   "cell_type": "code",
   "execution_count": 163,
   "id": "14bf3ea1-abcf-4607-b40b-dc4142c7397c",
   "metadata": {},
   "outputs": [],
   "source": [
    "mail = df[\"Email\"].str.split(\"@\")"
   ]
  },
  {
   "cell_type": "code",
   "execution_count": 168,
   "id": "0b755727-554f-41ad-b0aa-05664eafe0d8",
   "metadata": {},
   "outputs": [
    {
     "data": {
      "text/html": [
       "<div>\n",
       "<style scoped>\n",
       "    .dataframe tbody tr th:only-of-type {\n",
       "        vertical-align: middle;\n",
       "    }\n",
       "\n",
       "    .dataframe tbody tr th {\n",
       "        vertical-align: top;\n",
       "    }\n",
       "\n",
       "    .dataframe thead th {\n",
       "        text-align: right;\n",
       "    }\n",
       "</style>\n",
       "<table border=\"1\" class=\"dataframe\">\n",
       "  <thead>\n",
       "    <tr style=\"text-align: right;\">\n",
       "      <th></th>\n",
       "      <th>Email</th>\n",
       "    </tr>\n",
       "  </thead>\n",
       "  <tbody>\n",
       "    <tr>\n",
       "      <th>0</th>\n",
       "      <td>[alice, example.com]</td>\n",
       "    </tr>\n",
       "    <tr>\n",
       "      <th>1</th>\n",
       "      <td>[charlie, example]</td>\n",
       "    </tr>\n",
       "    <tr>\n",
       "      <th>2</th>\n",
       "      <td>[bob, example.com]</td>\n",
       "    </tr>\n",
       "    <tr>\n",
       "      <th>3</th>\n",
       "      <td>[charlie, example]</td>\n",
       "    </tr>\n",
       "    <tr>\n",
       "      <th>4</th>\n",
       "      <td>[david, example.com]</td>\n",
       "    </tr>\n",
       "    <tr>\n",
       "      <th>5</th>\n",
       "      <td>[eve, domain.com]</td>\n",
       "    </tr>\n",
       "    <tr>\n",
       "      <th>6</th>\n",
       "      <td>[alice, example.com]</td>\n",
       "    </tr>\n",
       "    <tr>\n",
       "      <th>7</th>\n",
       "      <td>[alice, example.com]</td>\n",
       "    </tr>\n",
       "    <tr>\n",
       "      <th>8</th>\n",
       "      <td>[charlie, example]</td>\n",
       "    </tr>\n",
       "  </tbody>\n",
       "</table>\n",
       "</div>"
      ],
      "text/plain": [
       "                  Email\n",
       "0  [alice, example.com]\n",
       "1    [charlie, example]\n",
       "2    [bob, example.com]\n",
       "3    [charlie, example]\n",
       "4  [david, example.com]\n",
       "5     [eve, domain.com]\n",
       "6  [alice, example.com]\n",
       "7  [alice, example.com]\n",
       "8    [charlie, example]"
      ]
     },
     "execution_count": 168,
     "metadata": {},
     "output_type": "execute_result"
    }
   ],
   "source": [
    "pd.DataFrame(mail)"
   ]
  },
  {
   "cell_type": "code",
   "execution_count": 174,
   "id": "1c04e900-a7d3-4fb1-ad52-36919cc40d9a",
   "metadata": {},
   "outputs": [
    {
     "data": {
      "text/html": [
       "<div>\n",
       "<style scoped>\n",
       "    .dataframe tbody tr th:only-of-type {\n",
       "        vertical-align: middle;\n",
       "    }\n",
       "\n",
       "    .dataframe tbody tr th {\n",
       "        vertical-align: top;\n",
       "    }\n",
       "\n",
       "    .dataframe thead th {\n",
       "        text-align: right;\n",
       "    }\n",
       "</style>\n",
       "<table border=\"1\" class=\"dataframe\">\n",
       "  <thead>\n",
       "    <tr style=\"text-align: right;\">\n",
       "      <th></th>\n",
       "      <th>Name</th>\n",
       "      <th>Age</th>\n",
       "      <th>City</th>\n",
       "      <th>Gender</th>\n",
       "      <th>Email</th>\n",
       "      <th>Join Date</th>\n",
       "    </tr>\n",
       "  </thead>\n",
       "  <tbody>\n",
       "    <tr>\n",
       "      <th>0</th>\n",
       "      <td>Alice</td>\n",
       "      <td>25.0</td>\n",
       "      <td>New York</td>\n",
       "      <td>F</td>\n",
       "      <td>alice@example.com</td>\n",
       "      <td>1/5/2021</td>\n",
       "    </tr>\n",
       "    <tr>\n",
       "      <th>2</th>\n",
       "      <td>Bob</td>\n",
       "      <td>30.0</td>\n",
       "      <td>Los Angeles</td>\n",
       "      <td>M</td>\n",
       "      <td>bob@example.com</td>\n",
       "      <td>15-06-2020</td>\n",
       "    </tr>\n",
       "    <tr>\n",
       "      <th>4</th>\n",
       "      <td>David</td>\n",
       "      <td>22.0</td>\n",
       "      <td>Mumbai</td>\n",
       "      <td>M</td>\n",
       "      <td>david@example.com</td>\n",
       "      <td>12/11/2019</td>\n",
       "    </tr>\n",
       "    <tr>\n",
       "      <th>6</th>\n",
       "      <td>Alice</td>\n",
       "      <td>25.0</td>\n",
       "      <td>New York</td>\n",
       "      <td>F</td>\n",
       "      <td>alice@example.com</td>\n",
       "      <td>1/5/2021</td>\n",
       "    </tr>\n",
       "    <tr>\n",
       "      <th>7</th>\n",
       "      <td>Alice</td>\n",
       "      <td>25.0</td>\n",
       "      <td>New York</td>\n",
       "      <td>F</td>\n",
       "      <td>alice@example.com</td>\n",
       "      <td>1/5/2021</td>\n",
       "    </tr>\n",
       "  </tbody>\n",
       "</table>\n",
       "</div>"
      ],
      "text/plain": [
       "    Name   Age         City Gender              Email   Join Date\n",
       "0  Alice  25.0     New York      F  alice@example.com    1/5/2021\n",
       "2    Bob  30.0  Los Angeles      M    bob@example.com  15-06-2020\n",
       "4  David  22.0       Mumbai      M  david@example.com  12/11/2019\n",
       "6  Alice  25.0     New York      F  alice@example.com    1/5/2021\n",
       "7  Alice  25.0     New York      F  alice@example.com    1/5/2021"
      ]
     },
     "execution_count": 174,
     "metadata": {},
     "output_type": "execute_result"
    }
   ],
   "source": [
    "df2 = df.dropna().copy()\n",
    "df2"
   ]
  },
  {
   "cell_type": "code",
   "execution_count": 26,
   "id": "960fb160-a802-438b-a86f-9e2e77b9bf75",
   "metadata": {},
   "outputs": [],
   "source": [
    "import numpy as np\n",
    "arr = np.array([1,2,3,4])\n",
    "\n",
    "a= [1,2,6,8,9]\n",
    "b = [\"shubham\",32]"
   ]
  },
  {
   "cell_type": "code",
   "execution_count": 30,
   "id": "b7309eb2-d1fe-4a4c-93c4-cfba6427beca",
   "metadata": {},
   "outputs": [
    {
     "data": {
      "text/plain": [
       "[1, 2, 6, 8, 9, 'shubham', 32]"
      ]
     },
     "execution_count": 30,
     "metadata": {},
     "output_type": "execute_result"
    }
   ],
   "source": [
    "for item in b:\n",
    "    a.append(item)\n",
    "a\n",
    "    "
   ]
  },
  {
   "cell_type": "code",
   "execution_count": 32,
   "id": "41325250-0b69-4acd-a1d9-f4d04f543ed3",
   "metadata": {},
   "outputs": [],
   "source": [
    "a[2] = 32"
   ]
  },
  {
   "cell_type": "code",
   "execution_count": 34,
   "id": "41269dac-044a-4b4e-a734-88d38f3198f2",
   "metadata": {},
   "outputs": [
    {
     "data": {
      "text/plain": [
       "[1, 2, 32, 8, 9, 'shubham', 32]"
      ]
     },
     "execution_count": 34,
     "metadata": {},
     "output_type": "execute_result"
    }
   ],
   "source": [
    "a"
   ]
  },
  {
   "cell_type": "code",
   "execution_count": 31,
   "id": "6271dfbc-1dc7-4c15-b5f2-5d97db4e4d1a",
   "metadata": {},
   "outputs": [
    {
     "data": {
      "text/html": [
       "<div>\n",
       "<style scoped>\n",
       "    .dataframe tbody tr th:only-of-type {\n",
       "        vertical-align: middle;\n",
       "    }\n",
       "\n",
       "    .dataframe tbody tr th {\n",
       "        vertical-align: top;\n",
       "    }\n",
       "\n",
       "    .dataframe thead th {\n",
       "        text-align: right;\n",
       "    }\n",
       "</style>\n",
       "<table border=\"1\" class=\"dataframe\">\n",
       "  <thead>\n",
       "    <tr style=\"text-align: right;\">\n",
       "      <th></th>\n",
       "      <th>Name</th>\n",
       "      <th>Age</th>\n",
       "      <th>City</th>\n",
       "      <th>Gender</th>\n",
       "      <th>Email</th>\n",
       "      <th>Join Date</th>\n",
       "    </tr>\n",
       "  </thead>\n",
       "  <tbody>\n",
       "    <tr>\n",
       "      <th>0</th>\n",
       "      <td>Alice</td>\n",
       "      <td>25.0</td>\n",
       "      <td>New York</td>\n",
       "      <td>F</td>\n",
       "      <td>alice@example.com</td>\n",
       "      <td>1/5/2021</td>\n",
       "    </tr>\n",
       "    <tr>\n",
       "      <th>1</th>\n",
       "      <td>Charlie</td>\n",
       "      <td>NaN</td>\n",
       "      <td>Delhi</td>\n",
       "      <td>M</td>\n",
       "      <td>charlie@example</td>\n",
       "      <td>20-07-2021</td>\n",
       "    </tr>\n",
       "    <tr>\n",
       "      <th>2</th>\n",
       "      <td>Bob</td>\n",
       "      <td>30.0</td>\n",
       "      <td>Los Angeles</td>\n",
       "      <td>M</td>\n",
       "      <td>bob@example.com</td>\n",
       "      <td>15-06-2020</td>\n",
       "    </tr>\n",
       "    <tr>\n",
       "      <th>3</th>\n",
       "      <td>Charlie</td>\n",
       "      <td>NaN</td>\n",
       "      <td>Delhi</td>\n",
       "      <td>M</td>\n",
       "      <td>charlie@example</td>\n",
       "      <td>20-07-2021</td>\n",
       "    </tr>\n",
       "    <tr>\n",
       "      <th>4</th>\n",
       "      <td>David</td>\n",
       "      <td>22.0</td>\n",
       "      <td>Mumbai</td>\n",
       "      <td>M</td>\n",
       "      <td>david@example.com</td>\n",
       "      <td>12/11/2019</td>\n",
       "    </tr>\n",
       "    <tr>\n",
       "      <th>5</th>\n",
       "      <td>NaN</td>\n",
       "      <td>28.0</td>\n",
       "      <td>Delhi</td>\n",
       "      <td>F</td>\n",
       "      <td>eve@domain.com</td>\n",
       "      <td>NaN</td>\n",
       "    </tr>\n",
       "    <tr>\n",
       "      <th>6</th>\n",
       "      <td>Alice</td>\n",
       "      <td>25.0</td>\n",
       "      <td>New York</td>\n",
       "      <td>F</td>\n",
       "      <td>alice@example.com</td>\n",
       "      <td>1/5/2021</td>\n",
       "    </tr>\n",
       "    <tr>\n",
       "      <th>7</th>\n",
       "      <td>Alice</td>\n",
       "      <td>25.0</td>\n",
       "      <td>New York</td>\n",
       "      <td>F</td>\n",
       "      <td>alice@example.com</td>\n",
       "      <td>1/5/2021</td>\n",
       "    </tr>\n",
       "    <tr>\n",
       "      <th>8</th>\n",
       "      <td>Charlie</td>\n",
       "      <td>NaN</td>\n",
       "      <td>Delhi</td>\n",
       "      <td>M</td>\n",
       "      <td>charlie@example</td>\n",
       "      <td>20-07-2021</td>\n",
       "    </tr>\n",
       "  </tbody>\n",
       "</table>\n",
       "</div>"
      ],
      "text/plain": [
       "      Name   Age         City Gender              Email   Join Date\n",
       "0    Alice  25.0     New York      F  alice@example.com    1/5/2021\n",
       "1  Charlie   NaN        Delhi      M    charlie@example  20-07-2021\n",
       "2      Bob  30.0  Los Angeles      M    bob@example.com  15-06-2020\n",
       "3  Charlie   NaN        Delhi      M    charlie@example  20-07-2021\n",
       "4    David  22.0       Mumbai      M  david@example.com  12/11/2019\n",
       "5      NaN  28.0        Delhi      F     eve@domain.com         NaN\n",
       "6    Alice  25.0     New York      F  alice@example.com    1/5/2021\n",
       "7    Alice  25.0     New York      F  alice@example.com    1/5/2021\n",
       "8  Charlie   NaN        Delhi      M    charlie@example  20-07-2021"
      ]
     },
     "execution_count": 31,
     "metadata": {},
     "output_type": "execute_result"
    }
   ],
   "source": [
    "import pandas as pd \n",
    "df = pd.read_csv(\"data.csv\")\n",
    "df"
   ]
  },
  {
   "cell_type": "code",
   "execution_count": 61,
   "id": "ce5b772c-71f5-40aa-aebd-35da73393758",
   "metadata": {},
   "outputs": [
    {
     "data": {
      "text/html": [
       "<div>\n",
       "<style scoped>\n",
       "    .dataframe tbody tr th:only-of-type {\n",
       "        vertical-align: middle;\n",
       "    }\n",
       "\n",
       "    .dataframe tbody tr th {\n",
       "        vertical-align: top;\n",
       "    }\n",
       "\n",
       "    .dataframe thead th {\n",
       "        text-align: right;\n",
       "    }\n",
       "</style>\n",
       "<table border=\"1\" class=\"dataframe\">\n",
       "  <thead>\n",
       "    <tr style=\"text-align: right;\">\n",
       "      <th></th>\n",
       "      <th>Name</th>\n",
       "      <th>Age</th>\n",
       "      <th>City</th>\n",
       "      <th>Gender</th>\n",
       "      <th>Email</th>\n",
       "      <th>Join Date</th>\n",
       "    </tr>\n",
       "  </thead>\n",
       "  <tbody>\n",
       "    <tr>\n",
       "      <th>0</th>\n",
       "      <td>Alice</td>\n",
       "      <td>25.0</td>\n",
       "      <td>New York</td>\n",
       "      <td>F</td>\n",
       "      <td>alice@example.com</td>\n",
       "      <td>1/5/2021</td>\n",
       "    </tr>\n",
       "    <tr>\n",
       "      <th>2</th>\n",
       "      <td>Bob</td>\n",
       "      <td>30.0</td>\n",
       "      <td>Los Angeles</td>\n",
       "      <td>M</td>\n",
       "      <td>bob@example.com</td>\n",
       "      <td>15-06-2020</td>\n",
       "    </tr>\n",
       "    <tr>\n",
       "      <th>4</th>\n",
       "      <td>David</td>\n",
       "      <td>22.0</td>\n",
       "      <td>Mumbai</td>\n",
       "      <td>M</td>\n",
       "      <td>david@example.com</td>\n",
       "      <td>12/11/2019</td>\n",
       "    </tr>\n",
       "    <tr>\n",
       "      <th>6</th>\n",
       "      <td>Alice</td>\n",
       "      <td>25.0</td>\n",
       "      <td>New York</td>\n",
       "      <td>F</td>\n",
       "      <td>alice@example.com</td>\n",
       "      <td>1/5/2021</td>\n",
       "    </tr>\n",
       "    <tr>\n",
       "      <th>7</th>\n",
       "      <td>Alice</td>\n",
       "      <td>25.0</td>\n",
       "      <td>New York</td>\n",
       "      <td>F</td>\n",
       "      <td>alice@example.com</td>\n",
       "      <td>1/5/2021</td>\n",
       "    </tr>\n",
       "  </tbody>\n",
       "</table>\n",
       "</div>"
      ],
      "text/plain": [
       "    Name   Age         City Gender              Email   Join Date\n",
       "0  Alice  25.0     New York      F  alice@example.com    1/5/2021\n",
       "2    Bob  30.0  Los Angeles      M    bob@example.com  15-06-2020\n",
       "4  David  22.0       Mumbai      M  david@example.com  12/11/2019\n",
       "6  Alice  25.0     New York      F  alice@example.com    1/5/2021\n",
       "7  Alice  25.0     New York      F  alice@example.com    1/5/2021"
      ]
     },
     "execution_count": 61,
     "metadata": {},
     "output_type": "execute_result"
    }
   ],
   "source": [
    "df2 = df.dropna().copy()\n",
    "df2"
   ]
  },
  {
   "cell_type": "code",
   "execution_count": 67,
   "id": "f85acf7d-da45-4e3a-8b94-ab9438b236b6",
   "metadata": {},
   "outputs": [
    {
     "data": {
      "text/html": [
       "<div>\n",
       "<style scoped>\n",
       "    .dataframe tbody tr th:only-of-type {\n",
       "        vertical-align: middle;\n",
       "    }\n",
       "\n",
       "    .dataframe tbody tr th {\n",
       "        vertical-align: top;\n",
       "    }\n",
       "\n",
       "    .dataframe thead th {\n",
       "        text-align: right;\n",
       "    }\n",
       "</style>\n",
       "<table border=\"1\" class=\"dataframe\">\n",
       "  <thead>\n",
       "    <tr style=\"text-align: right;\">\n",
       "      <th></th>\n",
       "      <th>Name</th>\n",
       "      <th>Age</th>\n",
       "      <th>City</th>\n",
       "      <th>Gender</th>\n",
       "      <th>Email</th>\n",
       "      <th>Join Date</th>\n",
       "      <th>Age Group</th>\n",
       "    </tr>\n",
       "  </thead>\n",
       "  <tbody>\n",
       "    <tr>\n",
       "      <th>0</th>\n",
       "      <td>Alice</td>\n",
       "      <td>25.0</td>\n",
       "      <td>New York</td>\n",
       "      <td>F</td>\n",
       "      <td>alice@example.com</td>\n",
       "      <td>1/5/2021</td>\n",
       "      <td>Adult</td>\n",
       "    </tr>\n",
       "    <tr>\n",
       "      <th>2</th>\n",
       "      <td>Bob</td>\n",
       "      <td>30.0</td>\n",
       "      <td>Los Angeles</td>\n",
       "      <td>M</td>\n",
       "      <td>bob@example.com</td>\n",
       "      <td>15-06-2020</td>\n",
       "      <td>Adult</td>\n",
       "    </tr>\n",
       "    <tr>\n",
       "      <th>4</th>\n",
       "      <td>David</td>\n",
       "      <td>22.0</td>\n",
       "      <td>Mumbai</td>\n",
       "      <td>M</td>\n",
       "      <td>david@example.com</td>\n",
       "      <td>12/11/2019</td>\n",
       "      <td>Minor</td>\n",
       "    </tr>\n",
       "    <tr>\n",
       "      <th>6</th>\n",
       "      <td>Alice</td>\n",
       "      <td>25.0</td>\n",
       "      <td>New York</td>\n",
       "      <td>F</td>\n",
       "      <td>alice@example.com</td>\n",
       "      <td>1/5/2021</td>\n",
       "      <td>Adult</td>\n",
       "    </tr>\n",
       "    <tr>\n",
       "      <th>7</th>\n",
       "      <td>Alice</td>\n",
       "      <td>25.0</td>\n",
       "      <td>New York</td>\n",
       "      <td>F</td>\n",
       "      <td>alice@example.com</td>\n",
       "      <td>1/5/2021</td>\n",
       "      <td>Adult</td>\n",
       "    </tr>\n",
       "  </tbody>\n",
       "</table>\n",
       "</div>"
      ],
      "text/plain": [
       "    Name   Age         City Gender              Email   Join Date Age Group\n",
       "0  Alice  25.0     New York      F  alice@example.com    1/5/2021     Adult\n",
       "2    Bob  30.0  Los Angeles      M    bob@example.com  15-06-2020     Adult\n",
       "4  David  22.0       Mumbai      M  david@example.com  12/11/2019     Minor\n",
       "6  Alice  25.0     New York      F  alice@example.com    1/5/2021     Adult\n",
       "7  Alice  25.0     New York      F  alice@example.com    1/5/2021     Adult"
      ]
     },
     "execution_count": 67,
     "metadata": {},
     "output_type": "execute_result"
    }
   ],
   "source": [
    "df2[\"Age Group\"] = df2[\"Age\"].apply(lambda x:\"Adult\" if x >=23 else \"Minor\")\n",
    "df2"
   ]
  },
  {
   "cell_type": "code",
   "execution_count": 85,
   "id": "b7a88a6c-8730-436e-bcd0-68821a576873",
   "metadata": {},
   "outputs": [
    {
     "data": {
      "text/html": [
       "<div>\n",
       "<style scoped>\n",
       "    .dataframe tbody tr th:only-of-type {\n",
       "        vertical-align: middle;\n",
       "    }\n",
       "\n",
       "    .dataframe tbody tr th {\n",
       "        vertical-align: top;\n",
       "    }\n",
       "\n",
       "    .dataframe thead th {\n",
       "        text-align: right;\n",
       "    }\n",
       "</style>\n",
       "<table border=\"1\" class=\"dataframe\">\n",
       "  <thead>\n",
       "    <tr style=\"text-align: right;\">\n",
       "      <th></th>\n",
       "      <th>Name</th>\n",
       "      <th>Age</th>\n",
       "      <th>City</th>\n",
       "      <th>Gender</th>\n",
       "      <th>Email</th>\n",
       "      <th>Join Date</th>\n",
       "      <th>Age Group</th>\n",
       "      <th>Sport</th>\n",
       "    </tr>\n",
       "  </thead>\n",
       "  <tbody>\n",
       "    <tr>\n",
       "      <th>0</th>\n",
       "      <td>Alice</td>\n",
       "      <td>25.0</td>\n",
       "      <td>New York</td>\n",
       "      <td>F</td>\n",
       "      <td>alice@example.com</td>\n",
       "      <td>1/5/2021</td>\n",
       "      <td>Adult</td>\n",
       "      <td>badminton</td>\n",
       "    </tr>\n",
       "    <tr>\n",
       "      <th>2</th>\n",
       "      <td>Bob</td>\n",
       "      <td>30.0</td>\n",
       "      <td>Los Angeles</td>\n",
       "      <td>M</td>\n",
       "      <td>bob@example.com</td>\n",
       "      <td>15-06-2020</td>\n",
       "      <td>Adult</td>\n",
       "      <td>football</td>\n",
       "    </tr>\n",
       "    <tr>\n",
       "      <th>4</th>\n",
       "      <td>David</td>\n",
       "      <td>22.0</td>\n",
       "      <td>Mumbai</td>\n",
       "      <td>M</td>\n",
       "      <td>david@example.com</td>\n",
       "      <td>12/11/2019</td>\n",
       "      <td>Minor</td>\n",
       "      <td>football</td>\n",
       "    </tr>\n",
       "    <tr>\n",
       "      <th>6</th>\n",
       "      <td>Alice</td>\n",
       "      <td>25.0</td>\n",
       "      <td>New York</td>\n",
       "      <td>F</td>\n",
       "      <td>alice@example.com</td>\n",
       "      <td>1/5/2021</td>\n",
       "      <td>Adult</td>\n",
       "      <td>badminton</td>\n",
       "    </tr>\n",
       "    <tr>\n",
       "      <th>7</th>\n",
       "      <td>Alice</td>\n",
       "      <td>25.0</td>\n",
       "      <td>New York</td>\n",
       "      <td>F</td>\n",
       "      <td>alice@example.com</td>\n",
       "      <td>1/5/2021</td>\n",
       "      <td>Adult</td>\n",
       "      <td>badminton</td>\n",
       "    </tr>\n",
       "  </tbody>\n",
       "</table>\n",
       "</div>"
      ],
      "text/plain": [
       "    Name   Age         City Gender              Email   Join Date Age Group  \\\n",
       "0  Alice  25.0     New York      F  alice@example.com    1/5/2021     Adult   \n",
       "2    Bob  30.0  Los Angeles      M    bob@example.com  15-06-2020     Adult   \n",
       "4  David  22.0       Mumbai      M  david@example.com  12/11/2019     Minor   \n",
       "6  Alice  25.0     New York      F  alice@example.com    1/5/2021     Adult   \n",
       "7  Alice  25.0     New York      F  alice@example.com    1/5/2021     Adult   \n",
       "\n",
       "       Sport  \n",
       "0  badminton  \n",
       "2   football  \n",
       "4   football  \n",
       "6  badminton  \n",
       "7  badminton  "
      ]
     },
     "execution_count": 85,
     "metadata": {},
     "output_type": "execute_result"
    }
   ],
   "source": [
    "def sports(x):\n",
    "    return (\"badminton\" if x == \"F\" else \"football\")\n",
    "df2[\"Sport\"] = df2[\"Gender\"].apply(sports)\n",
    "\n",
    "df2"
   ]
  },
  {
   "cell_type": "code",
   "execution_count": 87,
   "id": "a32e3359-f2fd-4404-9869-99065e19ae0b",
   "metadata": {},
   "outputs": [
    {
     "data": {
      "text/html": [
       "<div>\n",
       "<style scoped>\n",
       "    .dataframe tbody tr th:only-of-type {\n",
       "        vertical-align: middle;\n",
       "    }\n",
       "\n",
       "    .dataframe tbody tr th {\n",
       "        vertical-align: top;\n",
       "    }\n",
       "\n",
       "    .dataframe thead th {\n",
       "        text-align: right;\n",
       "    }\n",
       "</style>\n",
       "<table border=\"1\" class=\"dataframe\">\n",
       "  <thead>\n",
       "    <tr style=\"text-align: right;\">\n",
       "      <th></th>\n",
       "      <th>Name</th>\n",
       "      <th>Age</th>\n",
       "      <th>City</th>\n",
       "      <th>Gender</th>\n",
       "      <th>Email</th>\n",
       "      <th>Join Date</th>\n",
       "      <th>Age Group</th>\n",
       "      <th>Sport</th>\n",
       "    </tr>\n",
       "  </thead>\n",
       "  <tbody>\n",
       "    <tr>\n",
       "      <th>0</th>\n",
       "      <td>Alice</td>\n",
       "      <td>25.0</td>\n",
       "      <td>New York</td>\n",
       "      <td>Female</td>\n",
       "      <td>alice@example.com</td>\n",
       "      <td>1/5/2021</td>\n",
       "      <td>Adult</td>\n",
       "      <td>badminton</td>\n",
       "    </tr>\n",
       "    <tr>\n",
       "      <th>2</th>\n",
       "      <td>Bob</td>\n",
       "      <td>30.0</td>\n",
       "      <td>Los Angeles</td>\n",
       "      <td>Male</td>\n",
       "      <td>bob@example.com</td>\n",
       "      <td>15-06-2020</td>\n",
       "      <td>Adult</td>\n",
       "      <td>football</td>\n",
       "    </tr>\n",
       "    <tr>\n",
       "      <th>4</th>\n",
       "      <td>David</td>\n",
       "      <td>22.0</td>\n",
       "      <td>Mumbai</td>\n",
       "      <td>Male</td>\n",
       "      <td>david@example.com</td>\n",
       "      <td>12/11/2019</td>\n",
       "      <td>Minor</td>\n",
       "      <td>football</td>\n",
       "    </tr>\n",
       "    <tr>\n",
       "      <th>6</th>\n",
       "      <td>Alice</td>\n",
       "      <td>25.0</td>\n",
       "      <td>New York</td>\n",
       "      <td>Female</td>\n",
       "      <td>alice@example.com</td>\n",
       "      <td>1/5/2021</td>\n",
       "      <td>Adult</td>\n",
       "      <td>badminton</td>\n",
       "    </tr>\n",
       "    <tr>\n",
       "      <th>7</th>\n",
       "      <td>Alice</td>\n",
       "      <td>25.0</td>\n",
       "      <td>New York</td>\n",
       "      <td>Female</td>\n",
       "      <td>alice@example.com</td>\n",
       "      <td>1/5/2021</td>\n",
       "      <td>Adult</td>\n",
       "      <td>badminton</td>\n",
       "    </tr>\n",
       "  </tbody>\n",
       "</table>\n",
       "</div>"
      ],
      "text/plain": [
       "    Name   Age         City  Gender              Email   Join Date Age Group  \\\n",
       "0  Alice  25.0     New York  Female  alice@example.com    1/5/2021     Adult   \n",
       "2    Bob  30.0  Los Angeles    Male    bob@example.com  15-06-2020     Adult   \n",
       "4  David  22.0       Mumbai    Male  david@example.com  12/11/2019     Minor   \n",
       "6  Alice  25.0     New York  Female  alice@example.com    1/5/2021     Adult   \n",
       "7  Alice  25.0     New York  Female  alice@example.com    1/5/2021     Adult   \n",
       "\n",
       "       Sport  \n",
       "0  badminton  \n",
       "2   football  \n",
       "4   football  \n",
       "6  badminton  \n",
       "7  badminton  "
      ]
     },
     "execution_count": 87,
     "metadata": {},
     "output_type": "execute_result"
    }
   ],
   "source": [
    "gender_map = {\"M\" : \"Male\", \"F\" : \"Female\",\"O\":\"Other\"}\n",
    "df2[\"Gender\"] = df2[\"Gender\"].map(gender_map)\n",
    "df2"
   ]
  },
  {
   "cell_type": "code",
   "execution_count": 105,
   "id": "86fd070e-8cb0-4781-9612-51af6068f4d0",
   "metadata": {},
   "outputs": [],
   "source": [
    "city_replace = {\"Delhi\":\"New Delhi\", \"Mumbai\":\"New Mumbai\", \"New York\": \"Raju bhai ka dhaba\"} \n"
   ]
  },
  {
   "cell_type": "code",
   "execution_count": 107,
   "id": "141075e3-3c3e-4283-9a13-f9b3527eac3b",
   "metadata": {},
   "outputs": [
    {
     "data": {
      "text/html": [
       "<div>\n",
       "<style scoped>\n",
       "    .dataframe tbody tr th:only-of-type {\n",
       "        vertical-align: middle;\n",
       "    }\n",
       "\n",
       "    .dataframe tbody tr th {\n",
       "        vertical-align: top;\n",
       "    }\n",
       "\n",
       "    .dataframe thead th {\n",
       "        text-align: right;\n",
       "    }\n",
       "</style>\n",
       "<table border=\"1\" class=\"dataframe\">\n",
       "  <thead>\n",
       "    <tr style=\"text-align: right;\">\n",
       "      <th></th>\n",
       "      <th>Name</th>\n",
       "      <th>Age</th>\n",
       "      <th>City</th>\n",
       "      <th>Gender</th>\n",
       "      <th>Email</th>\n",
       "      <th>Join Date</th>\n",
       "      <th>Age Group</th>\n",
       "      <th>Sport</th>\n",
       "    </tr>\n",
       "  </thead>\n",
       "  <tbody>\n",
       "    <tr>\n",
       "      <th>0</th>\n",
       "      <td>Alice</td>\n",
       "      <td>25.0</td>\n",
       "      <td>Raju bhai ka dhaba</td>\n",
       "      <td>Female</td>\n",
       "      <td>alice@example.com</td>\n",
       "      <td>1/5/2021</td>\n",
       "      <td>Adult</td>\n",
       "      <td>badminton</td>\n",
       "    </tr>\n",
       "    <tr>\n",
       "      <th>2</th>\n",
       "      <td>Bob</td>\n",
       "      <td>30.0</td>\n",
       "      <td>Los Angeles</td>\n",
       "      <td>Male</td>\n",
       "      <td>bob@example.com</td>\n",
       "      <td>15-06-2020</td>\n",
       "      <td>Adult</td>\n",
       "      <td>football</td>\n",
       "    </tr>\n",
       "    <tr>\n",
       "      <th>4</th>\n",
       "      <td>David</td>\n",
       "      <td>22.0</td>\n",
       "      <td>New Mumbai</td>\n",
       "      <td>Male</td>\n",
       "      <td>david@example.com</td>\n",
       "      <td>12/11/2019</td>\n",
       "      <td>Minor</td>\n",
       "      <td>football</td>\n",
       "    </tr>\n",
       "    <tr>\n",
       "      <th>6</th>\n",
       "      <td>Alice</td>\n",
       "      <td>25.0</td>\n",
       "      <td>Raju bhai ka dhaba</td>\n",
       "      <td>Female</td>\n",
       "      <td>alice@example.com</td>\n",
       "      <td>1/5/2021</td>\n",
       "      <td>Adult</td>\n",
       "      <td>badminton</td>\n",
       "    </tr>\n",
       "    <tr>\n",
       "      <th>7</th>\n",
       "      <td>Alice</td>\n",
       "      <td>25.0</td>\n",
       "      <td>Raju bhai ka dhaba</td>\n",
       "      <td>Female</td>\n",
       "      <td>alice@example.com</td>\n",
       "      <td>1/5/2021</td>\n",
       "      <td>Adult</td>\n",
       "      <td>badminton</td>\n",
       "    </tr>\n",
       "  </tbody>\n",
       "</table>\n",
       "</div>"
      ],
      "text/plain": [
       "    Name   Age                City  Gender              Email   Join Date  \\\n",
       "0  Alice  25.0  Raju bhai ka dhaba  Female  alice@example.com    1/5/2021   \n",
       "2    Bob  30.0         Los Angeles    Male    bob@example.com  15-06-2020   \n",
       "4  David  22.0          New Mumbai    Male  david@example.com  12/11/2019   \n",
       "6  Alice  25.0  Raju bhai ka dhaba  Female  alice@example.com    1/5/2021   \n",
       "7  Alice  25.0  Raju bhai ka dhaba  Female  alice@example.com    1/5/2021   \n",
       "\n",
       "  Age Group      Sport  \n",
       "0     Adult  badminton  \n",
       "2     Adult   football  \n",
       "4     Minor   football  \n",
       "6     Adult  badminton  \n",
       "7     Adult  badminton  "
      ]
     },
     "execution_count": 107,
     "metadata": {},
     "output_type": "execute_result"
    }
   ],
   "source": [
    "df2[\"City\"] = df2[\"City\"].replace(city_replace)\n",
    "df2"
   ]
  },
  {
   "cell_type": "code",
   "execution_count": 109,
   "id": "cc6659bc-e497-401d-8327-8bbc8e9fb842",
   "metadata": {},
   "outputs": [
    {
     "name": "stdout",
     "output_type": "stream",
     "text": [
      "      Name   Age   Salary Department\n",
      "0  Shubham  25.0  50000.0         IT\n",
      "1     Amit  30.0      NaN         HR\n",
      "2    Priya  22.0  45000.0    Finance\n",
      "3  Shubham  25.0  50000.0         IT\n",
      "4      NaN  28.0  40000.0       None\n",
      "5     Ravi   NaN  47000.0         HR\n",
      "6    Kiran  30.0      NaN    Finance\n"
     ]
    }
   ],
   "source": [
    "import pandas as pd\n",
    "import numpy as np\n",
    "\n",
    "data = {\n",
    "    \"Name\": [\"Shubham\", \"Amit\", \"Priya\", \"Shubham\", np.nan, \"Ravi\", \"Kiran\"],\n",
    "    \"Age\": [25, 30, 22, 25, 28, np.nan, 30],\n",
    "    \"Salary\": [50000, np.nan, 45000, 50000, 40000, 47000, np.nan],\n",
    "    \"Department\": [\"IT\", \"HR\", \"Finance\", \"IT\", None, \"HR\", \"Finance\"]\n",
    "}\n",
    "\n",
    "df = pd.DataFrame(data)\n",
    "print(df)\n"
   ]
  },
  {
   "cell_type": "code",
   "execution_count": 113,
   "id": "fc2fe676-07ac-4614-b067-7bb824d4c188",
   "metadata": {},
   "outputs": [
    {
     "data": {
      "text/html": [
       "<div>\n",
       "<style scoped>\n",
       "    .dataframe tbody tr th:only-of-type {\n",
       "        vertical-align: middle;\n",
       "    }\n",
       "\n",
       "    .dataframe tbody tr th {\n",
       "        vertical-align: top;\n",
       "    }\n",
       "\n",
       "    .dataframe thead th {\n",
       "        text-align: right;\n",
       "    }\n",
       "</style>\n",
       "<table border=\"1\" class=\"dataframe\">\n",
       "  <thead>\n",
       "    <tr style=\"text-align: right;\">\n",
       "      <th></th>\n",
       "      <th>Name</th>\n",
       "      <th>Age</th>\n",
       "      <th>Salary</th>\n",
       "      <th>Department</th>\n",
       "    </tr>\n",
       "  </thead>\n",
       "  <tbody>\n",
       "    <tr>\n",
       "      <th>0</th>\n",
       "      <td>Shubham</td>\n",
       "      <td>25.0</td>\n",
       "      <td>50000.0</td>\n",
       "      <td>IT</td>\n",
       "    </tr>\n",
       "    <tr>\n",
       "      <th>1</th>\n",
       "      <td>Amit</td>\n",
       "      <td>30.0</td>\n",
       "      <td>NaN</td>\n",
       "      <td>HR</td>\n",
       "    </tr>\n",
       "    <tr>\n",
       "      <th>2</th>\n",
       "      <td>Priya</td>\n",
       "      <td>22.0</td>\n",
       "      <td>45000.0</td>\n",
       "      <td>Finance</td>\n",
       "    </tr>\n",
       "    <tr>\n",
       "      <th>3</th>\n",
       "      <td>Shubham</td>\n",
       "      <td>25.0</td>\n",
       "      <td>50000.0</td>\n",
       "      <td>IT</td>\n",
       "    </tr>\n",
       "    <tr>\n",
       "      <th>4</th>\n",
       "      <td>NaN</td>\n",
       "      <td>28.0</td>\n",
       "      <td>40000.0</td>\n",
       "      <td>None</td>\n",
       "    </tr>\n",
       "  </tbody>\n",
       "</table>\n",
       "</div>"
      ],
      "text/plain": [
       "      Name   Age   Salary Department\n",
       "0  Shubham  25.0  50000.0         IT\n",
       "1     Amit  30.0      NaN         HR\n",
       "2    Priya  22.0  45000.0    Finance\n",
       "3  Shubham  25.0  50000.0         IT\n",
       "4      NaN  28.0  40000.0       None"
      ]
     },
     "execution_count": 113,
     "metadata": {},
     "output_type": "execute_result"
    }
   ],
   "source": [
    "df.head()"
   ]
  },
  {
   "cell_type": "code",
   "execution_count": 115,
   "id": "7ef3ad17-ee89-43d4-9d73-d62afddd2c99",
   "metadata": {},
   "outputs": [
    {
     "data": {
      "text/plain": [
       "(7, 4)"
      ]
     },
     "execution_count": 115,
     "metadata": {},
     "output_type": "execute_result"
    }
   ],
   "source": [
    "df.shape"
   ]
  },
  {
   "cell_type": "code",
   "execution_count": 121,
   "id": "2ba2996a-00b8-40fc-bb9e-555abe51b115",
   "metadata": {},
   "outputs": [
    {
     "data": {
      "text/plain": [
       "Index(['Name', 'Age', 'Salary', 'Department'], dtype='object')"
      ]
     },
     "execution_count": 121,
     "metadata": {},
     "output_type": "execute_result"
    }
   ],
   "source": [
    "df.columns"
   ]
  },
  {
   "cell_type": "code",
   "execution_count": 123,
   "id": "61b83fb1-d349-48c4-94f4-97e69e5fbeee",
   "metadata": {},
   "outputs": [
    {
     "data": {
      "text/plain": [
       "<bound method DataFrame.isnull of       Name   Age   Salary Department\n",
       "0  Shubham  25.0  50000.0         IT\n",
       "1     Amit  30.0      NaN         HR\n",
       "2    Priya  22.0  45000.0    Finance\n",
       "3  Shubham  25.0  50000.0         IT\n",
       "4      NaN  28.0  40000.0       None\n",
       "5     Ravi   NaN  47000.0         HR\n",
       "6    Kiran  30.0      NaN    Finance>"
      ]
     },
     "execution_count": 123,
     "metadata": {},
     "output_type": "execute_result"
    }
   ],
   "source": [
    "df.isnull"
   ]
  },
  {
   "cell_type": "code",
   "execution_count": 131,
   "id": "9fb7ad95-591a-4536-8c71-9f6d47691f34",
   "metadata": {},
   "outputs": [
    {
     "data": {
      "text/plain": [
       "Name          1\n",
       "Age           1\n",
       "Salary        2\n",
       "Department    1\n",
       "dtype: int64"
      ]
     },
     "execution_count": 131,
     "metadata": {},
     "output_type": "execute_result"
    }
   ],
   "source": [
    "df.isnull().sum()"
   ]
  },
  {
   "cell_type": "code",
   "execution_count": 133,
   "id": "16f6f4d1-f578-4337-9259-b97abf00d92a",
   "metadata": {},
   "outputs": [
    {
     "data": {
      "text/plain": [
       "0    False\n",
       "1    False\n",
       "2    False\n",
       "3    False\n",
       "4    False\n",
       "5     True\n",
       "6    False\n",
       "Name: Age, dtype: bool"
      ]
     },
     "execution_count": 133,
     "metadata": {},
     "output_type": "execute_result"
    }
   ],
   "source": [
    "df[\"Age\"].isnull()"
   ]
  },
  {
   "cell_type": "code",
   "execution_count": 137,
   "id": "fe15e434-1d15-462c-a982-566e8778fb42",
   "metadata": {},
   "outputs": [
    {
     "data": {
      "text/html": [
       "<div>\n",
       "<style scoped>\n",
       "    .dataframe tbody tr th:only-of-type {\n",
       "        vertical-align: middle;\n",
       "    }\n",
       "\n",
       "    .dataframe tbody tr th {\n",
       "        vertical-align: top;\n",
       "    }\n",
       "\n",
       "    .dataframe thead th {\n",
       "        text-align: right;\n",
       "    }\n",
       "</style>\n",
       "<table border=\"1\" class=\"dataframe\">\n",
       "  <thead>\n",
       "    <tr style=\"text-align: right;\">\n",
       "      <th></th>\n",
       "      <th>Name</th>\n",
       "      <th>Age</th>\n",
       "      <th>Salary</th>\n",
       "      <th>Department</th>\n",
       "    </tr>\n",
       "  </thead>\n",
       "  <tbody>\n",
       "    <tr>\n",
       "      <th>0</th>\n",
       "      <td>Shubham</td>\n",
       "      <td>25.000000</td>\n",
       "      <td>50000.0</td>\n",
       "      <td>IT</td>\n",
       "    </tr>\n",
       "    <tr>\n",
       "      <th>1</th>\n",
       "      <td>Amit</td>\n",
       "      <td>30.000000</td>\n",
       "      <td>NaN</td>\n",
       "      <td>HR</td>\n",
       "    </tr>\n",
       "    <tr>\n",
       "      <th>2</th>\n",
       "      <td>Priya</td>\n",
       "      <td>22.000000</td>\n",
       "      <td>45000.0</td>\n",
       "      <td>Finance</td>\n",
       "    </tr>\n",
       "    <tr>\n",
       "      <th>3</th>\n",
       "      <td>Shubham</td>\n",
       "      <td>25.000000</td>\n",
       "      <td>50000.0</td>\n",
       "      <td>IT</td>\n",
       "    </tr>\n",
       "    <tr>\n",
       "      <th>4</th>\n",
       "      <td>NaN</td>\n",
       "      <td>28.000000</td>\n",
       "      <td>40000.0</td>\n",
       "      <td>None</td>\n",
       "    </tr>\n",
       "    <tr>\n",
       "      <th>5</th>\n",
       "      <td>Ravi</td>\n",
       "      <td>26.666667</td>\n",
       "      <td>47000.0</td>\n",
       "      <td>HR</td>\n",
       "    </tr>\n",
       "    <tr>\n",
       "      <th>6</th>\n",
       "      <td>Kiran</td>\n",
       "      <td>30.000000</td>\n",
       "      <td>NaN</td>\n",
       "      <td>Finance</td>\n",
       "    </tr>\n",
       "  </tbody>\n",
       "</table>\n",
       "</div>"
      ],
      "text/plain": [
       "      Name        Age   Salary Department\n",
       "0  Shubham  25.000000  50000.0         IT\n",
       "1     Amit  30.000000      NaN         HR\n",
       "2    Priya  22.000000  45000.0    Finance\n",
       "3  Shubham  25.000000  50000.0         IT\n",
       "4      NaN  28.000000  40000.0       None\n",
       "5     Ravi  26.666667  47000.0         HR\n",
       "6    Kiran  30.000000      NaN    Finance"
      ]
     },
     "execution_count": 137,
     "metadata": {},
     "output_type": "execute_result"
    }
   ],
   "source": [
    "df[\"Age\"] = df[\"Age\"].fillna(df[\"Age\"].mean())\n",
    "df"
   ]
  },
  {
   "cell_type": "code",
   "execution_count": 139,
   "id": "4bc29b3d-7f10-4040-bbaf-685720207267",
   "metadata": {},
   "outputs": [],
   "source": [
    "import numpy as np\n"
   ]
  },
  {
   "cell_type": "code",
   "execution_count": 145,
   "id": "09735a79-eb43-4a7d-bce3-dea5876d0f56",
   "metadata": {},
   "outputs": [
    {
     "data": {
      "text/plain": [
       "array([ 1,  2,  3,  4,  5,  6,  7,  8,  9, 10])"
      ]
     },
     "execution_count": 145,
     "metadata": {},
     "output_type": "execute_result"
    }
   ],
   "source": [
    "arr = np.array(np.arange(1,11))\n",
    "arr"
   ]
  },
  {
   "cell_type": "code",
   "execution_count": 147,
   "id": "b52fbf52-8705-4998-8e1b-da38f907a647",
   "metadata": {},
   "outputs": [
    {
     "data": {
      "text/plain": [
       "array([[0., 0., 0.],\n",
       "       [0., 0., 0.],\n",
       "       [0., 0., 0.]])"
      ]
     },
     "execution_count": 147,
     "metadata": {},
     "output_type": "execute_result"
    }
   ],
   "source": [
    "np.zeros((3,3))"
   ]
  },
  {
   "cell_type": "code",
   "execution_count": 149,
   "id": "d669a6a0-aea3-4d97-ae84-8fd9b795f60d",
   "metadata": {},
   "outputs": [
    {
     "data": {
      "text/plain": [
       "array([10, 11, 12, 13, 14, 15, 16, 17, 18, 19, 20])"
      ]
     },
     "execution_count": 149,
     "metadata": {},
     "output_type": "execute_result"
    }
   ],
   "source": [
    "arr = np.arange(10,21)\n",
    "arr"
   ]
  },
  {
   "cell_type": "code",
   "execution_count": 151,
   "id": "4ee8cbf8-e09f-4e1d-9984-d36d2e478838",
   "metadata": {},
   "outputs": [
    {
     "data": {
      "text/plain": [
       "array([[1., 1., 1., 1.],\n",
       "       [1., 1., 1., 1.],\n",
       "       [1., 1., 1., 1.]])"
      ]
     },
     "execution_count": 151,
     "metadata": {},
     "output_type": "execute_result"
    }
   ],
   "source": [
    "np.ones((3,4))"
   ]
  },
  {
   "cell_type": "code",
   "execution_count": 153,
   "id": "0a61a747-a2c6-4828-8f01-da9365f5882b",
   "metadata": {},
   "outputs": [
    {
     "data": {
      "text/plain": [
       "array([ 1.        ,  1.47368421,  1.94736842,  2.42105263,  2.89473684,\n",
       "        3.36842105,  3.84210526,  4.31578947,  4.78947368,  5.26315789,\n",
       "        5.73684211,  6.21052632,  6.68421053,  7.15789474,  7.63157895,\n",
       "        8.10526316,  8.57894737,  9.05263158,  9.52631579, 10.        ])"
      ]
     },
     "execution_count": 153,
     "metadata": {},
     "output_type": "execute_result"
    }
   ],
   "source": [
    "np.linspace(1,10,20)"
   ]
  },
  {
   "cell_type": "code",
   "execution_count": 159,
   "id": "8c3e2c27-bb48-40a3-86ff-65bbdb867082",
   "metadata": {},
   "outputs": [
    {
     "data": {
      "text/plain": [
       "array([[1., 0., 0., 0.],\n",
       "       [0., 1., 0., 0.],\n",
       "       [0., 0., 1., 0.],\n",
       "       [0., 0., 0., 1.]])"
      ]
     },
     "execution_count": 159,
     "metadata": {},
     "output_type": "execute_result"
    }
   ],
   "source": [
    "np.identity(4)"
   ]
  },
  {
   "cell_type": "code",
   "execution_count": 161,
   "id": "54aeb81e-f92e-4806-9e08-ee79327d5809",
   "metadata": {},
   "outputs": [
    {
     "data": {
      "text/plain": [
       "array([[1., 0., 0., 0.],\n",
       "       [0., 1., 0., 0.],\n",
       "       [0., 0., 1., 0.],\n",
       "       [0., 0., 0., 1.]])"
      ]
     },
     "execution_count": 161,
     "metadata": {},
     "output_type": "execute_result"
    }
   ],
   "source": [
    "np.eye(4)"
   ]
  },
  {
   "cell_type": "code",
   "execution_count": 173,
   "id": "ac1e4450-c854-43b4-b8d2-92d5b9bcd8f5",
   "metadata": {},
   "outputs": [
    {
     "data": {
      "text/plain": [
       "array([41, 49, 45, 36, 28, 13, 43,  3, 50,  5, 44, 11, 10, 38, 40, 13, 28,\n",
       "       13, 33,  4, 34, 13, 27, 10, 27, 23, 46, 47, 12, 45, 50, 45, 32,  7,\n",
       "       48, 16, 20, 34, 10, 35, 38,  5, 41, 13, 25, 35, 30, 10, 12, 18])"
      ]
     },
     "execution_count": 173,
     "metadata": {},
     "output_type": "execute_result"
    }
   ],
   "source": [
    "np.random.randint(1,51,50)\n"
   ]
  },
  {
   "cell_type": "code",
   "execution_count": 181,
   "id": "a9aaa556-ac54-4d5a-b91d-fec6f65267ef",
   "metadata": {},
   "outputs": [
    {
     "data": {
      "text/plain": [
       "array([[0, 1, 2],\n",
       "       [3, 4, 5],\n",
       "       [6, 7, 8]])"
      ]
     },
     "execution_count": 181,
     "metadata": {},
     "output_type": "execute_result"
    }
   ],
   "source": [
    "np.arange(9).reshape(3, 3)"
   ]
  },
  {
   "cell_type": "code",
   "execution_count": 189,
   "id": "d0f95ec2-bdd5-4e46-b85d-03dbb1ea419b",
   "metadata": {},
   "outputs": [
    {
     "data": {
      "text/plain": [
       "array([[ 1,  2,  3,  4,  5],\n",
       "       [ 6,  7,  8,  9, 10],\n",
       "       [11, 12, 13, 14, 15],\n",
       "       [16, 17, 18, 19, 20],\n",
       "       [21, 22, 23, 24, 25]])"
      ]
     },
     "execution_count": 189,
     "metadata": {},
     "output_type": "execute_result"
    }
   ],
   "source": [
    "np.arange(1,26).reshape(5,5)"
   ]
  },
  {
   "cell_type": "code",
   "execution_count": 221,
   "id": "d6d1b20f-556f-4cc7-b85e-b1295827eb94",
   "metadata": {},
   "outputs": [
    {
     "data": {
      "text/plain": [
       "array([[1, 2, 3],\n",
       "       [4, 5, 6],\n",
       "       [7, 8, 9]])"
      ]
     },
     "execution_count": 221,
     "metadata": {},
     "output_type": "execute_result"
    }
   ],
   "source": [
    "arr = np.arange(1, 10).reshape(3, 3)\n",
    "arr\n"
   ]
  },
  {
   "cell_type": "code",
   "execution_count": 223,
   "id": "6a7afb81-f360-4f34-ab13-2bbee8f91a96",
   "metadata": {},
   "outputs": [
    {
     "data": {
      "text/plain": [
       "array([7, 8, 9])"
      ]
     },
     "execution_count": 223,
     "metadata": {},
     "output_type": "execute_result"
    }
   ],
   "source": [
    "arr[-1,:]"
   ]
  },
  {
   "cell_type": "code",
   "execution_count": 225,
   "id": "b3c24396-71f4-4f86-9ae3-f32a23ebd2d5",
   "metadata": {},
   "outputs": [
    {
     "data": {
      "text/plain": [
       "array([[5, 6],\n",
       "       [8, 9]])"
      ]
     },
     "execution_count": 225,
     "metadata": {},
     "output_type": "execute_result"
    }
   ],
   "source": [
    "arr[1:4,1:4]"
   ]
  },
  {
   "cell_type": "code",
   "execution_count": 227,
   "id": "4a1c9c06-0900-478d-85ae-e0e6b53c5e36",
   "metadata": {},
   "outputs": [
    {
     "data": {
      "text/plain": [
       "array([2, 4, 6, 8])"
      ]
     },
     "execution_count": 227,
     "metadata": {},
     "output_type": "execute_result"
    }
   ],
   "source": [
    "arr[arr % 2 ==0]"
   ]
  },
  {
   "cell_type": "code",
   "execution_count": 229,
   "id": "00d49e8f-d3dd-4074-8863-538e6b3e3369",
   "metadata": {},
   "outputs": [
    {
     "data": {
      "text/plain": [
       "45"
      ]
     },
     "execution_count": 229,
     "metadata": {},
     "output_type": "execute_result"
    }
   ],
   "source": [
    "arr.sum()"
   ]
  },
  {
   "cell_type": "code",
   "execution_count": 231,
   "id": "b472ed1f-f324-42eb-9493-c5c86ff2545d",
   "metadata": {},
   "outputs": [
    {
     "data": {
      "text/plain": [
       "array([12, 15, 18])"
      ]
     },
     "execution_count": 231,
     "metadata": {},
     "output_type": "execute_result"
    }
   ],
   "source": [
    "arr.sum(0)"
   ]
  },
  {
   "cell_type": "raw",
   "id": "ec8a21ee-862c-43d7-98d3-84035c5e925e",
   "metadata": {},
   "source": [
    "arr.sum(1)"
   ]
  },
  {
   "cell_type": "code",
   "execution_count": null,
   "id": "a06fdf70-01f9-4891-b0e9-43ae8549d7b8",
   "metadata": {},
   "outputs": [],
   "source": []
  }
 ],
 "metadata": {
  "kernelspec": {
   "display_name": "Python [conda env:base] *",
   "language": "python",
   "name": "conda-base-py"
  },
  "language_info": {
   "codemirror_mode": {
    "name": "ipython",
    "version": 3
   },
   "file_extension": ".py",
   "mimetype": "text/x-python",
   "name": "python",
   "nbconvert_exporter": "python",
   "pygments_lexer": "ipython3",
   "version": "3.12.7"
  }
 },
 "nbformat": 4,
 "nbformat_minor": 5
}
