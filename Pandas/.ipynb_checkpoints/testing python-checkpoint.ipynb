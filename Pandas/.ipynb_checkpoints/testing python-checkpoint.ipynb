{
 "cells": [
  {
   "cell_type": "code",
   "execution_count": 3,
   "id": "0171e512-437b-40c3-b1fa-fad107fa23d2",
   "metadata": {},
   "outputs": [
    {
     "name": "stdout",
     "output_type": "stream",
     "text": [
      "hello\n"
     ]
    }
   ],
   "source": [
    "print(\"hello\")"
   ]
  },
  {
   "cell_type": "code",
   "execution_count": 5,
   "id": "c9cda2c5-1f95-4f98-a2d7-af93415b9ba3",
   "metadata": {},
   "outputs": [],
   "source": [
    "a = 5\n",
    "b= 6"
   ]
  },
  {
   "cell_type": "code",
   "execution_count": 7,
   "id": "363047fc-29b8-445d-ac23-f614e24287ab",
   "metadata": {},
   "outputs": [],
   "source": [
    "c = a +b"
   ]
  },
  {
   "cell_type": "code",
   "execution_count": 9,
   "id": "d1a6dbf8-7751-42a7-8845-52977b7e4b36",
   "metadata": {},
   "outputs": [
    {
     "name": "stdout",
     "output_type": "stream",
     "text": [
      "11\n"
     ]
    }
   ],
   "source": [
    "print(c)"
   ]
  },
  {
   "cell_type": "code",
   "execution_count": 11,
   "id": "7a25ab6e-0629-4419-ae5f-1665b011ff59",
   "metadata": {},
   "outputs": [
    {
     "data": {
      "text/plain": [
       "11"
      ]
     },
     "execution_count": 11,
     "metadata": {},
     "output_type": "execute_result"
    }
   ],
   "source": [
    "c\n"
   ]
  },
  {
   "cell_type": "code",
   "execution_count": 13,
   "id": "448da8fd-73c7-4088-b446-60389e276549",
   "metadata": {},
   "outputs": [],
   "source": [
    "a = input()\n"
   ]
  },
  {
   "cell_type": "code",
   "execution_count": 17,
   "id": "e5234d45-85cb-4d42-8b63-f222a8eacbc2",
   "metadata": {},
   "outputs": [
    {
     "name": "stdout",
     "output_type": "stream",
     "text": [
      "ok\n"
     ]
    }
   ],
   "source": [
    "if(a > 11):\n",
    "    print(\"ok\")"
   ]
  },
  {
   "cell_type": "code",
   "execution_count": null,
   "id": "dd5bd168-dbd6-4224-8ffd-b27af8796f08",
   "metadata": {},
   "outputs": [],
   "source": []
  }
 ],
 "metadata": {
  "kernelspec": {
   "display_name": "Python [conda env:base] *",
   "language": "python",
   "name": "conda-base-py"
  },
  "language_info": {
   "codemirror_mode": {
    "name": "ipython",
    "version": 3
   },
   "file_extension": ".py",
   "mimetype": "text/x-python",
   "name": "python",
   "nbconvert_exporter": "python",
   "pygments_lexer": "ipython3",
   "version": "3.12.7"
  }
 },
 "nbformat": 4,
 "nbformat_minor": 5
}
