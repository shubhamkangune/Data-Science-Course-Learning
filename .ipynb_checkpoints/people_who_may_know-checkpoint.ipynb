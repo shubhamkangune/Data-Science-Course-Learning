{
 "cells": [
  {
   "cell_type": "code",
   "execution_count": 39,
   "id": "df56fd95-1ec5-42b8-bf02-8393bce4ef53",
   "metadata": {},
   "outputs": [
    {
     "ename": "SyntaxError",
     "evalue": "invalid syntax (3971027475.py, line 23)",
     "output_type": "error",
     "traceback": [
      "\u001b[1;36m  Cell \u001b[1;32mIn[39], line 23\u001b[1;36m\u001b[0m\n\u001b[1;33m    return [user_id for user_id, mutual_count in sorted_suggestions , ]\u001b[0m\n\u001b[1;37m                                                                    ^\u001b[0m\n\u001b[1;31mSyntaxError\u001b[0m\u001b[1;31m:\u001b[0m invalid syntax\n"
     ]
    }
   ],
   "source": [
    "import json\n",
    "def load_data(filename):\n",
    "    with open(filename,\"r\") as f:\n",
    "        return json.load(f)\n",
    "def find_people_you_may_know(user_id, data):\n",
    "    user_friends = {}\n",
    "    for user in data['users']:\n",
    "        user_friends[user['id']] = set(user['friends'])\n",
    "    if user_id not in user_friends:\n",
    "        return []\n",
    "\n",
    "    direct_friends = user_friends[user_id]\n",
    "\n",
    "    suggestions = {}\n",
    "    for friend in direct_friends:\n",
    "        for mutual in user_friends[friend]:\n",
    "            if mutual != user_id and mutual not in direct_friends:\n",
    "                # count mutual friends \n",
    "                suggestions[mutual] = suggestions.get(mutual, 0) +1\n",
    "    sorted_suggestions = sorted(suggestions.items(), key=lambda x:x[1], reverse=True)\n",
    "\n",
    "    return [user_id for user_id, mutual_count in sorted_suggestions , ]\n",
    "# load data\n",
    "data = load_data(\"massive_data.json\")\n",
    "user_id = 10\n",
    "recc = find_people_you_may_know(user_id,data)\n",
    "\n",
    "print(recc)"
   ]
  },
  {
   "cell_type": "code",
   "execution_count": null,
   "id": "ee2505bd-72dc-489d-a718-4e088742f7d4",
   "metadata": {},
   "outputs": [],
   "source": []
  }
 ],
 "metadata": {
  "kernelspec": {
   "display_name": "Python [conda env:base] *",
   "language": "python",
   "name": "conda-base-py"
  },
  "language_info": {
   "codemirror_mode": {
    "name": "ipython",
    "version": 3
   },
   "file_extension": ".py",
   "mimetype": "text/x-python",
   "name": "python",
   "nbconvert_exporter": "python",
   "pygments_lexer": "ipython3",
   "version": "3.12.7"
  }
 },
 "nbformat": 4,
 "nbformat_minor": 5
}
